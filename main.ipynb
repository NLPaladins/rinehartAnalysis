{
 "cells": [
  {
   "cell_type": "markdown",
   "metadata": {
    "collapsed": true
   },
   "source": [
    "# NLP - Project 1\n",
    "## Rinehart Analysis\n",
    "**Team**: *Jean Merlet, Konstantinos Georgiou, Matt Lane*"
   ]
  },
  {
   "cell_type": "code",
   "execution_count": 2,
   "metadata": {},
   "outputs": [],
   "source": [
    "# Import Jupyter Widgets\n",
    "import os\n",
    "import ipywidgets as widgets\n",
    "from ipywidgets import interact, interact_manual\n",
    "from IPython.display import display"
   ]
  },
  {
   "cell_type": "code",
   "execution_count": 3,
   "metadata": {},
   "outputs": [
    {
     "name": "stdout",
     "output_type": "stream",
     "text": [
      "Are you on Google Collab? Clone project?\n"
     ]
    },
    {
     "data": {
      "application/vnd.jupyter.widget-view+json": {
       "model_id": "2f96f15895224218978ee0ef32d52fd7",
       "version_major": 2,
       "version_minor": 0
      },
      "text/plain": [
       "Button(description='Yes, clone', style=ButtonStyle())"
      ]
     },
     "metadata": {},
     "output_type": "display_data"
    }
   ],
   "source": [
    "# Clone the repository if you're in Google Collab\n",
    "def clone_project(is_collab: bool = False):\n",
    "    print(\"Cloning Project..\")\n",
    "    !git clone https://github.com/NLPaladins/rinehartAnalysis.git\n",
    "    print(\"Project cloned.\")\n",
    "    print(\"Changing dir..\")\n",
    "    os.chdir('rinehartAnalysis')\n",
    "    \n",
    "print(\"Are you on Google Collab? Clone project? (If you do this you will ove)\")\n",
    "btn = widgets.Button(description=\"Yes, clone\")\n",
    "btn.on_click(clone_project)\n",
    "display(btn)"
   ]
  },
  {
   "cell_type": "markdown",
   "metadata": {},
   "source": [
    "If you are on Google Collab, to save changes, click **File > Save a copy on Gihtub**"
   ]
  },
  {
   "cell_type": "code",
   "execution_count": 4,
   "metadata": {},
   "outputs": [
    {
     "name": "stdout",
     "output_type": "stream",
     "text": [
      "Current dir:\n",
      "/home/drkostas/GDrive/Projects/UTK/rinehartAnalysis\n",
      "Dir Contents:\n",
      "['.gitignore', 'nlp_libs', 'requirements.txt', '.ipynb_checkpoints', 'logs', 'main.py', '.git', '.idea', 'Makefile', 'setup.py', 'TODO.md', 'README.md', 'main.ipynb', 'confs']\n"
     ]
    }
   ],
   "source": [
    "print(\"Current dir:\")\n",
    "print(os.getcwd())\n",
    "print(\"Dir Contents:\")\n",
    "print(os.listdir())"
   ]
  },
  {
   "cell_type": "markdown",
   "metadata": {
    "pycharm": {
     "name": "#%%\n"
    }
   },
   "source": [
    "## Load Libraries and setup"
   ]
  },
  {
   "cell_type": "code",
   "execution_count": 5,
   "metadata": {},
   "outputs": [],
   "source": [
    "import traceback\n",
    "import argparse\n",
    "from importlib import reload as reload_lib\n",
    "from pprint import pprint\n",
    "\n",
    "# Custom libs\n",
    "from nlp_libs import Configuration, ColorizedLogger, ProcessedBook\n",
    "# Import this way the libs you want to dynamically change and reload \n",
    "import nlp_libs.books.processed_book as books_lib\n"
   ]
  },
  {
   "cell_type": "markdown",
   "metadata": {},
   "source": [
    "### Libraries Overview\n",
    "All the libraries are located under *\"\\<project root>/nlp_libs\"*\n",
    "- ***ProcessedBook***: Loc: **books/processed_book.py**, Desc: *Book Pre-processor*\n",
    "- ***Configuration***: Loc: **configuration/configuration.py**, Desc: *Configuration Loader*\n",
    "- ***ColorizedLogger***: Loc: **fancy_logger/colorized_logger.py**, Desc: *Logger with formatted text capabilities*"
   ]
  },
  {
   "cell_type": "code",
   "execution_count": 12,
   "metadata": {},
   "outputs": [
    {
     "name": "stdout",
     "output_type": "stream",
     "text": [
      "tag: proj1\r\n",
      "data_loader:\r\n",
      "  config:\r\n",
      "    books:\r\n",
      "      The_Circular_Staircase:\r\n",
      "        url: https://www.gutenberg.org/files/434/434-0.txt\r\n",
      "        detectives:\r\n",
      "          - Rachel Innes\r\n",
      "        suspects:\r\n",
      "          - Liddy\r\n",
      "          - Halsey\r\n",
      "          - Gertrude\r\n",
      "          - Paul Armstrong\r\n",
      "          - Doctor Walker\r\n",
      "          - Louise Armstrong\r\n",
      "          - Arnold Armstrong\r\n",
      "          - Mrs. Ralston\r\n",
      "          - Thomas Johnson\r\n",
      "          - Aunt Ray\r\n",
      "          - Mary Anne\r\n",
      "          - Burke\r\n",
      "          - Joe Jefferson\r\n",
      "          - Anne Watson\r\n",
      "          - Eliza Klinefelter\r\n",
      "          - Beulah\r\n",
      "          - Jack Bailey\r\n",
      "          - Mr. Jarvis\r\n",
      "          - Warner\r\n",
      "          - Mr. Jamieson\r\n",
      "          - Mr. Harton\r\n",
      "          - Rosie\r\n",
      "          - Sam Bohannon\r\n",
      "          - Beatrice Fairfax\r\n",
      "          - Mrs. Ogden Fitzhugh\r\n",
      "          - Mr. Trautman\r\n",
      "          - Doctor Stewart\r\n",
      "          - Doctor Wainwright\r\n",
      "          - Alexander Graham\r\n",
      "          - Nina Carrington\r\n",
      "          - Doctor Willoughby\r\n",
      "          - Riggs\r\n",
      "          - Covingtons\r\n",
      "          - Sam Huston\r\n",
      "          - Anne Endicott\r\n",
      "          - Barbara Fitzhugh\r\n",
      "          - Lucien Wallace\r\n",
      "          - Anna Whitcomb\r\n",
      "          - Madame Sweeny\r\n",
      "          - Sam Bohannon\r\n",
      "          - Ella Stewart\r\n",
      "          - Annie Morton\r\n",
      "          - Matthew Geist\r\n",
      "          - Mattie Bliss\r\n",
      "          - Doctor Boyle\r\n",
      "        crime_type: example\r\n",
      "      The_Man_in_Lower_Ten:\r\n",
      "        url: https://www.gutenberg.org/files/1869/1869-0.txt\r\n",
      "        detectives:\r\n",
      "          - man1\r\n",
      "          - man2\r\n",
      "        suspects:\r\n",
      "          - man3\r\n",
      "          - man4\r\n",
      "        crime_type: example\r\n",
      "      The_Breaking_Point:\r\n",
      "        url: https://www.gutenberg.org/files/1601/1601-0.txt\r\n",
      "        detectives:\r\n",
      "          - man1\r\n",
      "          - man2\r\n",
      "        suspects:\r\n",
      "          - man3\r\n",
      "          - man4\r\n",
      "        crime_type: example\r\n",
      "      Oh,_Well,_You_Know_How_Women_Are!:\r\n",
      "        url: https://www.gutenberg.org/cache/epub/24259/pg24259.txt\r\n",
      "        detectives:\r\n",
      "          - man1\r\n",
      "          - man2\r\n",
      "        suspects:\r\n",
      "          - man3\r\n",
      "          - man4\r\n",
      "        crime_type: example\r\n",
      "      The_Window_at_the_White_Cat:\r\n",
      "        url: https://www.gutenberg.org/cache/epub/24259/pg24259.txt\r\n",
      "        detectives:\r\n",
      "          - man1\r\n",
      "          - man2\r\n",
      "        suspects:\r\n",
      "          - man3\r\n",
      "          - man4\r\n",
      "        crime_type: example\r\n",
      "\r\n",
      "\r\n",
      "# --- More books --- #\r\n",
      "# The_Window_at_the_White_Cat: https://www.gutenberg.org/cache/epub/34020/pg34020.txt\r\n",
      "# The_Amazing_Interlude: https://www.gutenberg.org/cache/epub/1590/pg1590.txt\r\n",
      "# Dangerous_Days: https://www.gutenberg.org/files/1693/1693-0.txt\r\n",
      "# The_Case_of_Jennie_Brice: https://www.gutenberg.org/cache/epub/11127/pg11127.txt\r\n",
      "# The_After_House: https://www.gutenberg.org/files/2358/2358-0.txt\r\n",
      "# The_Street_of_Seven_Stars: https://www.gutenberg.org/files/1214/1214-0.txt\r\n",
      "# When_a_Man_Marries: https://www.gutenberg.org/files/1671/1671-0.txt\r\n",
      "# Locked_Doors: https://www.gutenberg.org/files/54273/54273-0.txt\r\n",
      "# The_Bat: https://www.gutenberg.org/cache/epub/2019/pg2019.txt\r\n",
      "# The_Confession: https://www.gutenberg.org/cache/epub/1963/pg1963.txt\r\n",
      "# Bab:_A_Sub-Deb: https://www.gutenberg.org/cache/epub/366/pg366.txt\r\n",
      "# Tenting_To-night: https://www.gutenberg.org/cache/epub/19475/pg19475.txt\r\n",
      "# Long_Live_the_King: https://www.gutenberg.org/files/2714/2714-0.txt\r\n",
      "# Affinities and Other Stories: https://www.gutenberg.org/cache/epub/41408/pg41408.txt\r\n",
      "# Sight_Unseen: https://www.gutenberg.org/files/1960/1960-0.txt\r\n",
      "# Tish,_The_Chronicle_of_Her_Escapades_and_Excursions: https://www.gutenberg.org/cache/epub/3464/pg3464.txt\r\n",
      "# A_Poor_Wise_Man: https://www.gutenberg.org/files/1970/1970-0.txt\r\n",
      "# The_Truce_of_God: https://www.gutenberg.org/cache/epub/14573/pg14573.txt\r\n",
      "# More_Tish: https://www.gutenberg.org/cache/epub/19851/pg19851.txt\r\n",
      "# Where_There's_A_Will: https://www.gutenberg.org/cache/epub/330/pg330.txt\r\n",
      "# K: https://www.gutenberg.org/files/9931/9931-0.txt\r\n"
     ]
    }
   ],
   "source": [
    "# The path of configuration and log save path\n",
    "config_path = \"confs/proj_1.yml\"  # Open files > confs > proj_1.yml to edit temporalily. Commit to save permanently\n",
    "!cat \"$config_path\"\n",
    "log_path = \"logs/proj_1.log\"  # Open files > logs > proj_1.log to debug logs of previous runs"
   ]
  },
  {
   "cell_type": "code",
   "execution_count": 10,
   "metadata": {},
   "outputs": [
    {
     "name": "stderr",
     "output_type": "stream",
     "text": [
      "2021-09-20 21:32:01 FancyLogger  INFO     \u001b[1m\u001b[37mLogger is set. Log file path: /home/drkostas/GDrive/Projects/UTK/rinehartAnalysis/logs/proj_1.log\u001b[0m\n"
     ]
    }
   ],
   "source": [
    "# The logger\n",
    "logger = ColorizedLogger(logger_name='Notebook', color='cyan')\n",
    "ColorizedLogger.setup_logger(log_path=log_path, debug=False, clear_log=True)"
   ]
  },
  {
   "cell_type": "code",
   "execution_count": 8,
   "metadata": {},
   "outputs": [
    {
     "name": "stderr",
     "output_type": "stream",
     "text": [
      "2021-09-20 21:31:10 Config       INFO     \u001b[1m\u001b[37mConfiguration file loaded successfully from path: /home/drkostas/GDrive/Projects/UTK/rinehartAnalysis/confs/proj_1.yml\u001b[0m\n",
      "2021-09-20 21:31:10 Config       INFO     \u001b[1m\u001b[37mConfiguration Tag: proj1\u001b[0m\n"
     ]
    },
    {
     "name": "stdout",
     "output_type": "stream",
     "text": [
      "{'Oh,_Well,_You_Know_How_Women_Are!': {'crime_type': 'stabbing',\n",
      "                                       'detectives': ['man1', 'man2'],\n",
      "                                       'suspects': ['man3', 'man4'],\n",
      "                                       'url': 'https://www.gutenberg.org/cache/epub/24259/pg24259.txt'},\n",
      " 'The_Breaking_Point': {'crime_type': 'stabbing',\n",
      "                        'detectives': ['man1', 'man2'],\n",
      "                        'suspects': ['man3', 'man4'],\n",
      "                        'url': 'https://www.gutenberg.org/files/1601/1601-0.txt'},\n",
      " 'The_Circular_Staircase': {'crime_type': 'stabbing',\n",
      "                            'detectives': ['man1', 'man2'],\n",
      "                            'suspects': ['man3', 'man4'],\n",
      "                            'url': 'https://www.gutenberg.org/files/434/434-0.txt'},\n",
      " 'The_Man_in_Lower_Ten': {'crime_type': 'stabbing',\n",
      "                          'detectives': ['man1', 'man2'],\n",
      "                          'suspects': ['man3', 'man4'],\n",
      "                          'url': 'https://www.gutenberg.org/files/1869/1869-0.txt'},\n",
      " 'The_Window_at_the_White_Cat': {'crime_type': 'stabbing',\n",
      "                                 'detectives': ['man1', 'man2'],\n",
      "                                 'suspects': ['man3', 'man4'],\n",
      "                                 'url': 'https://www.gutenberg.org/cache/epub/24259/pg24259.txt'}}\n"
     ]
    }
   ],
   "source": [
    "# Load the configuration\n",
    "conf = Configuration(config_src=config_path)\n",
    "# Get the books dict\n",
    "books = conf.get_config('data_loader')['config']['books']\n",
    "pprint(books)  # Pretty print the books dict"
   ]
  },
  {
   "cell_type": "markdown",
   "metadata": {},
   "source": [
    "## Exploration"
   ]
  },
  {
   "cell_type": "code",
   "execution_count": 11,
   "metadata": {},
   "outputs": [
    {
     "name": "stderr",
     "output_type": "stream",
     "text": [
      "2021-09-20 21:32:10 Notebook     INFO     \u001b[1m\u001b[36mBook: The_Circular_Staircase, Metadata: {'url': 'https://www.gutenberg.org/files/434/434-0.txt', 'detectives': ['man1', 'man2'], 'suspects': ['man3', 'man4'], 'crime_type': 'stabbing'}\u001b[0m\n",
      "2021-09-20 21:32:10 Notebook     INFO     \u001b[1m\u001b[36mBook: The_Man_in_Lower_Ten, Metadata: {'url': 'https://www.gutenberg.org/files/1869/1869-0.txt', 'detectives': ['man1', 'man2'], 'suspects': ['man3', 'man4'], 'crime_type': 'stabbing'}\u001b[0m\n",
      "2021-09-20 21:32:11 Notebook     INFO     \u001b[1m\u001b[36mBook: The_Breaking_Point, Metadata: {'url': 'https://www.gutenberg.org/files/1601/1601-0.txt', 'detectives': ['man1', 'man2'], 'suspects': ['man3', 'man4'], 'crime_type': 'stabbing'}\u001b[0m\n",
      "2021-09-20 21:32:11 Notebook     INFO     \u001b[1m\u001b[36mBook: Oh,_Well,_You_Know_How_Women_Are!, Metadata: {'url': 'https://www.gutenberg.org/cache/epub/24259/pg24259.txt', 'detectives': ['man1', 'man2'], 'suspects': ['man3', 'man4'], 'crime_type': 'stabbing'}\u001b[0m\n",
      "2021-09-20 21:32:11 Notebook     INFO     \u001b[1m\u001b[36mBook: The_Window_at_the_White_Cat, Metadata: {'url': 'https://www.gutenberg.org/cache/epub/24259/pg24259.txt', 'detectives': ['man1', 'man2'], 'suspects': ['man3', 'man4'], 'crime_type': 'stabbing'}\u001b[0m\n",
      "2021-09-20 21:32:12 Notebook     INFO     \u001b[4m\u001b[32mLength of staircase raw: 410135\u001b[0m\n",
      "2021-09-20 21:32:12 Notebook     INFO     \u001b[4m\u001b[32mLength of staircase clean: 6262\u001b[0m\n",
      "2021-09-20 21:32:12 Notebook     INFO     \u001b[1m\u001b[36mChapter 1:\n",
      "chapter i.\n",
      "i take a country house\n",
      "this is the (..)\u001b[0m\n",
      "2021-09-20 21:32:12 Notebook     INFO     \u001b[1m\u001b[36mChapter 2:\n",
      "chapter ii.\n",
      "a link cuff-button\n",
      "liddy’s knees  (..)\u001b[0m\n"
     ]
    }
   ],
   "source": [
    "# Reload the code of ProcessedBook class\n",
    "reload_lib(books_lib)\n",
    "# -- Create ProcessedBook Object for each book -- #\n",
    "processed_books = {}\n",
    "for title, metadata in books.items():\n",
    "    logger.info(f\"Book: {title}, Metadata: {metadata}\")\n",
    "    processed_book = ProcessedBook(title=title, metadata=metadata)\n",
    "    processed_books[title] = processed_book\n",
    "# pprint(processed_books)\n",
    "# -- The_Circular_Staircase -- #\n",
    "current_book = processed_books['The_Circular_Staircase']\n",
    "# Get chapter 1\n",
    "chapter_1 = current_book.get_chapter(chapter=1)\n",
    "chapter_1_joined = '\\n'.join(chapter_1)\n",
    "# Get chapter 2\n",
    "chapter_2 = current_book.get_chapter(chapter=2)\n",
    "chapter_2_joined = '\\n'.join(chapter_2)\n",
    "\n",
    "logger.info(f\"Length of staircase raw: {len(current_book.raw)}\", color='green', attrs=['underline'])\n",
    "logger.info(f\"Length of staircase clean: {len(current_book.clean)}\", color='green', attrs=['underline'])\n",
    "logger.info(f\"Chapter 1:\\n{chapter_1_joined[:45]} (..)\", )\n",
    "logger.info(f\"Chapter 2:\\n{chapter_2_joined[:45]} (..)\")"
   ]
  },
  {
   "cell_type": "code",
   "execution_count": 24,
   "metadata": {},
   "outputs": [
    {
     "name": "stdout",
     "output_type": "stream",
     "text": [
      "[]\n"
     ]
    }
   ],
   "source": []
  },
  {
   "cell_type": "code",
   "execution_count": null,
   "metadata": {},
   "outputs": [],
   "source": []
  }
 ],
 "metadata": {
  "kernelspec": {
   "display_name": "Python 3 (ipykernel)",
   "language": "python",
   "name": "python3"
  },
  "language_info": {
   "codemirror_mode": {
    "name": "ipython",
    "version": 3
   },
   "file_extension": ".py",
   "mimetype": "text/x-python",
   "name": "python",
   "nbconvert_exporter": "python",
   "pygments_lexer": "ipython3",
   "version": "3.9.7"
  }
 },
 "nbformat": 4,
 "nbformat_minor": 1
}
