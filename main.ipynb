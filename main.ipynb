{
 "cells": [
  {
   "cell_type": "markdown",
   "metadata": {
    "collapsed": true
   },
   "source": [
    "# NLP - Project 1\n",
    "## Rinehart Analysis\n",
    "**Team**: *Jean Merlet, Konstantinos Georgiou, Matt Lane*"
   ]
  },
  {
   "cell_type": "markdown",
   "metadata": {},
   "source": [
    "Check out the **[README](https://github.com/NLPaladins/rinehartAnalysis/blob/main/README.md)**\n",
    "\n",
    "\n",
    "Or the current **[TODO](https://github.com/NLPaladins/rinehartAnalysis/blob/main/TODO.md)** list."
   ]
  },
  {
   "cell_type": "code",
   "execution_count": 1,
   "metadata": {},
   "outputs": [],
   "source": [
    "# Import Jupyter Widgets\n",
    "import os\n",
    "import ipywidgets as widgets\n",
    "from ipywidgets import interact, interact_manual\n",
    "from IPython.display import display"
   ]
  },
  {
   "cell_type": "code",
   "execution_count": 2,
   "metadata": {},
   "outputs": [
    {
     "name": "stdout",
     "output_type": "stream",
     "text": [
      "Clone project?\n",
      "(If you do this you will ovewrite local changes on other files e.g. configs)\n",
      "Not needed if you're not on Google Collab\n"
     ]
    },
    {
     "data": {
      "application/vnd.jupyter.widget-view+json": {
       "model_id": "418b3c7886344762b9996c080e4efd6c",
       "version_major": 2,
       "version_minor": 0
      },
      "text/plain": [
       "Button(description='Yes, clone', style=ButtonStyle())"
      ]
     },
     "metadata": {},
     "output_type": "display_data"
    }
   ],
   "source": [
    "# Clone the repository if you're in Google Collab\n",
    "def clone_project(is_collab: bool = False):\n",
    "    print(\"Cloning Project..\")\n",
    "    !git clone https://github.com/NLPaladins/rinehartAnalysis.git\n",
    "    print(\"Project cloned.\")\n",
    "       \n",
    "print(\"Clone project?\")\n",
    "print(\"(If you do this you will ovewrite local changes on other files e.g. configs)\")\n",
    "print(\"Not needed if you're not on Google Collab\")\n",
    "btn = widgets.Button(description=\"Yes, clone\")\n",
    "btn.on_click(clone_project)\n",
    "display(btn)"
   ]
  },
  {
   "cell_type": "code",
   "execution_count": 3,
   "metadata": {},
   "outputs": [
    {
     "name": "stdout",
     "output_type": "stream",
     "text": [
      "Are you on Google Collab?\n"
     ]
    },
    {
     "data": {
      "application/vnd.jupyter.widget-view+json": {
       "model_id": "5d2925425b0945a6ba56528fa3e8affa",
       "version_major": 2,
       "version_minor": 0
      },
      "text/plain": [
       "Button(description='Yes', style=ButtonStyle())"
      ]
     },
     "metadata": {},
     "output_type": "display_data"
    }
   ],
   "source": [
    "# Clone the repository if you're in Google Collab\n",
    "def change_dir(is_collab: bool = False):\n",
    "    try:\n",
    "        print(\"Changing dir..\")\n",
    "        os.chdir('/content/rinehartAnalysis')\n",
    "        print('done')\n",
    "        print(\"Current dir:\")\n",
    "        print(os.getcwd())\n",
    "        print(\"Dir Contents:\")\n",
    "        print(os.listdir())\n",
    "    except Exception:\n",
    "        print(\"Error: Project not cloned\")\n",
    "       \n",
    "print(\"Are you on Google Collab?\")\n",
    "btn = widgets.Button(description=\"Yes\")\n",
    "btn.on_click(change_dir)\n",
    "display(btn)"
   ]
  },
  {
   "cell_type": "markdown",
   "metadata": {},
   "source": [
    "### At any point, to save changes\n",
    "click **File > Save a copy on Gihtub**"
   ]
  },
  {
   "cell_type": "markdown",
   "metadata": {},
   "source": [
    "### Now go to files on the left, and open:\n",
    "- rinehartAnalysis/confs/proj_1.yml\n",
    "\n",
    "(Ctr+s) to save changes"
   ]
  },
  {
   "cell_type": "markdown",
   "metadata": {
    "pycharm": {
     "name": "#%%\n"
    }
   },
   "source": [
    "## Load Libraries and setup"
   ]
  },
  {
   "cell_type": "code",
   "execution_count": 4,
   "metadata": {},
   "outputs": [],
   "source": [
    "import traceback\n",
    "import argparse\n",
    "from importlib import reload as reload_lib\n",
    "from pprint import pprint\n",
    "import numpy as np\n",
    "\n",
    "# Custom libs\n",
    "from nlp_libs import Configuration, ColorizedLogger, ProcessedBook\n",
    "# Import this way the libs you want to dynamically change and reload \n",
    "# import nlp_libs.books.processed_book as books_lib # Comment out until Class is finalized\n"
   ]
  },
  {
   "cell_type": "markdown",
   "metadata": {},
   "source": [
    "### Libraries Overview\n",
    "All the libraries are located under *\"\\<project root>/nlp_libs\"*\n",
    "- ***ProcessedBook***: Loc: **books/processed_book.py**, Desc: *Book Pre-processor*\n",
    "- ***Configuration***: Loc: **configuration/configuration.py**, Desc: *Configuration Loader*\n",
    "- ***ColorizedLogger***: Loc: **fancy_logger/colorized_logger.py**, Desc: *Logger with formatted text capabilities*"
   ]
  },
  {
   "cell_type": "code",
   "execution_count": 5,
   "metadata": {},
   "outputs": [],
   "source": [
    "# The path of configuration and log save path\n",
    "config_path = \"confs/proj_1.yml\"  # Open files > confs > proj_1.yml to edit temporalily. Commit to save permanently\n",
    "# !cat \"$config_path\"\n",
    "log_path = \"logs/proj_1.log\"  # Open files > logs > proj_1.log to debug logs of previous runs"
   ]
  },
  {
   "cell_type": "code",
   "execution_count": 6,
   "metadata": {},
   "outputs": [
    {
     "name": "stderr",
     "output_type": "stream",
     "text": [
      "2021-09-22 16:43:39 FancyLogger  INFO     \u001b[1m\u001b[37mLogger is set. Log file path: /Users/96v/Documents/DSE/nlp/rinehartAnalysis/logs/proj_1.log\u001b[0m\n"
     ]
    }
   ],
   "source": [
    "# The logger\n",
    "logger = ColorizedLogger(logger_name='Notebook', color='cyan')\n",
    "ColorizedLogger.setup_logger(log_path=log_path, debug=False, clear_log=True)"
   ]
  },
  {
   "cell_type": "code",
   "execution_count": 7,
   "metadata": {},
   "outputs": [
    {
     "name": "stderr",
     "output_type": "stream",
     "text": [
      "2021-09-22 16:43:39 Config       INFO     \u001b[1m\u001b[37mConfiguration file loaded successfully from path: /Users/96v/Documents/DSE/nlp/rinehartAnalysis/confs/proj_1.yml\u001b[0m\n",
      "2021-09-22 16:43:39 Config       INFO     \u001b[1m\u001b[37mConfiguration Tag: proj1\u001b[0m\n"
     ]
    },
    {
     "name": "stdout",
     "output_type": "stream",
     "text": [
      "{'Oh,_Well,_You_Know_How_Women_Are!': {'crime_type': 'example',\n",
      "                                       'detectives': ['man1', 'man2'],\n",
      "                                       'suspects': ['man3', 'man4'],\n",
      "                                       'url': 'https://www.gutenberg.org/cache/epub/24259/pg24259.txt'},\n",
      " 'The_Breaking_Point': {'crime_type': 'example',\n",
      "                        'detectives': ['man1', 'man2'],\n",
      "                        'suspects': ['man3', 'man4'],\n",
      "                        'url': 'https://www.gutenberg.org/files/1601/1601-0.txt'},\n",
      " 'The_Circular_Staircase': {'crime_type': 'example',\n",
      "                            'detectives': ['Rachel Innes'],\n",
      "                            'suspects': ['Liddy',\n",
      "                                         'Halsey',\n",
      "                                         'Gertrude',\n",
      "                                         'Paul Armstrong',\n",
      "                                         'Doctor Walker',\n",
      "                                         'Louise Armstrong',\n",
      "                                         'Arnold Armstrong',\n",
      "                                         'Mrs. Ralston',\n",
      "                                         'Thomas Johnson',\n",
      "                                         'Aunt Ray',\n",
      "                                         'Mary Anne',\n",
      "                                         'Burke',\n",
      "                                         'Joe Jefferson',\n",
      "                                         'Anne Watson',\n",
      "                                         'Eliza Klinefelter',\n",
      "                                         'Beulah',\n",
      "                                         'Jack Bailey',\n",
      "                                         'Mr. Jarvis',\n",
      "                                         'Warner',\n",
      "                                         'Mr. Jamieson',\n",
      "                                         'Mr. Harton',\n",
      "                                         'Rosie',\n",
      "                                         'Sam Bohannon',\n",
      "                                         'Beatrice Fairfax',\n",
      "                                         'Mrs. Ogden Fitzhugh',\n",
      "                                         'Mr. Trautman',\n",
      "                                         'Doctor Stewart',\n",
      "                                         'Doctor Wainwright',\n",
      "                                         'Alexander Graham',\n",
      "                                         'Nina Carrington',\n",
      "                                         'Doctor Willoughby',\n",
      "                                         'Riggs',\n",
      "                                         'Covingtons',\n",
      "                                         'Sam Huston',\n",
      "                                         'Anne Endicott',\n",
      "                                         'Barbara Fitzhugh',\n",
      "                                         'Lucien Wallace',\n",
      "                                         'Anna Whitcomb',\n",
      "                                         'Madame Sweeny',\n",
      "                                         'Sam Bohannon',\n",
      "                                         'Ella Stewart',\n",
      "                                         'Annie Morton',\n",
      "                                         'Matthew Geist',\n",
      "                                         'Mattie Bliss',\n",
      "                                         'Doctor Boyle'],\n",
      "                            'url': 'https://www.gutenberg.org/files/434/434-0.txt'},\n",
      " 'The_Man_in_Lower_Ten': {'crime_type': 'example',\n",
      "                          'detectives': ['man1', 'man2'],\n",
      "                          'suspects': ['man3', 'man4'],\n",
      "                          'url': 'https://www.gutenberg.org/files/1869/1869-0.txt'},\n",
      " 'The_Window_at_the_White_Cat': {'crime_type': 'example',\n",
      "                                 'detectives': ['man1', 'man2'],\n",
      "                                 'suspects': ['man3', 'man4'],\n",
      "                                 'url': 'https://www.gutenberg.org/cache/epub/24259/pg24259.txt'}}\n"
     ]
    }
   ],
   "source": [
    "# Load the configuration\n",
    "conf = Configuration(config_src=config_path)\n",
    "# Get the books dict\n",
    "books = conf.get_config('data_loader')['config']['books']\n",
    "pprint(books)  # Pretty print the books dict"
   ]
  },
  {
   "cell_type": "markdown",
   "metadata": {},
   "source": [
    "## Exploration"
   ]
  },
  {
   "cell_type": "code",
   "execution_count": 17,
   "metadata": {},
   "outputs": [
    {
     "data": {
      "text/plain": [
       "['someString', 'anotherstring']"
      ]
     },
     "execution_count": 17,
     "metadata": {},
     "output_type": "execute_result"
    }
   ],
   "source": [
    "r'someString\\nanotherstring'.split(r'\\n')"
   ]
  },
  {
   "cell_type": "code",
   "execution_count": 8,
   "metadata": {},
   "outputs": [],
   "source": [
    "import urllib.request\n",
    "import re\n",
    "from typing import *\n",
    "\n",
    "\n",
    "class ProcessedBook:\n",
    "    num_map = [(1000, 'M'), (900, 'CM'), (500, 'D'), (400, 'CD'),\n",
    "               (100, 'C'), (90, 'XC'), (50, 'L'), (40, 'XL'),\n",
    "               (10, 'X'), (9, 'IX'), (5, 'V'), (4, 'IV'), (1, 'I')]\n",
    "    title: str\n",
    "    url: str\n",
    "    detectives: List[str]\n",
    "    suspects: List[str]\n",
    "    crime_type: str\n",
    "\n",
    "    def __init__(self, title: str, metadata: Dict, make_lower: bool = True):\n",
    "        \"\"\"\n",
    "        raw holds the books as a single string.\n",
    "        clean holds the books as a list of lowercase lines starting\n",
    "        from the first chapter and ending with the last sentence.\n",
    "        \"\"\"\n",
    "        self.title = title\n",
    "        self.url = metadata['url']\n",
    "        self.detectives = metadata['detectives']\n",
    "        self.suspects = metadata['suspects']\n",
    "        self.crime_type = metadata['crime_type']\n",
    "        self.raw = self.read_book_from_proj_gut(self.url)\n",
    "        if make_lower:\n",
    "            lines = self.raw.lower()\n",
    "        else:\n",
    "            lines = self.raw\n",
    "        loins = re.sub(r'\\r\\n', r'\\n',staircase.raw)\n",
    "        loins = re.findall(r'.*\\n', loins)\n",
    "        self.lines = self.clean_lines(lines=lines)\n",
    "        self.clean = self.get_clean_book(make_lower=make_lower)\n",
    "\n",
    "    @staticmethod\n",
    "    def read_book_from_proj_gut(book_url: str) -> str:\n",
    "        req = urllib.request.Request(book_url)\n",
    "        client = urllib.request.urlopen(req)\n",
    "        page = client.read()\n",
    "        return page.decode('utf-8')\n",
    "\n",
    "    def get_clean_book(self, make_lower: bool = True) -> List[str]:\n",
    "        if make_lower:\n",
    "            lines = self.raw.lower()\n",
    "        else:\n",
    "            lines = self.raw\n",
    "        lines = lines.replace('\\r\\n', '\\n').split('\\n')\n",
    "        lines = self.clean_lines(lines)\n",
    "        chapters = self.lines_to_chapters(lines)\n",
    "        return chapters\n",
    "\n",
    "    def clean_lines(self, lines: List[str]) -> List[str]:\n",
    "        clean_lines = []\n",
    "        start = False\n",
    "        for line in lines:\n",
    "            if re.match(r'^chapter i\\.', line):\n",
    "                clean_lines.append(line)\n",
    "                start = True\n",
    "                continue\n",
    "            if not start:\n",
    "                continue\n",
    "            if re.match(r'^\\*\\*\\* end of the project gutenberg ebook', line):\n",
    "                break\n",
    "            if self.pass_clean_filter(line):\n",
    "                clean_lines.append(line)\n",
    "        return clean_lines\n",
    "\n",
    "    @staticmethod\n",
    "    def lines_to_chapters(lines: List[str]) -> List[str]:\n",
    "        chapters = []\n",
    "        sentences = []\n",
    "        current_sent = ''\n",
    "        for i, line in enumerate(lines):\n",
    "            # add chapter as 1st sentence\n",
    "            if re.match(r'^chapter [ivxlcdm]+\\.$', line):\n",
    "                if sentences:\n",
    "                    chapters.append(sentences)\n",
    "                sentences = [line]\n",
    "                add_chapter_title = True\n",
    "                continue\n",
    "            # add chapter title as 2nd sentence\n",
    "            elif add_chapter_title:\n",
    "                sentences.append(line)\n",
    "                add_chapter_title = False\n",
    "                continue\n",
    "            sents = re.findall(r' *((?:mr\\.|mrs.|[^\\.\\?!])*)(?<!mr)(?<!mrs)[\\.\\?!]', line)\n",
    "            # if no sentence end is detected\n",
    "            if not sents:\n",
    "                if current_sent == '':\n",
    "                    current_sent = line\n",
    "                else:\n",
    "                    current_sent += ' ' + line\n",
    "            # if at least one sentence end is detected\n",
    "            else:\n",
    "                for group in sents:\n",
    "                    if current_sent != '':\n",
    "                        current_sent += ' ' + group\n",
    "                        sentences.append(current_sent)\n",
    "                    else:\n",
    "                        sentences.append(group)\n",
    "                    current_sent = ''\n",
    "                # set the next sentence to its start if there is one\n",
    "                sent_end = re.search(r'(?<!mr)(?<!mrs)[\\.\\?!] ((?:mr\\.|mrs\\.|[^\\.\\?!])*)$', line)\n",
    "                if sent_end is not None:\n",
    "                    current_sent = sent_end.groups()[0]\n",
    "        return chapters\n",
    "\n",
    "    @staticmethod\n",
    "    def pass_clean_filter(line: str) -> bool:\n",
    "        # removing the illustration lines and empty lines\n",
    "        # can add other filters here as needed\n",
    "        if line == '' or re.match(r'illustration:|\\[illustration\\]', line):\n",
    "            return False\n",
    "        else:\n",
    "            return True\n",
    "\n",
    "    def get_chapter(self, chapter: int) -> str:\n",
    "        return self.clean[chapter - 1]\n"
   ]
  },
  {
   "cell_type": "code",
   "execution_count": 9,
   "metadata": {},
   "outputs": [],
   "source": [
    "# Load Circlular Staircase\n",
    "title, metadata = list(books.items())[0]\n",
    "staircase = ProcessedBook(title=title, metadata=metadata)"
   ]
  },
  {
   "cell_type": "code",
   "execution_count": 10,
   "metadata": {},
   "outputs": [
    {
     "name": "stderr",
     "output_type": "stream",
     "text": [
      "2021-09-22 16:43:41 Notebook     INFO     \u001b[1m\u001b[36mThe raw length of this book as a string is 410135\u001b[0m\n",
      "2021-09-22 16:43:41 Notebook     INFO     \u001b[1m\u001b[36mThis book has 33 chapters\n",
      "\u001b[0m\n",
      "2021-09-22 16:43:41 Notebook     INFO     \u001b[1m\u001b[36mchapter i. - i take a country house\u001b[0m\n",
      "2021-09-22 16:43:41 Notebook     INFO     \u001b[1m\u001b[36mThere are 117 sentences in this chapter.\u001b[0m\n",
      "2021-09-22 16:43:41 Notebook     INFO     \u001b[1m\u001b[36mThe average sentence length in this chapter is 21.307692307692307 words\n",
      "\u001b[0m\n",
      "2021-09-22 16:43:41 Notebook     INFO     \u001b[1m\u001b[36mchapter ii. - a link cuff-button\u001b[0m\n",
      "2021-09-22 16:43:41 Notebook     INFO     \u001b[1m\u001b[36mThere are 142 sentences in this chapter.\u001b[0m\n",
      "2021-09-22 16:43:41 Notebook     INFO     \u001b[1m\u001b[36mThe average sentence length in this chapter is 16.260563380281692 words\n",
      "\u001b[0m\n",
      "2021-09-22 16:43:41 Notebook     INFO     \u001b[1m\u001b[36mchapter iii. - mr. john bailey appears\u001b[0m\n",
      "2021-09-22 16:43:41 Notebook     INFO     \u001b[1m\u001b[36mThere are 104 sentences in this chapter.\u001b[0m\n",
      "2021-09-22 16:43:41 Notebook     INFO     \u001b[1m\u001b[36mThe average sentence length in this chapter is 14.663461538461538 words\n",
      "\u001b[0m\n",
      "2021-09-22 16:43:41 Notebook     INFO     \u001b[1m\u001b[36mchapter iv. - where is halsey?\u001b[0m\n",
      "2021-09-22 16:43:41 Notebook     INFO     \u001b[1m\u001b[36mThere are 143 sentences in this chapter.\u001b[0m\n",
      "2021-09-22 16:43:41 Notebook     INFO     \u001b[1m\u001b[36mThe average sentence length in this chapter is 12.23076923076923 words\n",
      "\u001b[0m\n",
      "2021-09-22 16:43:41 Notebook     INFO     \u001b[1m\u001b[36mchapter v. - gertrude’s engagement\u001b[0m\n",
      "2021-09-22 16:43:41 Notebook     INFO     \u001b[1m\u001b[36mThere are 140 sentences in this chapter.\u001b[0m\n",
      "2021-09-22 16:43:41 Notebook     INFO     \u001b[1m\u001b[36mThe average sentence length in this chapter is 13.228571428571428 words\n",
      "\u001b[0m\n"
     ]
    }
   ],
   "source": [
    "logger.info(f'The raw length of this book as a string is {len(staircase.raw)}')\n",
    "logger.info(f'This book has {len(staircase.clean)} chapters\\n')\n",
    "for i, chapter in enumerate(staircase.clean):\n",
    "  if i == 5: break\n",
    "  logger.info(f'{chapter[0]} - {chapter[1]}')\n",
    "  logger.info(f'There are {len(chapter)} sentences in this chapter.')\n",
    "  num_words = []\n",
    "  for sent in chapter:\n",
    "    num_words.append(len(sent.split(' ')))\n",
    "  avg_words = np.mean(num_words)\n",
    "  logger.info(f'The average sentence length in this chapter is {avg_words} words\\n')"
   ]
  },
  {
   "cell_type": "code",
   "execution_count": 11,
   "metadata": {},
   "outputs": [
    {
     "name": "stderr",
     "output_type": "stream",
     "text": [
      "2021-09-22 16:43:41 Notebook     INFO     \u001b[1m\u001b[36mchapter xxxiii.\u001b[0m\n",
      "2021-09-22 16:43:41 Notebook     INFO     \u001b[1m\u001b[36mat the foot of the stairs\u001b[0m\n",
      "2021-09-22 16:43:41 Notebook     INFO     \u001b[1m\u001b[36mas i drove rapidly up to the house from casanova station in the hack, i saw the detective burns loitering across the street from the walker place\u001b[0m\n",
      "2021-09-22 16:43:41 Notebook     INFO     \u001b[1m\u001b[36mso jamieson was putting the screws on—lightly now, but ready to give them a twist or two, i felt certain, very soon\u001b[0m\n",
      "2021-09-22 16:43:41 Notebook     INFO     \u001b[1m\u001b[36mthe house was quiet\u001b[0m\n",
      "2021-09-22 16:43:41 Notebook     INFO     \u001b[1m\u001b[36mtwo steps of the circular staircase had been pried off, without result, and beyond a second message from gertrude, that halsey insisted on coming home and they would arrive that night, there was nothing new\u001b[0m\n",
      "2021-09-22 16:43:41 Notebook     INFO     \u001b[1m\u001b[36mmr. jamieson, having failed to locate the secret room, had gone to the village\u001b[0m\n",
      "2021-09-22 16:43:41 Notebook     INFO     \u001b[1m\u001b[36mi learned afterwards that he called at doctor walker’s, under pretense of an attack of acute indigestion, and before he left, had inquired about the evening trains to the city\u001b[0m\n",
      "2021-09-22 16:43:41 Notebook     INFO     \u001b[1m\u001b[36mhe said he had wasted a lot of time on the case, and a good bit of the mystery was in my imagination\u001b[0m\n",
      "2021-09-22 16:43:41 Notebook     INFO     \u001b[1m\u001b[36mthe doctor was under the impression that the house was guarded day and night\u001b[0m\n"
     ]
    }
   ],
   "source": [
    "for i, sent in enumerate(staircase.get_chapter(33)):\n",
    "  if i == 10: break\n",
    "  logger.info(sent)"
   ]
  },
  {
   "cell_type": "code",
   "execution_count": 12,
   "metadata": {},
   "outputs": [],
   "source": [
    "# Load Lower Ten\n",
    "title, metadata = list(books.items())[0]\n",
    "lower_ten = ProcessedBook(title=title, metadata=metadata)"
   ]
  },
  {
   "cell_type": "code",
   "execution_count": 13,
   "metadata": {},
   "outputs": [
    {
     "name": "stderr",
     "output_type": "stream",
     "text": [
      "2021-09-22 16:43:43 Notebook     INFO     \u001b[1m\u001b[36mThe raw length of this book as a string is 410135\u001b[0m\n",
      "2021-09-22 16:43:43 Notebook     INFO     \u001b[1m\u001b[36mThis book has 33 chapters\n",
      "\u001b[0m\n",
      "2021-09-22 16:43:43 Notebook     INFO     \u001b[1m\u001b[36mchapter i. - i take a country house\u001b[0m\n",
      "2021-09-22 16:43:43 Notebook     INFO     \u001b[1m\u001b[36mThere are 117 sentences in this chapter.\u001b[0m\n",
      "2021-09-22 16:43:43 Notebook     INFO     \u001b[1m\u001b[36mThe average sentence length in this chapter is 21.307692307692307 words\n",
      "\u001b[0m\n",
      "2021-09-22 16:43:43 Notebook     INFO     \u001b[1m\u001b[36mchapter ii. - a link cuff-button\u001b[0m\n",
      "2021-09-22 16:43:43 Notebook     INFO     \u001b[1m\u001b[36mThere are 142 sentences in this chapter.\u001b[0m\n",
      "2021-09-22 16:43:43 Notebook     INFO     \u001b[1m\u001b[36mThe average sentence length in this chapter is 16.260563380281692 words\n",
      "\u001b[0m\n",
      "2021-09-22 16:43:43 Notebook     INFO     \u001b[1m\u001b[36mchapter iii. - mr. john bailey appears\u001b[0m\n",
      "2021-09-22 16:43:43 Notebook     INFO     \u001b[1m\u001b[36mThere are 104 sentences in this chapter.\u001b[0m\n",
      "2021-09-22 16:43:43 Notebook     INFO     \u001b[1m\u001b[36mThe average sentence length in this chapter is 14.663461538461538 words\n",
      "\u001b[0m\n",
      "2021-09-22 16:43:43 Notebook     INFO     \u001b[1m\u001b[36mchapter iv. - where is halsey?\u001b[0m\n",
      "2021-09-22 16:43:43 Notebook     INFO     \u001b[1m\u001b[36mThere are 143 sentences in this chapter.\u001b[0m\n",
      "2021-09-22 16:43:43 Notebook     INFO     \u001b[1m\u001b[36mThe average sentence length in this chapter is 12.23076923076923 words\n",
      "\u001b[0m\n",
      "2021-09-22 16:43:43 Notebook     INFO     \u001b[1m\u001b[36mchapter v. - gertrude’s engagement\u001b[0m\n",
      "2021-09-22 16:43:43 Notebook     INFO     \u001b[1m\u001b[36mThere are 140 sentences in this chapter.\u001b[0m\n",
      "2021-09-22 16:43:43 Notebook     INFO     \u001b[1m\u001b[36mThe average sentence length in this chapter is 13.228571428571428 words\n",
      "\u001b[0m\n"
     ]
    }
   ],
   "source": [
    "logger.info(f'The raw length of this book as a string is {len(lower_ten.raw)}')\n",
    "logger.info(f'This book has {len(lower_ten.clean)} chapters\\n')\n",
    "for i, chapter in enumerate(lower_ten.clean):\n",
    "  if i == 5: break\n",
    "  logger.info(f'{chapter[0]} - {chapter[1]}')\n",
    "  logger.info(f'There are {len(chapter)} sentences in this chapter.')\n",
    "  num_words = []\n",
    "  for sent in chapter:\n",
    "    num_words.append(len(sent.split(' ')))\n",
    "  avg_words = np.mean(num_words)\n",
    "  logger.info(f'The average sentence length in this chapter is {avg_words} words\\n')"
   ]
  },
  {
   "cell_type": "code",
   "execution_count": 14,
   "metadata": {},
   "outputs": [
    {
     "name": "stderr",
     "output_type": "stream",
     "text": [
      "2021-09-22 16:43:43 Notebook     INFO     \u001b[1m\u001b[36mchapter xv.\u001b[0m\n",
      "2021-09-22 16:43:43 Notebook     INFO     \u001b[1m\u001b[36mliddy gives the alarm\u001b[0m\n",
      "2021-09-22 16:43:43 Notebook     INFO     \u001b[1m\u001b[36mthe next day, friday, gertrude broke the news of her stepfather’s death to louise\u001b[0m\n",
      "2021-09-22 16:43:43 Notebook     INFO     \u001b[1m\u001b[36mshe did it as gently as she could, telling her first that he was very ill, and finally that he was dead\u001b[0m\n",
      "2021-09-22 16:43:43 Notebook     INFO     \u001b[1m\u001b[36mlouise received the news in the most unexpected manner, and when gertrude came out to tell me how she had stood it, i think she was almost shocked\u001b[0m\n",
      "2021-09-22 16:43:43 Notebook     INFO     \u001b[1m\u001b[36m“she just lay and stared at me, aunt ray,” she said\u001b[0m\n",
      "2021-09-22 16:43:43 Notebook     INFO     \u001b[1m\u001b[36m“do you know, i believe she is glad, glad\u001b[0m\n",
      "2021-09-22 16:43:43 Notebook     INFO     \u001b[1m\u001b[36mand she is too honest to pretend anything else\u001b[0m\n",
      "2021-09-22 16:43:43 Notebook     INFO     \u001b[1m\u001b[36mwhat sort of man was mr. paul armstrong, anyhow\u001b[0m\n",
      "2021-09-22 16:43:43 Notebook     INFO     \u001b[1m\u001b[36m“he was a bully as well as a rascal, gertrude,” i said\u001b[0m\n"
     ]
    }
   ],
   "source": [
    "for i, sent in enumerate(lower_ten.get_chapter(15)):\n",
    "  if i == 10: \n",
    "    break\n",
    "  logger.info(sent)"
   ]
  },
  {
   "cell_type": "code",
   "execution_count": 15,
   "metadata": {},
   "outputs": [
    {
     "name": "stderr",
     "output_type": "stream",
     "text": [
      "\n",
      "2021-09-22 16:43:43 Notebook     INFO     \u001b[4m\u001b[33mBook: The_Circular_Staircase\u001b[0m\n",
      "2021-09-22 16:43:44 Notebook     INFO     \u001b[1m\u001b[36mThe raw length of this book as a string is 410135\u001b[0m\n",
      "2021-09-22 16:43:44 Notebook     INFO     \u001b[1m\u001b[36mThis book has 33 chapters\n",
      "\u001b[0m\n",
      "2021-09-22 16:43:44 Notebook     INFO     \u001b[1m\u001b[36mchapter i. - i take a country house\u001b[0m\n",
      "2021-09-22 16:43:44 Notebook     INFO     \u001b[1m\u001b[36mThere are 117 sentences in this chapter.\u001b[0m\n",
      "2021-09-22 16:43:44 Notebook     INFO     \u001b[1m\u001b[36mThe average sentence length in this chapter is 21.307692307692307 words\n",
      "\u001b[0m\n",
      "2021-09-22 16:43:44 Notebook     INFO     \u001b[1m\u001b[36mchapter ii. - a link cuff-button\u001b[0m\n",
      "2021-09-22 16:43:44 Notebook     INFO     \u001b[1m\u001b[36mThere are 142 sentences in this chapter.\u001b[0m\n",
      "2021-09-22 16:43:44 Notebook     INFO     \u001b[1m\u001b[36mThe average sentence length in this chapter is 16.260563380281692 words\n",
      "\u001b[0m\n",
      "2021-09-22 16:43:44 Notebook     INFO     \u001b[1m\u001b[36mchapter iii. - mr. john bailey appears\u001b[0m\n",
      "2021-09-22 16:43:44 Notebook     INFO     \u001b[1m\u001b[36mThere are 104 sentences in this chapter.\u001b[0m\n",
      "2021-09-22 16:43:44 Notebook     INFO     \u001b[1m\u001b[36mThe average sentence length in this chapter is 14.663461538461538 words\n",
      "\u001b[0m\n",
      "2021-09-22 16:43:44 Notebook     INFO     \u001b[1m\u001b[36mchapter iv. - where is halsey?\u001b[0m\n",
      "2021-09-22 16:43:44 Notebook     INFO     \u001b[1m\u001b[36mThere are 143 sentences in this chapter.\u001b[0m\n",
      "2021-09-22 16:43:44 Notebook     INFO     \u001b[1m\u001b[36mThe average sentence length in this chapter is 12.23076923076923 words\n",
      "\u001b[0m\n",
      "2021-09-22 16:43:44 Notebook     INFO     \u001b[1m\u001b[36mchapter v. - gertrude’s engagement\u001b[0m\n",
      "2021-09-22 16:43:44 Notebook     INFO     \u001b[1m\u001b[36mThere are 140 sentences in this chapter.\u001b[0m\n",
      "2021-09-22 16:43:44 Notebook     INFO     \u001b[1m\u001b[36mThe average sentence length in this chapter is 13.228571428571428 words\n",
      "\u001b[0m\n",
      "2021-09-22 16:43:44 Notebook     INFO     \u001b[1m\u001b[36mchapter xv.\u001b[0m\n",
      "2021-09-22 16:43:44 Notebook     INFO     \u001b[1m\u001b[36mliddy gives the alarm\u001b[0m\n",
      "2021-09-22 16:43:44 Notebook     INFO     \u001b[1m\u001b[36mthe next day, friday, gertrude broke the news of her stepfather’s death to louise\u001b[0m\n",
      "2021-09-22 16:43:44 Notebook     INFO     \u001b[1m\u001b[36mshe did it as gently as she could, telling her first that he was very ill, and finally that he was dead\u001b[0m\n",
      "2021-09-22 16:43:44 Notebook     INFO     \u001b[1m\u001b[36mlouise received the news in the most unexpected manner, and when gertrude came out to tell me how she had stood it, i think she was almost shocked\u001b[0m\n",
      "2021-09-22 16:43:44 Notebook     INFO     \u001b[1m\u001b[36m“she just lay and stared at me, aunt ray,” she said\u001b[0m\n",
      "2021-09-22 16:43:44 Notebook     INFO     \u001b[1m\u001b[36m“do you know, i believe she is glad, glad\u001b[0m\n",
      "2021-09-22 16:43:44 Notebook     INFO     \u001b[1m\u001b[36mand she is too honest to pretend anything else\u001b[0m\n",
      "2021-09-22 16:43:44 Notebook     INFO     \u001b[1m\u001b[36mwhat sort of man was mr. paul armstrong, anyhow\u001b[0m\n",
      "2021-09-22 16:43:44 Notebook     INFO     \u001b[1m\u001b[36m“he was a bully as well as a rascal, gertrude,” i said\u001b[0m\n",
      "\n",
      "2021-09-22 16:43:44 Notebook     INFO     \u001b[4m\u001b[33mBook: The_Man_in_Lower_Ten\u001b[0m\n",
      "2021-09-22 16:43:45 Notebook     INFO     \u001b[1m\u001b[36mThe raw length of this book as a string is 381299\u001b[0m\n",
      "2021-09-22 16:43:45 Notebook     INFO     \u001b[1m\u001b[36mThis book has 30 chapters\n",
      "\u001b[0m\n",
      "2021-09-22 16:43:45 Notebook     INFO     \u001b[1m\u001b[36mchapter i. - i go to pittsburg\u001b[0m\n",
      "2021-09-22 16:43:45 Notebook     INFO     \u001b[1m\u001b[36mThere are 198 sentences in this chapter.\u001b[0m\n",
      "2021-09-22 16:43:45 Notebook     INFO     \u001b[1m\u001b[36mThe average sentence length in this chapter is 13.944444444444445 words\n",
      "\u001b[0m\n",
      "2021-09-22 16:43:45 Notebook     INFO     \u001b[1m\u001b[36mchapter ii. - a torn telegram\u001b[0m\n",
      "2021-09-22 16:43:45 Notebook     INFO     \u001b[1m\u001b[36mThere are 157 sentences in this chapter.\u001b[0m\n",
      "2021-09-22 16:43:45 Notebook     INFO     \u001b[1m\u001b[36mThe average sentence length in this chapter is 17.076433121019107 words\n",
      "\u001b[0m\n",
      "2021-09-22 16:43:45 Notebook     INFO     \u001b[1m\u001b[36mchapter iii. - across the aisle\u001b[0m\n",
      "2021-09-22 16:43:45 Notebook     INFO     \u001b[1m\u001b[36mThere are 141 sentences in this chapter.\u001b[0m\n",
      "2021-09-22 16:43:45 Notebook     INFO     \u001b[1m\u001b[36mThe average sentence length in this chapter is 10.617021276595745 words\n",
      "\u001b[0m\n",
      "2021-09-22 16:43:45 Notebook     INFO     \u001b[1m\u001b[36mchapter iv. - numbers seven and nine\u001b[0m\n",
      "2021-09-22 16:43:45 Notebook     INFO     \u001b[1m\u001b[36mThere are 138 sentences in this chapter.\u001b[0m\n",
      "2021-09-22 16:43:45 Notebook     INFO     \u001b[1m\u001b[36mThe average sentence length in this chapter is 13.347826086956522 words\n",
      "\u001b[0m\n",
      "2021-09-22 16:43:45 Notebook     INFO     \u001b[1m\u001b[36mchapter v. - the woman in the next car\u001b[0m\n",
      "2021-09-22 16:43:45 Notebook     INFO     \u001b[1m\u001b[36mThere are 98 sentences in this chapter.\u001b[0m\n",
      "2021-09-22 16:43:45 Notebook     INFO     \u001b[1m\u001b[36mThe average sentence length in this chapter is 12.285714285714286 words\n",
      "\u001b[0m\n",
      "2021-09-22 16:43:45 Notebook     INFO     \u001b[1m\u001b[36mchapter xv.\u001b[0m\n",
      "2021-09-22 16:43:45 Notebook     INFO     \u001b[1m\u001b[36mliddy gives the alarm\u001b[0m\n",
      "2021-09-22 16:43:45 Notebook     INFO     \u001b[1m\u001b[36mthe next day, friday, gertrude broke the news of her stepfather’s death to louise\u001b[0m\n",
      "2021-09-22 16:43:45 Notebook     INFO     \u001b[1m\u001b[36mshe did it as gently as she could, telling her first that he was very ill, and finally that he was dead\u001b[0m\n",
      "2021-09-22 16:43:45 Notebook     INFO     \u001b[1m\u001b[36mlouise received the news in the most unexpected manner, and when gertrude came out to tell me how she had stood it, i think she was almost shocked\u001b[0m\n",
      "2021-09-22 16:43:45 Notebook     INFO     \u001b[1m\u001b[36m“she just lay and stared at me, aunt ray,” she said\u001b[0m\n",
      "2021-09-22 16:43:45 Notebook     INFO     \u001b[1m\u001b[36m“do you know, i believe she is glad, glad\u001b[0m\n",
      "2021-09-22 16:43:45 Notebook     INFO     \u001b[1m\u001b[36mand she is too honest to pretend anything else\u001b[0m\n",
      "2021-09-22 16:43:45 Notebook     INFO     \u001b[1m\u001b[36mwhat sort of man was mr. paul armstrong, anyhow\u001b[0m\n",
      "2021-09-22 16:43:45 Notebook     INFO     \u001b[1m\u001b[36m“he was a bully as well as a rascal, gertrude,” i said\u001b[0m\n",
      "\n",
      "2021-09-22 16:43:45 Notebook     INFO     \u001b[4m\u001b[33mBook: The_Breaking_Point\u001b[0m\n",
      "2021-09-22 16:43:45 Notebook     INFO     \u001b[1m\u001b[36mThe raw length of this book as a string is 653722\u001b[0m\n",
      "2021-09-22 16:43:45 Notebook     INFO     \u001b[1m\u001b[36mThis book has 0 chapters\n",
      "\u001b[0m\n",
      "2021-09-22 16:43:45 Notebook     INFO     \u001b[1m\u001b[36mchapter xv.\u001b[0m\n",
      "2021-09-22 16:43:45 Notebook     INFO     \u001b[1m\u001b[36mliddy gives the alarm\u001b[0m\n",
      "2021-09-22 16:43:45 Notebook     INFO     \u001b[1m\u001b[36mthe next day, friday, gertrude broke the news of her stepfather’s death to louise\u001b[0m\n",
      "2021-09-22 16:43:45 Notebook     INFO     \u001b[1m\u001b[36mshe did it as gently as she could, telling her first that he was very ill, and finally that he was dead\u001b[0m\n",
      "2021-09-22 16:43:45 Notebook     INFO     \u001b[1m\u001b[36mlouise received the news in the most unexpected manner, and when gertrude came out to tell me how she had stood it, i think she was almost shocked\u001b[0m\n",
      "2021-09-22 16:43:45 Notebook     INFO     \u001b[1m\u001b[36m“she just lay and stared at me, aunt ray,” she said\u001b[0m\n",
      "2021-09-22 16:43:45 Notebook     INFO     \u001b[1m\u001b[36m“do you know, i believe she is glad, glad\u001b[0m\n",
      "2021-09-22 16:43:45 Notebook     INFO     \u001b[1m\u001b[36mand she is too honest to pretend anything else\u001b[0m\n",
      "2021-09-22 16:43:45 Notebook     INFO     \u001b[1m\u001b[36mwhat sort of man was mr. paul armstrong, anyhow\u001b[0m\n",
      "2021-09-22 16:43:45 Notebook     INFO     \u001b[1m\u001b[36m“he was a bully as well as a rascal, gertrude,” i said\u001b[0m\n",
      "\n",
      "2021-09-22 16:43:45 Notebook     INFO     \u001b[4m\u001b[33mBook: Oh,_Well,_You_Know_How_Women_Are!\u001b[0m\n",
      "2021-09-22 16:43:48 Notebook     INFO     \u001b[1m\u001b[36mThe raw length of this book as a string is 87360\u001b[0m\n",
      "2021-09-22 16:43:48 Notebook     INFO     \u001b[1m\u001b[36mThis book has 0 chapters\n",
      "\u001b[0m\n",
      "2021-09-22 16:43:48 Notebook     INFO     \u001b[1m\u001b[36mchapter xv.\u001b[0m\n",
      "2021-09-22 16:43:48 Notebook     INFO     \u001b[1m\u001b[36mliddy gives the alarm\u001b[0m\n",
      "2021-09-22 16:43:48 Notebook     INFO     \u001b[1m\u001b[36mthe next day, friday, gertrude broke the news of her stepfather’s death to louise\u001b[0m\n",
      "2021-09-22 16:43:48 Notebook     INFO     \u001b[1m\u001b[36mshe did it as gently as she could, telling her first that he was very ill, and finally that he was dead\u001b[0m\n",
      "2021-09-22 16:43:48 Notebook     INFO     \u001b[1m\u001b[36mlouise received the news in the most unexpected manner, and when gertrude came out to tell me how she had stood it, i think she was almost shocked\u001b[0m\n"
     ]
    },
    {
     "name": "stderr",
     "output_type": "stream",
     "text": [
      "2021-09-22 16:43:48 Notebook     INFO     \u001b[1m\u001b[36m“she just lay and stared at me, aunt ray,” she said\u001b[0m\n",
      "2021-09-22 16:43:48 Notebook     INFO     \u001b[1m\u001b[36m“do you know, i believe she is glad, glad\u001b[0m\n",
      "2021-09-22 16:43:48 Notebook     INFO     \u001b[1m\u001b[36mand she is too honest to pretend anything else\u001b[0m\n",
      "2021-09-22 16:43:48 Notebook     INFO     \u001b[1m\u001b[36mwhat sort of man was mr. paul armstrong, anyhow\u001b[0m\n",
      "2021-09-22 16:43:48 Notebook     INFO     \u001b[1m\u001b[36m“he was a bully as well as a rascal, gertrude,” i said\u001b[0m\n",
      "\n",
      "2021-09-22 16:43:48 Notebook     INFO     \u001b[4m\u001b[33mBook: The_Window_at_the_White_Cat\u001b[0m\n",
      "2021-09-22 16:43:48 Notebook     INFO     \u001b[1m\u001b[36mThe raw length of this book as a string is 87360\u001b[0m\n",
      "2021-09-22 16:43:48 Notebook     INFO     \u001b[1m\u001b[36mThis book has 0 chapters\n",
      "\u001b[0m\n",
      "2021-09-22 16:43:48 Notebook     INFO     \u001b[1m\u001b[36mchapter xv.\u001b[0m\n",
      "2021-09-22 16:43:48 Notebook     INFO     \u001b[1m\u001b[36mliddy gives the alarm\u001b[0m\n",
      "2021-09-22 16:43:48 Notebook     INFO     \u001b[1m\u001b[36mthe next day, friday, gertrude broke the news of her stepfather’s death to louise\u001b[0m\n",
      "2021-09-22 16:43:48 Notebook     INFO     \u001b[1m\u001b[36mshe did it as gently as she could, telling her first that he was very ill, and finally that he was dead\u001b[0m\n",
      "2021-09-22 16:43:48 Notebook     INFO     \u001b[1m\u001b[36mlouise received the news in the most unexpected manner, and when gertrude came out to tell me how she had stood it, i think she was almost shocked\u001b[0m\n",
      "2021-09-22 16:43:48 Notebook     INFO     \u001b[1m\u001b[36m“she just lay and stared at me, aunt ray,” she said\u001b[0m\n",
      "2021-09-22 16:43:48 Notebook     INFO     \u001b[1m\u001b[36m“do you know, i believe she is glad, glad\u001b[0m\n",
      "2021-09-22 16:43:48 Notebook     INFO     \u001b[1m\u001b[36mand she is too honest to pretend anything else\u001b[0m\n",
      "2021-09-22 16:43:48 Notebook     INFO     \u001b[1m\u001b[36mwhat sort of man was mr. paul armstrong, anyhow\u001b[0m\n",
      "2021-09-22 16:43:48 Notebook     INFO     \u001b[1m\u001b[36m“he was a bully as well as a rascal, gertrude,” i said\u001b[0m\n"
     ]
    }
   ],
   "source": [
    "# Example of running it on all the books\n",
    "processed_books = {}\n",
    "for title, metadata in books.items():\n",
    "  logger.nl()\n",
    "  logger.info(f\"Book: {title}\", color='yellow', attrs=['underline'])\n",
    "  current_book = ProcessedBook(title=title, metadata=metadata)\n",
    "  # Raw length\n",
    "  logger.info(f'The raw length of this book as a string is {len(current_book.raw)}')\n",
    "  # Number of chapters\n",
    "  logger.info(f'This book has {len(current_book.clean)} chapters\\n')\n",
    "  # Sententences per chapter\n",
    "  for i, chapter in enumerate(current_book.clean):\n",
    "    if i == 5: \n",
    "      break\n",
    "    logger.info(f'{chapter[0]} - {chapter[1]}')\n",
    "    logger.info(f'There are {len(chapter)} sentences in this chapter.')\n",
    "    num_words = []\n",
    "    for sent in chapter:\n",
    "      num_words.append(len(sent.split(' ')))\n",
    "    avg_words = np.mean(num_words)\n",
    "    logger.info(f'The average sentence length in this chapter is {avg_words} words\\n')\n",
    "  # Chapter 15\n",
    "  for i, sent in enumerate(lower_ten.get_chapter(15)):\n",
    "    if i == 10: break\n",
    "    logger.info(sent)"
   ]
  },
  {
   "cell_type": "code",
   "execution_count": 23,
   "metadata": {},
   "outputs": [],
   "source": [
    "lines = staircase.raw.replace('\\r\\n', '\\n').split('\\n')"
   ]
  },
  {
   "cell_type": "code",
   "execution_count": 21,
   "metadata": {},
   "outputs": [],
   "source": [
    "loins = re.sub(r'\\r\\n', r'\\n',staircase.raw)\n",
    "loins = re.findall(r'.*\\n', loins)"
   ]
  },
  {
   "cell_type": "code",
   "execution_count": 31,
   "metadata": {},
   "outputs": [],
   "source": [
    "for lineIdx in range(len(loins)): \n",
    "    loins[lineIdx] = re.sub(r'\\n', '', loins[lineIdx])"
   ]
  },
  {
   "cell_type": "code",
   "execution_count": null,
   "metadata": {},
   "outputs": [],
   "source": []
  }
 ],
 "metadata": {
  "kernelspec": {
   "display_name": "Python 3 (ipykernel)",
   "language": "python",
   "name": "python3"
  },
  "language_info": {
   "codemirror_mode": {
    "name": "ipython",
    "version": 3
   },
   "file_extension": ".py",
   "mimetype": "text/x-python",
   "name": "python",
   "nbconvert_exporter": "python",
   "pygments_lexer": "ipython3",
   "version": "3.8.3"
  }
 },
 "nbformat": 4,
 "nbformat_minor": 1
}
