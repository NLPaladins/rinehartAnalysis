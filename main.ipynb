{
 "cells": [
  {
   "cell_type": "markdown",
   "metadata": {
    "collapsed": true
   },
   "source": [
    "# NLP - Project 1\n",
    "## Rinehart Analysis\n",
    "**Team**: *Jean Merlet, Konstantinos Georgiou, Matt Lane*"
   ]
  },
  {
   "cell_type": "markdown",
   "metadata": {},
   "source": [
    "Check out the **[README](https://github.com/NLPaladins/rinehartAnalysis/blob/main/README.md)**\n",
    "\n",
    "\n",
    "Or the current **[TODO](https://github.com/NLPaladins/rinehartAnalysis/blob/main/TODO.md)** list."
   ]
  },
  {
   "cell_type": "code",
   "execution_count": 1,
   "metadata": {},
   "outputs": [],
   "source": [
    "# Import Jupyter Widgets\n",
    "import os\n",
    "import ipywidgets as widgets\n",
    "from ipywidgets import interact, interact_manual\n",
    "from IPython.display import display"
   ]
  },
  {
   "cell_type": "code",
   "execution_count": 2,
   "metadata": {},
   "outputs": [
    {
     "name": "stdout",
     "output_type": "stream",
     "text": [
      "Clone project?\n",
      "(If you do this you will ovewrite local changes on other files e.g. configs)\n",
      "Not needed if you're not on Google Collab\n"
     ]
    },
    {
     "data": {
      "application/vnd.jupyter.widget-view+json": {
       "model_id": "9d4e3216517849ab8f763fd5ed3b3e6b",
       "version_major": 2,
       "version_minor": 0
      },
      "text/plain": [
       "Button(description='Yes, clone', style=ButtonStyle())"
      ]
     },
     "metadata": {},
     "output_type": "display_data"
    }
   ],
   "source": [
    "# Clone the repository if you're in Google Collab\n",
    "def clone_project(is_collab: bool = False):\n",
    "    print(\"Cloning Project..\")\n",
    "    !git clone https://github.com/NLPaladins/rinehartAnalysis.git\n",
    "    print(\"Project cloned.\")\n",
    "       \n",
    "print(\"Clone project?\")\n",
    "print(\"(If you do this you will ovewrite local changes on other files e.g. configs)\")\n",
    "print(\"Not needed if you're not on Google Collab\")\n",
    "btn = widgets.Button(description=\"Yes, clone\")\n",
    "btn.on_click(clone_project)\n",
    "display(btn)"
   ]
  },
  {
   "cell_type": "code",
   "execution_count": 3,
   "metadata": {},
   "outputs": [
    {
     "name": "stdout",
     "output_type": "stream",
     "text": [
      "Are you on Google Collab?\n"
     ]
    },
    {
     "data": {
      "application/vnd.jupyter.widget-view+json": {
       "model_id": "8684973a493e4db08e5d8d8cc6ffa1df",
       "version_major": 2,
       "version_minor": 0
      },
      "text/plain": [
       "Button(description='Yes', style=ButtonStyle())"
      ]
     },
     "metadata": {},
     "output_type": "display_data"
    }
   ],
   "source": [
    "# Clone the repository if you're in Google Collab\n",
    "def change_dir(is_collab: bool = False):\n",
    "    try:\n",
    "        print(\"Changing dir..\")\n",
    "        os.chdir('/content/rinehartAnalysis')\n",
    "        print('done')\n",
    "        print(\"Current dir:\")\n",
    "        print(os.getcwd())\n",
    "        print(\"Dir Contents:\")\n",
    "        print(os.listdir())\n",
    "    except Exception:\n",
    "        print(\"Error: Project not cloned\")\n",
    "       \n",
    "print(\"Are you on Google Collab?\")\n",
    "btn = widgets.Button(description=\"Yes\")\n",
    "btn.on_click(change_dir)\n",
    "display(btn)"
   ]
  },
  {
   "cell_type": "markdown",
   "metadata": {},
   "source": [
    "### At any point, to save changes\n",
    "click **File > Save a copy on Gihtub**"
   ]
  },
  {
   "cell_type": "markdown",
   "metadata": {},
   "source": [
    "### Now go to files on the left, and open:\n",
    "- rinehartAnalysis/confs/proj_1.yml\n",
    "\n",
    "(Ctr+s) to save changes"
   ]
  },
  {
   "cell_type": "markdown",
   "metadata": {
    "pycharm": {
     "name": "#%%\n"
    }
   },
   "source": [
    "## Load Libraries and setup"
   ]
  },
  {
   "cell_type": "markdown",
   "metadata": {},
   "source": [
    "### Libraries Overview\n",
    "All the libraries are located under *\"\\<project root>/nlp_libs\"*\n",
    "- ***ProcessedBook***: Loc: **books/processed_book.py**, Desc: *Book Pre-processor*\n",
    "- ***Configuration***: Loc: **configuration/configuration.py**, Desc: *Configuration Loader*\n",
    "- ***ColorizedLogger***: Loc: **fancy_logger/colorized_logger.py**, Desc: *Logger with formatted text capabilities*"
   ]
  },
  {
   "cell_type": "code",
   "execution_count": 4,
   "metadata": {},
   "outputs": [],
   "source": [
    "# Imports\n",
    "%load_ext autoreload\n",
    "%autoreload 2\n",
    "import traceback\n",
    "import argparse\n",
    "import re\n",
    "from importlib import reload as reload_lib\n",
    "from pprint import pprint\n",
    "import numpy as np\n",
    "\n",
    "# Custom libs\n",
    "from nlp_libs import Configuration, ColorizedLogger"
   ]
  },
  {
   "cell_type": "code",
   "execution_count": 5,
   "metadata": {},
   "outputs": [
    {
     "name": "stderr",
     "output_type": "stream",
     "text": [
      "2021-09-27 00:16:16 FancyLogger  INFO     \u001b[1m\u001b[37mLogger is set. Log file path: /home/drkostas/GDrive/Projects/UTK/rinehartAnalysis/logs/proj_1.log\u001b[0m\n",
      "2021-09-27 00:16:16 Config       INFO     \u001b[1m\u001b[37mConfiguration file loaded successfully from path: /home/drkostas/GDrive/Projects/UTK/rinehartAnalysis/confs/proj_1.yml\u001b[0m\n",
      "2021-09-27 00:16:16 Config       INFO     \u001b[1m\u001b[37mConfiguration Tag: proj1\u001b[0m\n"
     ]
    }
   ],
   "source": [
    "# The path of configuration and log save path\n",
    "config_path = \"confs/proj_1.yml\"  # Open files > confs > proj_1.yml to edit temporalily. Commit to save permanently\n",
    "# !cat \"$config_path\"\n",
    "log_path = \"logs/proj_1.log\"  # Open files > logs > proj_1.log to debug logs of previous runs\n",
    "# The logger\n",
    "logger = ColorizedLogger(logger_name='Notebook', color='cyan')\n",
    "ColorizedLogger.setup_logger(log_path=log_path, debug=False, clear_log=True)\n",
    "# Load the configuration\n",
    "conf = Configuration(config_src=config_path)\n",
    "# Get the books dict\n",
    "books = conf.get_config('data_loader')['config']['books']\n",
    "# pprint(books)  # Pretty print the books dict"
   ]
  },
  {
   "cell_type": "markdown",
   "metadata": {},
   "source": [
    "# Analysis Functions"
   ]
  },
  {
   "cell_type": "code",
   "execution_count": 6,
   "metadata": {},
   "outputs": [],
   "source": [
    "import nlp_libs.books.processed_book as proc\n",
    "import nlp_libs.books.book_extractor as extr"
   ]
  },
  {
   "cell_type": "markdown",
   "metadata": {},
   "source": [
    "# Plotting Functions"
   ]
  },
  {
   "cell_type": "code",
   "execution_count": 7,
   "metadata": {},
   "outputs": [],
   "source": [
    "import nlp_libs.books.plotter as pl"
   ]
  },
  {
   "cell_type": "markdown",
   "metadata": {},
   "source": [
    "# Circular Staircase - Analysis"
   ]
  },
  {
   "cell_type": "code",
   "execution_count": 8,
   "metadata": {},
   "outputs": [
    {
     "name": "stderr",
     "output_type": "stream",
     "text": [
      "2021-09-27 00:16:16 Config       INFO     \u001b[1m\u001b[37mConfiguration file loaded successfully from path: /home/drkostas/GDrive/Projects/UTK/rinehartAnalysis/confs/proj_1.yml\u001b[0m\n",
      "2021-09-27 00:16:16 Config       INFO     \u001b[1m\u001b[37mConfiguration Tag: proj1\u001b[0m\n",
      "2021-09-27 00:16:19 Notebook     INFO     \u001b[1m\u001b[36mURL: https://www.gutenberg.org/files/434/434-0.txt\u001b[0m\n"
     ]
    }
   ],
   "source": [
    "# Load the configuration\n",
    "conf = Configuration(config_src=config_path)\n",
    "# Get the books dict\n",
    "books = conf.get_config('data_loader')['config']['books']\n",
    "title, metadata = list(books.items())[0]\n",
    "# Create ProcessedBook Object\n",
    "book = proc.ProcessedBook(title=title, metadata=metadata)\n",
    "logger.info(f\"URL: {book.url}\")"
   ]
  },
  {
   "cell_type": "code",
   "execution_count": 9,
   "metadata": {},
   "outputs": [
    {
     "name": "stdout",
     "output_type": "stream",
     "text": [
      "a relief when mrs. watson tapped at the\n",
      "and reported that mrs. watson was in a\n",
      "and seemed frightened. mrs. watson made some tea\n",
      "and with him mrs. watson, the housekeeper\n",
      "around the house. mrs. watson herself was a\n",
      "babys nursing bottle. mrs. watson was fixing a\n",
      "but just now mrs. watsons face was an\n",
      "charity hospital that mrs. watson was dying, and\n",
      "de club. did mrs. watson say that anything\n",
      "dragged along slowly. mrs. watson came to my\n",
      "forced money from anne watson instead until she\n",
      "from the start. “mrs. watson went into her\n",
      "her name was anne watson, and i dined\n",
      "her presence known. mrs. watson and thomas had\n",
      "house and brought mrs. watson, and they talked\n",
      "i ran after mrs. watson. its down to\n",
      "iron bed, lay mrs. watson. she was very\n",
      "little before three, mrs. watson started up to\n",
      "my talk with mrs. watson, and i dressed\n",
      "of nervous shock. “mrs. watson,\n",
      "of terrible excitement. mrs. watson tried to hide\n",
      "on earth why mrs. watson should not have\n",
      "rosies basket and mrs. watsons blanket can only\n",
      "rushing up, and anne watson, who had waited\n",
      "talking quietly, and mrs. watson was looking down\n",
      "the cook left. mrs. watson had been glad\n",
      "the next morning mrs. watson went up to\n",
      "the servants blankets, mrs. watson. up its luxurious\n",
      "thomas johnson and mrs. watson permission to go\n",
      "thomas known, and mrs. watson. who was nina\n",
      "thomas sent for mrs. watson and then went\n",
      "tired and depressed. mrs. watson and liddy were\n",
      "to cry, and mrs. watson knocked over a\n",
      "to the lodge. mrs. watson had gone to\n",
      "we went in mrs. watson appeared at the\n",
      "who was taking mrs. watsons place, had finished\n",
      "you neednt bother, mrs. watson. i will take\n"
     ]
    }
   ],
   "source": [
    "# The three words preceding, and the three words following the mention of a perpetrator\n",
    "suspects, perp, dets, co_ocs, crime = extr.get_analysis_formats(metadata)\n",
    "perp_three_words = extr.get_earliest_chapter_sentence_from_name_lists(book, perp, 3, first=False)\n",
    "for name, results in perp_three_words.items():\n",
    "    for sent_frag in np.unique(results[2]):\n",
    "        print(sent_frag)"
   ]
  },
  {
   "cell_type": "code",
   "execution_count": 10,
   "metadata": {},
   "outputs": [],
   "source": [
    "suspects_, perp, dets, co_ocs, crime = extr.get_analysis_formats(metadata)"
   ]
  },
  {
   "cell_type": "code",
   "execution_count": 11,
   "metadata": {},
   "outputs": [],
   "source": [
    "suspects = extr.get_earliest_chapter_sentence_from_name_lists(book, suspects_, 3, first=True)\n",
    "perp = extr.get_earliest_chapter_sentence_from_name_lists(book, perp, 3, first=True)\n",
    "dets = extr.get_earliest_chapter_sentence_from_name_lists(book, dets, 3, first=True)\n",
    "co_ocs = extr.get_co_occurence(book, co_ocs, n_sents=2)"
   ]
  },
  {
   "cell_type": "markdown",
   "metadata": {},
   "source": [
    "## Get Crime Mentions, Details\n",
    "Link the first mention with the next close mentions"
   ]
  },
  {
   "cell_type": "code",
   "execution_count": 12,
   "metadata": {},
   "outputs": [
    {
     "name": "stderr",
     "output_type": "stream",
     "text": [
      "2021-09-27 00:16:19 Book Extractor INFO     \u001b[4m\u001b[33mRegex: (^.*(?=revolver)(?:.*\\s(?:killed|shot|body).*)$)\u001b[0m\n",
      "\n",
      "2021-09-27 00:16:19 Notebook     INFO     \u001b[4m\u001b[36mFirst mention: Chapter: 2, Sentence: 68\u001b[0m\n",
      "2021-09-27 00:16:19 Notebook     INFO     \u001b[1m\u001b[36mAt three oclock in the morning I was roused by a revolver shot\u001b[0m\n",
      "2021-09-27 00:16:19 Notebook     INFO     \u001b[4m\u001b[33mCrime Details Location: \u001b[0m\n",
      "2021-09-27 00:16:19 Notebook     INFO     \u001b[1m\u001b[36mFirst Instace: Chapter 2, Sentence 68\u001b[0m\n",
      "2021-09-27 00:16:19 Notebook     INFO     \u001b[1m\u001b[36mLast Instace: Chapter 2, Sentence 68\u001b[0m\n",
      "2021-09-27 00:16:19 Notebook     INFO     \u001b[4m\u001b[33mCrime Details: \u001b[0m\n",
      "2021-09-27 00:16:19 Notebook     INFO     \u001b[1m\u001b[36m\n",
      "At three oclock in the morning I was roused by a revolver shot. The sound seemed to come from just outside my door. For a moment I could not move\u001b[0m\n"
     ]
    }
   ],
   "source": [
    "# Get mentions\n",
    "crime_words = book.crime_details['or_words']\n",
    "p_lookaheads = book.crime_details['positive_lookeaheads']\n",
    "crime_mentions = extr.get_crime_mentions(book=book, \n",
    "                                         crime_words=crime_words,\n",
    "                                         p_lookaheads=p_lookaheads,\n",
    "                                         print_instances=False)\n",
    "logger.nl()\n",
    "first_crime_mention = crime_mentions[0]\n",
    "logger.info(f\"First mention: Chapter: {first_crime_mention[0]}, Sentence: {first_crime_mention[1]}\",\n",
    "            attrs=['underline'])\n",
    "logger.info(f\"{book.clean[first_crime_mention[0]][first_crime_mention[1]]}\")\n",
    "# Get Details\n",
    "crime_details_tup = extr.get_crime_details(book=book, \n",
    "                                           crime_mentions=crime_mentions,\n",
    "                                           max_dist=10,\n",
    "                                           left_margin=0,\n",
    "                                           right_margin=2,)\n",
    "(first_crime_details, close_mentions_idx) = crime_details_tup\n",
    "logger.info(\"Crime Details Location: \", attrs=['underline'], color='yellow')\n",
    "logger.info(f\"First Instace: Chapter {close_mentions_idx[0][0]}, \"\n",
    "            f\"Sentence {close_mentions_idx[0][1]}\")\n",
    "logger.info(f\"Last Instace: Chapter {close_mentions_idx[-1][0]}, \"\n",
    "            f\"Sentence {close_mentions_idx[-1][1]}\")\n",
    "logger.info(\"Crime Details: \", attrs=['underline'], color='yellow')\n",
    "logger.info(f\"\\n{first_crime_details}\")"
   ]
  },
  {
   "cell_type": "markdown",
   "metadata": {},
   "source": [
    "## Get Crime Type"
   ]
  },
  {
   "cell_type": "code",
   "execution_count": 13,
   "metadata": {},
   "outputs": [
    {
     "name": "stderr",
     "output_type": "stream",
     "text": [
      "2021-09-27 00:16:19 Book Extractor INFO     \u001b[4m\u001b[33mRegex: (^.*(?=bullet)(?:.*\\s(?:fired|killed|murdered).*)$)\u001b[0m\n",
      "\n",
      "2021-09-27 00:16:19 Notebook     INFO     \u001b[4m\u001b[36mFirst mention: Chapter: 4, Sentence: 49\u001b[0m\n",
      "2021-09-27 00:16:19 Notebook     INFO     \u001b[1m\u001b[36mThe bullet was fired at close range, entered below the shoulder and came out, after passing through the heart, well down the back\u001b[0m\n",
      "2021-09-27 00:16:19 Notebook     INFO     \u001b[4m\u001b[33mCrime Details Location: \u001b[0m\n",
      "2021-09-27 00:16:19 Notebook     INFO     \u001b[1m\u001b[36mFirst Instace: Chapter 4, Sentence 49\u001b[0m\n",
      "2021-09-27 00:16:19 Notebook     INFO     \u001b[1m\u001b[36mLast Instace: Chapter 4, Sentence 49\u001b[0m\n",
      "2021-09-27 00:16:19 Notebook     INFO     \u001b[4m\u001b[33mCrime Details: \u001b[0m\n",
      "2021-09-27 00:16:19 Notebook     INFO     \u001b[1m\u001b[36m\n",
      "In the first place, Mr. Armstrong was shot from above. The bullet was fired at close range, entered below the shoulder and came out, after passing through the heart, well down the back. In other words, I believe the murderer stood on the stairs and fired down. In the second place, I found on the edge of the billiard-table a charred cigar which had burned itself partly out, and a cigarette which had consumed itself to the cork tip\u001b[0m\n"
     ]
    }
   ],
   "source": [
    "# Get mentions\n",
    "crime_type_words = book.crime_type['or_words']\n",
    "p_lookaheads = book.crime_type['positive_lookeaheads']\n",
    "crime_mentions = extr.get_crime_mentions(book=book, \n",
    "                                         crime_words=crime_type_words,\n",
    "                                         p_lookaheads=p_lookaheads,\n",
    "                                         print_instances=False)\n",
    "logger.nl()\n",
    "first_crime_mention = crime_mentions[0]\n",
    "logger.info(f\"First mention: Chapter: {first_crime_mention[0]}, Sentence: {first_crime_mention[1]}\",\n",
    "            attrs=['underline'])\n",
    "logger.info(f\"{book.clean[first_crime_mention[0]][first_crime_mention[1]]}\")\n",
    "# Get Details\n",
    "crime_details_tup = extr.get_crime_details(book=book, \n",
    "                                           crime_mentions=crime_mentions,\n",
    "                                           max_dist=10,\n",
    "                                           left_margin=1,\n",
    "                                           right_margin=2,)\n",
    "(first_crime_details, close_mentions_idx) = crime_details_tup\n",
    "logger.info(\"Crime Details Location: \", attrs=['underline'], color='yellow')\n",
    "logger.info(f\"First Instace: Chapter {close_mentions_idx[0][0]}, \"\n",
    "            f\"Sentence {close_mentions_idx[0][1]}\")\n",
    "logger.info(f\"Last Instace: Chapter {close_mentions_idx[-1][0]}, \"\n",
    "            f\"Sentence {close_mentions_idx[-1][1]}\")\n",
    "logger.info(\"Crime Details: \", attrs=['underline'], color='yellow')\n",
    "logger.info(f\"\\n{first_crime_details}\")"
   ]
  },
  {
   "cell_type": "markdown",
   "metadata": {},
   "source": [
    "## Plotting"
   ]
  },
  {
   "cell_type": "code",
   "execution_count": 14,
   "metadata": {},
   "outputs": [],
   "source": [
    "locs, labels, colors = pl.create_locs_labels(book, suspects, perp, dets, co_ocs, crime)"
   ]
  },
  {
   "cell_type": "code",
   "execution_count": 15,
   "metadata": {},
   "outputs": [
    {
     "data": {
      "image/png": "[encoded data removed]",
      "text/plain": [
       "<Figure size 864x360 with 1 Axes>"
      ]
     },
     "metadata": {
      "needs_background": "light"
     },
     "output_type": "display_data"
    }
   ],
   "source": [
    "pl.make_timeline(book, locs, labels, colors, title)"
   ]
  },
  {
   "cell_type": "markdown",
   "metadata": {},
   "source": [
    "# The Man in the Lower Ten - Analysis"
   ]
  },
  {
   "cell_type": "code",
   "execution_count": 16,
   "metadata": {},
   "outputs": [
    {
     "name": "stderr",
     "output_type": "stream",
     "text": [
      "2021-09-27 00:16:19 Config       INFO     \u001b[1m\u001b[37mConfiguration file loaded successfully from path: /home/drkostas/GDrive/Projects/UTK/rinehartAnalysis/confs/proj_1.yml\u001b[0m\n",
      "2021-09-27 00:16:19 Config       INFO     \u001b[1m\u001b[37mConfiguration Tag: proj1\u001b[0m\n",
      "2021-09-27 00:16:21 Notebook     INFO     \u001b[1m\u001b[36mURL: https://www.gutenberg.org/files/1869/1869-0.txt\u001b[0m\n"
     ]
    }
   ],
   "source": [
    "# Load the configuration\n",
    "conf = Configuration(config_src=config_path)\n",
    "# Get the books dict\n",
    "books = conf.get_config('data_loader')['config']['books']\n",
    "title, metadata = list(books.items())[1]\n",
    "# Create ProcessedBook Object\n",
    "book = proc.ProcessedBook(title=title, metadata=metadata)\n",
    "logger.info(f\"URL: {book.url}\")"
   ]
  },
  {
   "cell_type": "code",
   "execution_count": 17,
   "metadata": {},
   "outputs": [
    {
     "name": "stdout",
     "output_type": "stream",
     "text": [
      "alison west and mrs. curtis had taken the\n",
      "and came back. “mrs. curtis is dead? you\n",
      "and just then mrs. curtis came in and\n",
      "brain. and when mrs. curtis arranged drives and\n",
      "for a year. mrs. curtis had hovered on\n",
      "for twenty years. mrs. curtis wanted her brother\n",
      "going about with mrs. curtis and her brother,\n",
      "had learned. “six curtise\n",
      "i have heard mrs. curtis say her mother\n",
      "i know the alice-\n",
      "in the night, mrs. curtis was in a\n",
      "meeting with the curtis woman was brief\n",
      "mrs. curtis had hovered on\n",
      "night, miss west, mrs. curtis and sullivan. the\n",
      "now and then mrs. curtis would say or\n",
      "person you mentioned, mrs. curtis, was my hostess.\n",
      "same car with mrs. curtis, miss west and\n",
      "that. “it wasnt alice-\n",
      "the estate since mrs. curtis was killed. “no\n",
      "the mountains without mrs. curtis, of a lost\n",
      "to my sister, alice curtis\n",
      "was growing clearer. mrs. curtis and i had\n",
      "was not like mrs. curtis. i wanted to\n",
      "“go on.” if mrs. curtis knew, she never\n",
      "“it wasnt alice-\n"
     ]
    }
   ],
   "source": [
    "# The three words preceding, and the three words following the mention of a perpetrator\n",
    "suspects, perp, dets, co_ocs, crime = extr.get_analysis_formats(metadata)\n",
    "perp_three_words = extr.get_earliest_chapter_sentence_from_name_lists(book, perp, 3, first=False)\n",
    "for name, results in perp_three_words.items():\n",
    "    for sent_frag in np.unique(results[2]):\n",
    "        print(sent_frag)"
   ]
  },
  {
   "cell_type": "code",
   "execution_count": 18,
   "metadata": {},
   "outputs": [],
   "source": [
    "suspects, perp, dets, co_ocs, crime = extr.get_analysis_formats(metadata)"
   ]
  },
  {
   "cell_type": "code",
   "execution_count": 19,
   "metadata": {},
   "outputs": [],
   "source": [
    "suspects = extr.get_earliest_chapter_sentence_from_name_lists(book, suspects, 3, first=True)\n",
    "perp = extr.get_earliest_chapter_sentence_from_name_lists(book, perp, 3, first=True)\n",
    "dets = extr.get_earliest_chapter_sentence_from_name_lists(book, dets, 3, first=True)\n",
    "co_ocs = extr.get_co_occurence(book, co_ocs, n_sents=2)"
   ]
  },
  {
   "cell_type": "markdown",
   "metadata": {},
   "source": [
    "## Get Crime Mentions, Details\n",
    "Link the first mention with the next close mentions"
   ]
  },
  {
   "cell_type": "code",
   "execution_count": 20,
   "metadata": {},
   "outputs": [
    {
     "name": "stderr",
     "output_type": "stream",
     "text": [
      "2021-09-27 00:16:21 Book Extractor INFO     \u001b[4m\u001b[33mRegex: (^.*(?:.*\\s(?:body).*)$)\u001b[0m\n",
      "\n",
      "2021-09-27 00:16:22 Notebook     INFO     \u001b[4m\u001b[36mFirst mention: Chapter: 1, Sentence: 116\u001b[0m\n",
      "2021-09-27 00:16:22 Notebook     INFO     \u001b[1m\u001b[36mThen, without the slightest warning, as the train rounded a curve, a heavy body was thrown into my berth\u001b[0m\n",
      "2021-09-27 00:16:22 Notebook     INFO     \u001b[4m\u001b[33mCrime Details Location: \u001b[0m\n",
      "2021-09-27 00:16:22 Notebook     INFO     \u001b[1m\u001b[36mFirst Instace: Chapter 1, Sentence 116\u001b[0m\n",
      "2021-09-27 00:16:22 Notebook     INFO     \u001b[1m\u001b[36mLast Instace: Chapter 1, Sentence 116\u001b[0m\n",
      "2021-09-27 00:16:22 Notebook     INFO     \u001b[4m\u001b[33mCrime Details: \u001b[0m\n",
      "2021-09-27 00:16:22 Notebook     INFO     \u001b[1m\u001b[36m\n",
      "Every nerve was tense: time passed, perhaps ten minutes, possibly half an hour. Then, without the slightest warning, as the train rounded a curve, a heavy body was thrown into my berth. The incident, trivial as it seemed, was startling in its suddenness, for although my ears were painfully strained and awake, I had heard no step outside. The next instant the curtain hung limp again; still without a sound, my disturber had slipped away into the gloom and darkness\u001b[0m\n"
     ]
    }
   ],
   "source": [
    "# Get Mentions\n",
    "crime_details_words = book.crime_details['or_words']\n",
    "p_lookaheads = book.crime_details['positive_lookeaheads']\n",
    "crime_mentions = extr.get_crime_mentions(book=book, \n",
    "                                         crime_words=crime_details_words,\n",
    "                                         p_lookaheads=p_lookaheads,\n",
    "                                         print_instances=False)\n",
    "logger.nl()\n",
    "first_crime_mention = crime_mentions[0]\n",
    "logger.info(f\"First mention: Chapter: {first_crime_mention[0]}, Sentence: {first_crime_mention[1]}\",\n",
    "            attrs=['underline'])\n",
    "logger.info(f\"{book.clean[first_crime_mention[0]][first_crime_mention[1]]}\")\n",
    "# Get Details\n",
    "crime_details_tup = extr.get_crime_details(book=book, \n",
    "                                           crime_mentions=crime_mentions,\n",
    "                                           max_dist=10,\n",
    "                                           left_margin=1,\n",
    "                                           right_margin=2,)\n",
    "(first_crime_details, close_mentions_idx) = crime_details_tup\n",
    "logger.info(\"Crime Details Location: \", attrs=['underline'], color='yellow')\n",
    "logger.info(f\"First Instace: Chapter {close_mentions_idx[0][0]}, \"\n",
    "            f\"Sentence {close_mentions_idx[0][1]}\")\n",
    "logger.info(f\"Last Instace: Chapter {close_mentions_idx[-1][0]}, \"\n",
    "            f\"Sentence {close_mentions_idx[-1][1]}\")\n",
    "logger.info(\"Crime Details: \", attrs=['underline'], color='yellow')\n",
    "logger.info(f\"\\n{first_crime_details}\")"
   ]
  },
  {
   "cell_type": "markdown",
   "metadata": {},
   "source": [
    "## Get Crime Type"
   ]
  },
  {
   "cell_type": "code",
   "execution_count": 21,
   "metadata": {},
   "outputs": [
    {
     "name": "stderr",
     "output_type": "stream",
     "text": [
      "2021-09-27 00:16:22 Book Extractor INFO     \u001b[4m\u001b[33mRegex: (^.*(?=body)(?:.*\\s(?:stabbed|shot).*)$)\u001b[0m\n",
      "\n",
      "2021-09-27 00:16:22 Notebook     INFO     \u001b[4m\u001b[36mFirst mention: Chapter: 12, Sentence: 113\u001b[0m\n",
      "2021-09-27 00:16:22 Notebook     INFO     \u001b[1m\u001b[36mShortly before the collision, John Flanders, the conductor of the Flier, sent this telegram to the chief of police: “Body of Simon Harrington found stabbed in his berth, lower ten, Ontario, at six-thirty this morning\u001b[0m\n",
      "2021-09-27 00:16:22 Notebook     INFO     \u001b[4m\u001b[33mCrime Details Location: \u001b[0m\n",
      "2021-09-27 00:16:22 Notebook     INFO     \u001b[1m\u001b[36mFirst Instace: Chapter 12, Sentence 113\u001b[0m\n",
      "2021-09-27 00:16:22 Notebook     INFO     \u001b[1m\u001b[36mLast Instace: Chapter 12, Sentence 113\u001b[0m\n",
      "2021-09-27 00:16:22 Notebook     INFO     \u001b[4m\u001b[33mCrime Details: \u001b[0m\n",
      "2021-09-27 00:16:22 Notebook     INFO     \u001b[1m\u001b[36m\n",
      "It has transpired that Simon Harrington, the Wood Street merchant of that city, was not killed in the wreck, but was murdered in his berth the night preceding the accident. Shortly before the collision, John Flanders, the conductor of the Flier, sent this telegram to the chief of police: “Body of Simon Harrington found stabbed in his berth, lower ten, Ontario, at six-thirty this morning. JOHN FLANDERS, Conductor. “It is hoped that the survivors of the wrecked car Ontario will be found, to tell what they know of the discovery of the crime\u001b[0m\n"
     ]
    }
   ],
   "source": [
    "# Get Mentions\n",
    "crime_type_words = book.crime_type['or_words']\n",
    "p_lookaheads = book.crime_type['positive_lookeaheads']\n",
    "crime_mentions = extr.get_crime_mentions(book=book, \n",
    "                                         crime_words=crime_type_words,\n",
    "                                         p_lookaheads=p_lookaheads,\n",
    "                                         print_instances=False)\n",
    "logger.nl()\n",
    "first_crime_mention = crime_mentions[0]\n",
    "logger.info(f\"First mention: Chapter: {first_crime_mention[0]}, Sentence: {first_crime_mention[1]}\",\n",
    "            attrs=['underline'])\n",
    "logger.info(f\"{book.clean[first_crime_mention[0]][first_crime_mention[1]]}\")\n",
    "# Get Details\n",
    "crime_details_tup = extr.get_crime_details(book=book, \n",
    "                                           crime_mentions=crime_mentions,\n",
    "                                           max_dist=10,\n",
    "                                           left_margin=1,\n",
    "                                           right_margin=2,)\n",
    "(first_crime_details, close_mentions_idx) = crime_details_tup\n",
    "logger.info(\"Crime Details Location: \", attrs=['underline'], color='yellow')\n",
    "logger.info(f\"First Instace: Chapter {close_mentions_idx[0][0]}, \"\n",
    "            f\"Sentence {close_mentions_idx[0][1]}\")\n",
    "logger.info(f\"Last Instace: Chapter {close_mentions_idx[-1][0]}, \"\n",
    "            f\"Sentence {close_mentions_idx[-1][1]}\")\n",
    "logger.info(\"Crime Details: \", attrs=['underline'], color='yellow')\n",
    "logger.info(f\"\\n{first_crime_details}\")"
   ]
  },
  {
   "cell_type": "markdown",
   "metadata": {},
   "source": [
    "## Plotting"
   ]
  },
  {
   "cell_type": "code",
   "execution_count": 22,
   "metadata": {},
   "outputs": [],
   "source": [
    "locs, labels, colors = pl.create_locs_labels(book, suspects, perp, dets, co_ocs, crime)"
   ]
  },
  {
   "cell_type": "code",
   "execution_count": 23,
   "metadata": {},
   "outputs": [
    {
     "data": {
      "image/png": "[encoded data removed]",
      "text/plain": [
       "<Figure size 864x360 with 1 Axes>"
      ]
     },
     "metadata": {
      "needs_background": "light"
     },
     "output_type": "display_data"
    }
   ],
   "source": [
    "pl.make_timeline(book, locs, labels, colors, title)"
   ]
  },
  {
   "cell_type": "markdown",
   "metadata": {},
   "source": [
    "# The After House - Analysis"
   ]
  },
  {
   "cell_type": "code",
   "execution_count": 24,
   "metadata": {},
   "outputs": [
    {
     "name": "stderr",
     "output_type": "stream",
     "text": [
      "2021-09-27 00:16:22 Config       INFO     \u001b[1m\u001b[37mConfiguration file loaded successfully from path: /home/drkostas/GDrive/Projects/UTK/rinehartAnalysis/confs/proj_1.yml\u001b[0m\n",
      "2021-09-27 00:16:22 Config       INFO     \u001b[1m\u001b[37mConfiguration Tag: proj1\u001b[0m\n",
      "2021-09-27 00:16:24 Notebook     INFO     \u001b[1m\u001b[36mURL: https://gutenberg.org/files/2358/2358-0.txt\u001b[0m\n"
     ]
    }
   ],
   "source": [
    "# Load the configuration\n",
    "conf = Configuration(config_src=config_path)\n",
    "# Get the books dict\n",
    "books = conf.get_config('data_loader')['config']['books']\n",
    "title, metadata = list(books.items())[2]\n",
    "# Create ProcessedBook Object\n",
    "book = proc.ProcessedBook(title=title, metadata=metadata) \n",
    "logger.info(f\"URL: {book.url}\")\n",
    "other_suspects = []\n",
    "\n",
    "dets_perp = []"
   ]
  },
  {
   "cell_type": "code",
   "execution_count": 25,
   "metadata": {},
   "outputs": [
    {
     "name": "stdout",
     "output_type": "stream",
     "text": [
      "after we anchored, charlie jones roused me, grinning.\n",
      "along without him. charlie jones, always an influence\n",
      "among the men. jones, from the tent,\n",
      "among them all. jones, wrought to the\n",
      "and adams and charlie jones, old in the\n",
      "and called to charlie jones to send the\n",
      "behind the crew, charlie jones had left the\n",
      "boat astern, and charlie jones suggested a white\n",
      "carried a lantern. charlie jones held singletons broken\n",
      "charles klineordlinger (jones)\n",
      "crew listened while jones read evening prayer.\n",
      "crows-nest was mcnamara; jones was at the\n",
      "didnt do that, charlie,\n",
      "discovered no key. jones, seeing us searching,\n",
      "easily behind us. jones heard me moving,\n",
      "exclamation, and both jones and i leaped\n",
      "eyes keenly alert, charlie jones was on guard,\n",
      "five: clarke, mcnamara, charlie jones, burns, and myself;\n",
      "from the decision. charlie jones, who, by reason\n",
      "had not come. charlie jones, reading his bible\n",
      "hands. she saw charlie jones pacing the length\n",
      "happened to be charlie jones. jones was not\n",
      "have called me, jones,\n",
      "he could hear charlie jones in the forecastle\n",
      "he regained consciousness. jones and adams went\n",
      "him, and instructed charlie jones to keep them\n",
      "humor; and that charlie jones, who was at\n",
      "i came back, jones was standing at\n",
      "i next, and charlie jones behind, on our\n",
      "i quoted. but charlie, clutching the wheel,\n",
      "i turned, dripping, jones, relieved of the\n",
      "in the morning. jones was in the\n",
      "is the story. jones was a madman,\n",
      "jones was at the\n",
      "jones was not his\n",
      "masts. “sometimes,” said charlie jones, “i think the\n",
      "match. it was charlie jones. that, after all,\n",
      "new point: that jones, the helmsman, had\n",
      "of bigger fish. charlie jones surveyed me over\n",
      "of the table charlie jones was reading the\n",
      "off. it was jones, of course, who\n",
      "oleson, adams, and charlie jones. it was two\n",
      "one detail of charlie joness testimony. did you,\n",
      "overboard. very likely, jones. but i shall\n",
      "quarreled with richardson. jones and i waited\n",
      "service. i chose charlie jones and clarke as\n",
      "so. he asked jones to strike the\n",
      "suspicion. burns suggested charlie jones as probably the\n",
      "the after companionway. charlie jones was at the\n",
      "the after house, jones stumbled over something,\n",
      "the after house. jones, who had been\n",
      "the captains room charlie jones had reached the\n",
      "the chart-room. as charlie jones and i looked,\n",
      "the forecastle supper. charlie was coughing, a\n",
      "the hansen woman. jones was at the\n",
      "the part of charlie jones, who tempered his\n",
      "the same sitting. jones is in a\n",
      "the tent, where jones sat beside him,\n",
      "the tent, where jones, having exhausted the\n",
      "the wheel, and jones be given the\n",
      "then on land, charlie; but here, between\n",
      "three of us, jones, burns, and i,\n",
      "to the wheel, jones was smoking quietly.\n",
      "to think not, jones construing his mission\n",
      "took my place. charlie jones was at the\n",
      "toward it, listening. jones heard it, too,\n",
      "turners door, and jones leaned over me,\n",
      "until, having requested jones, who had been\n",
      "up his hands. jones had not finished.\n",
      "was eaten; and charlie jones, securing a permission\n",
      "was singleton. when jones had taken up\n",
      "was the bell. joness eyes were fixed\n",
      "was worn over joness head—a long, narrow\n",
      "we can do, jones. we can keep\n",
      "went aft, to charlie jones, who was at\n",
      "went below, where jones, relieved of guard\n",
      "went forward together, jones to get coffee,\n",
      "were merely portholes. jones was no longer\n",
      "when i roused, jones at the wheel\n",
      "williamss shirt bosom. charlie jones, bending to the\n",
      "with the axe, jones slipped back to\n",
      "—jones ate his supper\n",
      "“a bad woman”. charlie jones was called first,\n",
      "“and, whats more,” charlie jones went on, “im\n",
      "“please!” i said. charlie jones came to the\n"
     ]
    }
   ],
   "source": [
    "# The three words preceding, and the three words following the mention of a perpetrator\n",
    "suspects, perp, dets, co_ocs, crime = extr.get_analysis_formats(metadata)\n",
    "perp_three_words = extr.get_earliest_chapter_sentence_from_name_lists(book, perp, 3, first=False)\n",
    "for name, results in perp_three_words.items():\n",
    "    for sent_frag in np.unique(results[2]):\n",
    "        print(sent_frag)"
   ]
  },
  {
   "cell_type": "code",
   "execution_count": 26,
   "metadata": {},
   "outputs": [],
   "source": [
    "suspects, perp, dets, co_ocs, crime = extr.get_analysis_formats(metadata)"
   ]
  },
  {
   "cell_type": "code",
   "execution_count": 27,
   "metadata": {},
   "outputs": [],
   "source": [
    "suspects = extr.get_earliest_chapter_sentence_from_name_lists(book, suspects, 3, first=True)\n",
    "perp = extr.get_earliest_chapter_sentence_from_name_lists(book, perp, 3, first=True)\n",
    "dets = extr.get_earliest_chapter_sentence_from_name_lists(book, dets, 3, first=True)\n",
    "co_ocs = extr.get_co_occurence(book, co_ocs, n_sents=2)"
   ]
  },
  {
   "cell_type": "markdown",
   "metadata": {},
   "source": [
    "## Get Crime Mentions, Details\n",
    "Link the first mention with the next close mentions"
   ]
  },
  {
   "cell_type": "code",
   "execution_count": 28,
   "metadata": {},
   "outputs": [
    {
     "name": "stderr",
     "output_type": "stream",
     "text": [
      "2021-09-27 00:16:24 Book Extractor INFO     \u001b[4m\u001b[33mRegex: (^.*(?=cut)(?:.*\\s(?:pieces|dead|killed).*)$)\u001b[0m\n",
      "\n",
      "2021-09-27 00:16:24 Notebook     INFO     \u001b[4m\u001b[36mFirst mention: Chapter: 4, Sentence: 109\u001b[0m\n",
      "2021-09-27 00:16:24 Notebook     INFO     \u001b[1m\u001b[36mHe had been almost cut to pieces with an axe\u001b[0m\n",
      "2021-09-27 00:16:24 Notebook     INFO     \u001b[4m\u001b[33mCrime Details Location: \u001b[0m\n",
      "2021-09-27 00:16:24 Notebook     INFO     \u001b[1m\u001b[36mFirst Instace: Chapter 4, Sentence 109\u001b[0m\n",
      "2021-09-27 00:16:24 Notebook     INFO     \u001b[1m\u001b[36mLast Instace: Chapter 4, Sentence 109\u001b[0m\n",
      "2021-09-27 00:16:24 Notebook     INFO     \u001b[4m\u001b[33mCrime Details: \u001b[0m\n",
      "2021-09-27 00:16:24 Notebook     INFO     \u001b[1m\u001b[36m\n",
      "I went in and felt my way to his bunk. I could hear him breathing, a stertorous respiration like that of sleep, and yet unlike. The moment I touched him, the sound ceased, and did not commence again. I struck a match and bent over him. He had been almost cut to pieces with an axe\u001b[0m\n"
     ]
    }
   ],
   "source": [
    "# Get Mentions\n",
    "crime_details_words = book.crime_details['or_words']\n",
    "p_lookaheads = book.crime_details['positive_lookeaheads']\n",
    "crime_mentions = extr.get_crime_mentions(book=book, \n",
    "                                         crime_words=crime_details_words,\n",
    "                                         p_lookaheads=p_lookaheads,\n",
    "                                         print_instances=False)\n",
    "logger.nl()\n",
    "first_crime_mention = crime_mentions[0]\n",
    "logger.info(f\"First mention: Chapter: {first_crime_mention[0]}, Sentence: {first_crime_mention[1]}\",\n",
    "            attrs=['underline'])\n",
    "logger.info(f\"{book.clean[first_crime_mention[0]][first_crime_mention[1]]}\")\n",
    "# Get Details\n",
    "crime_details_tup = extr.get_crime_details(book=book, \n",
    "                                           crime_mentions=crime_mentions,\n",
    "                                           max_dist=10,\n",
    "                                           left_margin=4,\n",
    "                                           right_margin=0,)\n",
    "(first_crime_details, close_mentions_idx) = crime_details_tup\n",
    "logger.info(\"Crime Details Location: \", attrs=['underline'], color='yellow')\n",
    "logger.info(f\"First Instace: Chapter {close_mentions_idx[0][0]}, \"\n",
    "            f\"Sentence {close_mentions_idx[0][1]}\")\n",
    "logger.info(f\"Last Instace: Chapter {close_mentions_idx[-1][0]}, \"\n",
    "            f\"Sentence {close_mentions_idx[-1][1]}\")\n",
    "logger.info(\"Crime Details: \", attrs=['underline'], color='yellow')\n",
    "logger.info(f\"\\n{first_crime_details}\")"
   ]
  },
  {
   "cell_type": "markdown",
   "metadata": {},
   "source": [
    "## Get Crime Type\n"
   ]
  },
  {
   "cell_type": "code",
   "execution_count": 29,
   "metadata": {},
   "outputs": [
    {
     "name": "stderr",
     "output_type": "stream",
     "text": [
      "2021-09-27 00:16:24 Book Extractor INFO     \u001b[4m\u001b[33mRegex: (^.*(?=cut)(?:.*\\s(?:pieces|dead|killed).*)$)\u001b[0m\n",
      "\n",
      "2021-09-27 00:16:24 Notebook     INFO     \u001b[4m\u001b[36mFirst mention: Chapter: 4, Sentence: 109\u001b[0m\n",
      "2021-09-27 00:16:24 Notebook     INFO     \u001b[1m\u001b[36mHe had been almost cut to pieces with an axe\u001b[0m\n",
      "2021-09-27 00:16:24 Notebook     INFO     \u001b[4m\u001b[33mCrime Details Location: \u001b[0m\n",
      "2021-09-27 00:16:24 Notebook     INFO     \u001b[1m\u001b[36mFirst Instace: Chapter 4, Sentence 109\u001b[0m\n",
      "2021-09-27 00:16:24 Notebook     INFO     \u001b[1m\u001b[36mLast Instace: Chapter 4, Sentence 109\u001b[0m\n",
      "2021-09-27 00:16:24 Notebook     INFO     \u001b[4m\u001b[33mCrime Details: \u001b[0m\n",
      "2021-09-27 00:16:24 Notebook     INFO     \u001b[1m\u001b[36m\n",
      "I went in and felt my way to his bunk. I could hear him breathing, a stertorous respiration like that of sleep, and yet unlike. The moment I touched him, the sound ceased, and did not commence again. I struck a match and bent over him. He had been almost cut to pieces with an axe\u001b[0m\n"
     ]
    }
   ],
   "source": [
    "# Get Mentions\n",
    "crime_type_words = book.crime_type['or_words']\n",
    "p_lookaheads = book.crime_type['positive_lookeaheads']\n",
    "crime_mentions = extr.get_crime_mentions(book=book, \n",
    "                                         crime_words=crime_type_words,\n",
    "                                         p_lookaheads=p_lookaheads,\n",
    "                                         print_instances=False)\n",
    "logger.nl()\n",
    "first_crime_mention = crime_mentions[0]\n",
    "logger.info(f\"First mention: Chapter: {first_crime_mention[0]}, Sentence: {first_crime_mention[1]}\",\n",
    "            attrs=['underline'])\n",
    "logger.info(f\"{book.clean[first_crime_mention[0]][first_crime_mention[1]]}\")\n",
    "# Get Details\n",
    "crime_details_tup = extr.get_crime_details(book=book, \n",
    "                                           crime_mentions=crime_mentions,\n",
    "                                           max_dist=10,\n",
    "                                           left_margin=4,\n",
    "                                           right_margin=0,)\n",
    "(first_crime_details, close_mentions_idx) = crime_details_tup\n",
    "logger.info(\"Crime Details Location: \", attrs=['underline'], color='yellow')\n",
    "logger.info(f\"First Instace: Chapter {close_mentions_idx[0][0]}, \"\n",
    "            f\"Sentence {close_mentions_idx[0][1]}\")\n",
    "logger.info(f\"Last Instace: Chapter {close_mentions_idx[-1][0]}, \"\n",
    "            f\"Sentence {close_mentions_idx[-1][1]}\")\n",
    "logger.info(\"Crime Details: \", attrs=['underline'], color='yellow')\n",
    "logger.info(f\"\\n{first_crime_details}\")"
   ]
  },
  {
   "cell_type": "markdown",
   "metadata": {},
   "source": [
    "## Plotting"
   ]
  },
  {
   "cell_type": "code",
   "execution_count": 30,
   "metadata": {},
   "outputs": [],
   "source": [
    "locs, labels, colors = pl.create_locs_labels(book, suspects, perp, dets, co_ocs, crime)"
   ]
  },
  {
   "cell_type": "code",
   "execution_count": 31,
   "metadata": {},
   "outputs": [
    {
     "data": {
      "image/png": "[encoded data removed]",
      "text/plain": [
       "<Figure size 864x360 with 1 Axes>"
      ]
     },
     "metadata": {
      "needs_background": "light"
     },
     "output_type": "display_data"
    }
   ],
   "source": [
    "pl.make_timeline(book, locs, labels, colors, title)"
   ]
  },
  {
   "cell_type": "markdown",
   "metadata": {},
   "source": [
    "# The Window at the White Cat - Analysis"
   ]
  },
  {
   "cell_type": "code",
   "execution_count": 32,
   "metadata": {},
   "outputs": [
    {
     "name": "stderr",
     "output_type": "stream",
     "text": [
      "2021-09-27 00:16:24 Config       INFO     \u001b[1m\u001b[37mConfiguration file loaded successfully from path: /home/drkostas/GDrive/Projects/UTK/rinehartAnalysis/confs/proj_1.yml\u001b[0m\n",
      "2021-09-27 00:16:24 Config       INFO     \u001b[1m\u001b[37mConfiguration Tag: proj1\u001b[0m\n",
      "2021-09-27 00:16:27 Notebook     INFO     \u001b[1m\u001b[36mURL: https://www.gutenberg.org/cache/epub/34020/pg34020.txt\u001b[0m\n"
     ]
    }
   ],
   "source": [
    "# Load the configuration\n",
    "conf = Configuration(config_src=config_path)\n",
    "# Get the books dict\n",
    "books = conf.get_config('data_loader')['config']['books']\n",
    "title, metadata = list(books.items())[3]\n",
    "# Create ProcessedBook Object\n",
    "book = proc.ProcessedBook(title=title, metadata=metadata)\n",
    "logger.info(f\"URL: {book.url}\")\n",
    "other_suspects = []\n",
    "\n",
    "dets_perp = []"
   ]
  },
  {
   "cell_type": "code",
   "execution_count": 33,
   "metadata": {},
   "outputs": [
    {
     "name": "stdout",
     "output_type": "stream",
     "text": [
      "\"do you think mrs. butler took your leather\n",
      "all more normal. mrs. butler had slept some,\n",
      "all. i met mrs. butler for the second\n",
      "and learned that mrs. butler was sinking. fred\n",
      "at least. fortunately, mrs. butler was exhausted by\n",
      "been her father's. mrs. butler came around enough\n",
      "chloroformed her, and mrs. butler'\n",
      "den. as usual, mrs. butler left the room\n",
      "edith who brought mrs. butler to my mind.\n",
      "find the woman. mrs. butler came down to\n",
      "for a week ellen butler hunted him vainly.\n",
      "from the house. ellen butler had been horrified,\n",
      "gown. it was ellen butler. she was living,\n",
      "had lived with mrs. butler since she was\n",
      "had said about ellen butler. she was conscious;\n",
      "her to let mrs. butler go back to\n",
      "i went to mrs. butler'\n",
      "in her agony, ellen butler'\n",
      "in honor of mrs. butler'\n",
      "me. no doubt mrs. butler deserved sympathy, but\n",
      "night about eleven. mrs. butler had come down\n",
      "normal american womanhood; ellen butler the neurasthenic; she\n",
      "one's sympathies. but mrs. butler was really ill,\n",
      "picnic. \"how is mrs. butler. his throat\n",
      "please. \"what does mrs. butler say. \"just what\n",
      "previous night's experience; mrs. butler was always pale,\n",
      "say. as for mrs. butler, to mention the\n",
      "scared housemaid, that mrs. butler had fainted. fred\n",
      "sewed. near me, mrs. butler had languidly taken\n",
      "that, after all, mrs. butler was an enemy\n",
      "the announcement of mrs. butler'\n",
      "the library, and mrs. butler and margery fleming\n",
      "the news about mrs. butler more calmly than\n",
      "the news of mrs. butler'\n",
      "to be blue. mrs. butler arrived that day,\n",
      "to her. but mrs. butler was not fainting.\n"
     ]
    }
   ],
   "source": [
    "# The three words preceding, and the three words following the mention of a perpetrator\n",
    "suspects, perp, dets, co_ocs, crime = extr.get_analysis_formats(metadata)\n",
    "perp_three_words = extr.get_earliest_chapter_sentence_from_name_lists(book, perp, 3, first=False)\n",
    "for name, results in perp_three_words.items():\n",
    "    for sent_frag in np.unique(results[2]):\n",
    "        print(sent_frag)"
   ]
  },
  {
   "cell_type": "code",
   "execution_count": 34,
   "metadata": {},
   "outputs": [],
   "source": [
    "suspects, perp, dets, co_ocs, crime = extr.get_analysis_formats(metadata)"
   ]
  },
  {
   "cell_type": "code",
   "execution_count": 35,
   "metadata": {},
   "outputs": [],
   "source": [
    "suspects = extr.get_earliest_chapter_sentence_from_name_lists(book, suspects, 3, first=True)\n",
    "perp = extr.get_earliest_chapter_sentence_from_name_lists(book, perp, 3, first=True)\n",
    "dets = extr.get_earliest_chapter_sentence_from_name_lists(book, dets, 3, first=True)\n",
    "co_ocs = extr.get_co_occurence(book, co_ocs, n_sents=2)"
   ]
  },
  {
   "cell_type": "markdown",
   "metadata": {},
   "source": [
    "## Get Crime Mentions, Details\n",
    "Link the first mention with the next close mentions"
   ]
  },
  {
   "cell_type": "code",
   "execution_count": 36,
   "metadata": {},
   "outputs": [
    {
     "name": "stderr",
     "output_type": "stream",
     "text": [
      "2021-09-27 00:16:27 Book Extractor INFO     \u001b[4m\u001b[33mRegex: (^.*(?=fleming)(?:.*\\s(?:shot|killed|murdered).*)$)\u001b[0m\n",
      "\n",
      "2021-09-27 00:16:27 Notebook     INFO     \u001b[4m\u001b[36mFirst mention: Chapter: 7, Sentence: 154\u001b[0m\n",
      "2021-09-27 00:16:27 Notebook     INFO     \u001b[1m\u001b[36mIt was Allan Fleming and he had been shot through the forehead\u001b[0m\n",
      "2021-09-27 00:16:27 Notebook     INFO     \u001b[4m\u001b[33mCrime Details Location: \u001b[0m\n",
      "2021-09-27 00:16:27 Notebook     INFO     \u001b[1m\u001b[36mFirst Instace: Chapter 7, Sentence 154\u001b[0m\n",
      "2021-09-27 00:16:27 Notebook     INFO     \u001b[1m\u001b[36mLast Instace: Chapter 7, Sentence 154\u001b[0m\n",
      "2021-09-27 00:16:27 Notebook     INFO     \u001b[4m\u001b[33mCrime Details: \u001b[0m\n",
      "2021-09-27 00:16:27 Notebook     INFO     \u001b[1m\u001b[36m\n",
      "\"I beg your pardon,\" I said, \"but I am looking, for--\" Then the truth burst on me, overwhelmed me. A thin stream was spreading over the papers on the table, moving slowly, sluggishly, as is the way with blood when the heart pump is stopped. I hurried over and raised the heavy, wobbling, gray head. It was Allan Fleming and he had been shot through the forehead\u001b[0m\n"
     ]
    }
   ],
   "source": [
    "# Get Mentions\n",
    "crime_details_words = book.crime_details['or_words']\n",
    "p_lookaheads = book.crime_details['positive_lookeaheads']\n",
    "crime_mentions = extr.get_crime_mentions(book=book, \n",
    "                                         crime_words=crime_details_words,\n",
    "                                         p_lookaheads=p_lookaheads,\n",
    "                                         print_instances=False)\n",
    "logger.nl()\n",
    "first_crime_mention = crime_mentions[0]\n",
    "logger.info(f\"First mention: Chapter: {first_crime_mention[0]}, Sentence: {first_crime_mention[1]}\",\n",
    "            attrs=['underline'])\n",
    "logger.info(f\"{book.clean[first_crime_mention[0]][first_crime_mention[1]]}\")\n",
    "# Get Details\n",
    "crime_details_tup = extr.get_crime_details(book=book, \n",
    "                                           crime_mentions=crime_mentions,\n",
    "                                           max_dist=10,\n",
    "                                           left_margin=3,\n",
    "                                           right_margin=0,)\n",
    "(first_crime_details, close_mentions_idx) = crime_details_tup\n",
    "logger.info(\"Crime Details Location: \", attrs=['underline'], color='yellow')\n",
    "logger.info(f\"First Instace: Chapter {close_mentions_idx[0][0]}, \"\n",
    "            f\"Sentence {close_mentions_idx[0][1]}\")\n",
    "logger.info(f\"Last Instace: Chapter {close_mentions_idx[-1][0]}, \"\n",
    "            f\"Sentence {close_mentions_idx[-1][1]}\")\n",
    "logger.info(\"Crime Details: \", attrs=['underline'], color='yellow')\n",
    "logger.info(f\"\\n{first_crime_details}\")"
   ]
  },
  {
   "cell_type": "markdown",
   "metadata": {},
   "source": [
    "## Get Crime Type"
   ]
  },
  {
   "cell_type": "code",
   "execution_count": 37,
   "metadata": {},
   "outputs": [
    {
     "name": "stderr",
     "output_type": "stream",
     "text": [
      "2021-09-27 00:16:27 Book Extractor INFO     \u001b[4m\u001b[33mRegex: (^.*(?=fleming)(?:.*\\s(?:shot|killed|murdered).*)$)\u001b[0m\n",
      "\n",
      "2021-09-27 00:16:27 Notebook     INFO     \u001b[4m\u001b[36mFirst mention: Chapter: 7, Sentence: 154\u001b[0m\n",
      "2021-09-27 00:16:27 Notebook     INFO     \u001b[1m\u001b[36mIt was Allan Fleming and he had been shot through the forehead\u001b[0m\n",
      "2021-09-27 00:16:27 Notebook     INFO     \u001b[4m\u001b[33mCrime Details Location: \u001b[0m\n",
      "2021-09-27 00:16:27 Notebook     INFO     \u001b[1m\u001b[36mFirst Instace: Chapter 7, Sentence 154\u001b[0m\n",
      "2021-09-27 00:16:27 Notebook     INFO     \u001b[1m\u001b[36mLast Instace: Chapter 7, Sentence 154\u001b[0m\n",
      "2021-09-27 00:16:27 Notebook     INFO     \u001b[4m\u001b[33mCrime Details: \u001b[0m\n",
      "2021-09-27 00:16:27 Notebook     INFO     \u001b[1m\u001b[36m\n",
      "\"I beg your pardon,\" I said, \"but I am looking, for--\" Then the truth burst on me, overwhelmed me. A thin stream was spreading over the papers on the table, moving slowly, sluggishly, as is the way with blood when the heart pump is stopped. I hurried over and raised the heavy, wobbling, gray head. It was Allan Fleming and he had been shot through the forehead\u001b[0m\n"
     ]
    }
   ],
   "source": [
    "# Get Mentions\n",
    "crime_type_words = book.crime_type['or_words']\n",
    "p_lookaheads = book.crime_type['positive_lookeaheads']\n",
    "crime_mentions = extr.get_crime_mentions(book=book, \n",
    "                                         crime_words=crime_type_words,\n",
    "                                         p_lookaheads=p_lookaheads,\n",
    "                                         print_instances=False)\n",
    "logger.nl()\n",
    "first_crime_mention = crime_mentions[0]\n",
    "logger.info(f\"First mention: Chapter: {first_crime_mention[0]}, Sentence: {first_crime_mention[1]}\",\n",
    "            attrs=['underline'])\n",
    "logger.info(f\"{book.clean[first_crime_mention[0]][first_crime_mention[1]]}\")\n",
    "# Get Details\n",
    "crime_details_tup = extr.get_crime_details(book=book, \n",
    "                                           crime_mentions=crime_mentions,\n",
    "                                           max_dist=10,\n",
    "                                           left_margin=3,\n",
    "                                           right_margin=0,)\n",
    "(first_crime_details, close_mentions_idx) = crime_details_tup\n",
    "logger.info(\"Crime Details Location: \", attrs=['underline'], color='yellow')\n",
    "logger.info(f\"First Instace: Chapter {close_mentions_idx[0][0]}, \"\n",
    "            f\"Sentence {close_mentions_idx[0][1]}\")\n",
    "logger.info(f\"Last Instace: Chapter {close_mentions_idx[-1][0]}, \"\n",
    "            f\"Sentence {close_mentions_idx[-1][1]}\")\n",
    "logger.info(\"Crime Details: \", attrs=['underline'], color='yellow')\n",
    "logger.info(f\"\\n{first_crime_details}\")"
   ]
  },
  {
   "cell_type": "markdown",
   "metadata": {},
   "source": [
    "## Plotting"
   ]
  },
  {
   "cell_type": "code",
   "execution_count": 38,
   "metadata": {},
   "outputs": [],
   "source": [
    "locs, labels, colors = pl.create_locs_labels(book, suspects, perp, dets, co_ocs, crime)"
   ]
  },
  {
   "cell_type": "code",
   "execution_count": 39,
   "metadata": {},
   "outputs": [
    {
     "data": {
      "image/png": "[encoded data removed]",
      "text/plain": [
       "<Figure size 864x360 with 1 Axes>"
      ]
     },
     "metadata": {
      "needs_background": "light"
     },
     "output_type": "display_data"
    }
   ],
   "source": [
    "pl.make_timeline(book, locs, labels, colors, title)"
   ]
  },
  {
   "cell_type": "markdown",
   "metadata": {},
   "source": [
    "# The Bat - Analysis"
   ]
  },
  {
   "cell_type": "code",
   "execution_count": 40,
   "metadata": {},
   "outputs": [
    {
     "name": "stderr",
     "output_type": "stream",
     "text": [
      "2021-09-27 00:16:27 Config       INFO     \u001b[1m\u001b[37mConfiguration file loaded successfully from path: /home/drkostas/GDrive/Projects/UTK/rinehartAnalysis/confs/proj_1.yml\u001b[0m\n",
      "2021-09-27 00:16:27 Config       INFO     \u001b[1m\u001b[37mConfiguration Tag: proj1\u001b[0m\n"
     ]
    }
   ],
   "source": [
    "# Load Circlular Staircase example\n",
    "# Load the configuration\n",
    "conf = Configuration(config_src=config_path)\n",
    "# Get the books dict\n",
    "books = conf.get_config('data_loader')['config']['books']\n",
    "title, metadata = list(books.items())[4]\n",
    "# Create ProcessedBook Object\n",
    "book = proc.ProcessedBook(title=title, metadata=metadata, bat=True)"
   ]
  },
  {
   "cell_type": "code",
   "execution_count": 41,
   "metadata": {
    "scrolled": true
   },
   "outputs": [
    {
     "name": "stdout",
     "output_type": "stream",
     "text": [
      "\" lizzie demanded. \"the bat has gone. \"don't\n",
      "\"and the bat is not in\n",
      "\"bat baffles police again.\n",
      "\"down there, where the bat is. \" lizzie\n",
      "\"ever since the bat got him i've\n",
      "\"i'd forget the bat in all this.\n",
      "\"it's the bat-\n",
      "\"still harping on the bat. stuck to her\n",
      "\"there's bats in this house,\n",
      "-bat. \" she murmured\n",
      "-bat. voice\n",
      "a chance at the bat, i'd give it\n",
      "a chance at the bat. \" repeated anderson\n",
      "a chance at the bat. slowly\n",
      "a chance at the bat. the chief drummed\n",
      "a gigantic black bat.\n",
      "about moving into the bat'\n",
      "all summer long--and the bat would never disturb\n",
      "an evil moon. the bat-\n",
      "an infernal paper bat pinned where my\n",
      "and drew a batt\n",
      "and thinking--are you the bat. try it for\n",
      "and yet--did the bat ever threaten before\n",
      "be safe in the bath\n",
      "belong to you. the batt\n",
      "black cigar, a batt\n",
      "body of a bat. of what happened\n",
      "brooks. the bat.\n",
      "burst forth with 'bat captured by blade\n",
      "by lizzie. \"it's the bat,\n",
      "century--the yearned-for headline, \"bat nabbed red-handed\", \"bat\n",
      "chasing after this--this bat out of hell.\n",
      "course there are bats\n",
      "criminal they call the bat. he's in them\n",
      "criminal world for the bat and look higher.\n",
      "dinner, saw a bat swoop past the\n",
      "easily dispose of the bat. sending a protesting\n",
      "easily have fastened the bat to the door.\n",
      "ebate\n",
      "face a dozen bats\n",
      "facts as known. the bat was working rapidly.\n",
      "fastened a dead bat to the door\n",
      "from. once more the batt\n",
      "gorder--moving out into the bat'\n",
      "haunts and its bats and--\" \"go back\n",
      "he belonged, like the bat, to the upper\n",
      "he had met the bat and suffered at\n",
      "head. \"it was the bat i saw,\" was\n",
      "i'm sick of the bat and his murders.\n",
      "if i were the bat, or any criminal,\n",
      "interest, first in the bat, then in the\n",
      "iron mask. but the bat'\n",
      "it didn't matter. the bat was unprecedented--unique. at\n",
      "it was the bat, and in a\n",
      "it. it's a bat. lizzie sank to\n",
      "job--a black paper bat inside the marshall\n",
      "know he isn't the bat. \" could draw\n",
      "know it was the bat,\n",
      "letters--the shadow of bat'\n",
      "might have been the bat-\n",
      "mine, but if the bat ever came prowling\n",
      "minutes ago. \"by the bat, i suppose. \"\n",
      "mocked anderson. \"by the bat. \" insisted miss\n",
      "mysterious identity of the bat. \"and you came\n",
      "newspapers named him the bat because he moved\n",
      "noises, or even the bat himself. the last\n",
      "not going out bat hunting this minute,\n",
      "obat, but he'd need\n",
      "of attic objects--two batt\n",
      "on a special bat number wherein eighteen\n",
      "on them that the bat had in this\n",
      "outline of a bat at the scene\n",
      "over there--dignified--respectable--is he the bat.\n",
      "paper again. \"'the bat'\n",
      "rbati\n",
      "right here isn't the bat. blood-chilling whisper, nearly\n",
      "shadow of a bat. from thieves' hangout\n",
      "shadow of a bat. i'll say that\n",
      "she said was, \"bats indeed. that shows\n",
      "she said, \"that the bat, or whoever it\n",
      "silhouette of a bat. \"a bat\n",
      "silhouette of a bat. \"a bat. \"\n",
      "smiled. \"the cagiest bat flies once too\n",
      "some day the bat would slip and\n",
      "that element is--the bat. she paused, impressively\n",
      "that terrible creature, the bat. \"\n",
      "the activities of the bat. \"wells tried to\n",
      "the bat has been flying\n",
      "the bat was unprecedented--unique. at\n",
      "the bat'\n",
      "the bat-\n",
      "the doctor bore the batt\n",
      "the doctor. \"he's the bat. ordinarily miss cornelia\n",
      "the fire of batt\n",
      "the gauge of batt\n",
      "the next moment the batt\n",
      "the ouija-board spelled bat. the detective recovered\n",
      "the scene of the bat'\n",
      "the sign of the bat. did that look\n",
      "their ruin--but if the bat had a moll,\n",
      "there's been a bat flying around this\n",
      "thing certainly spelled bat,\n",
      "this terrible creature, the bat. she sniffed disgruntledly\n",
      "to anybody--and if the bat flew in he\n",
      "to be impressed. \"the bat, eh. this hidden\n",
      "to believe that the bat is in this\n",
      "to read about--about the bat-\n",
      "to switches. \"and the bat ye were talking\n",
      "to your friend the bat, it's because of\n",
      "tried to pin the bat like a caught\n",
      "very soon why the bat had abandoned the\n",
      "was, of course. the bat. no doubt of\n",
      "watch, crushed and batt\n",
      "we had on the bat. \" he asked\n",
      "week ourselves--right in the bat'\n",
      "who killed him. the bat. \"isn't it likely\n",
      "window--just like a bat. \" she muttered\n",
      "you, bill--are you the bat. the editor smiled\n",
      "your satchel, lizzie. batt\n"
     ]
    }
   ],
   "source": [
    "# The three words preceding, and the three words following the mention of a perpetrator\n",
    "suspects, perp, dets, co_ocs, crime = extr.get_analysis_formats(metadata)\n",
    "perp_three_words = extr.get_earliest_chapter_sentence_from_name_lists(book, perp, 3, first=False)\n",
    "for name, results in perp_three_words.items():\n",
    "    for sent_frag in np.unique(results[2]):\n",
    "        print(sent_frag)"
   ]
  },
  {
   "cell_type": "code",
   "execution_count": 42,
   "metadata": {},
   "outputs": [],
   "source": [
    "suspects, perp, dets, co_ocs, crime = extr.get_analysis_formats(metadata)"
   ]
  },
  {
   "cell_type": "code",
   "execution_count": 43,
   "metadata": {},
   "outputs": [],
   "source": [
    "suspects = extr.get_earliest_chapter_sentence_from_name_lists(book, suspects, 3, first=True)\n",
    "perp = extr.get_earliest_chapter_sentence_from_name_lists(book, perp, 3, first=True)\n",
    "dets = extr.get_earliest_chapter_sentence_from_name_lists(book, dets, 3, first=True)\n",
    "co_ocs = extr.get_co_occurence(book, co_ocs, n_sents=2)"
   ]
  },
  {
   "cell_type": "markdown",
   "metadata": {},
   "source": [
    "## Get Crime Mentions, Details\n",
    "Link the first mention with the next close mentions"
   ]
  },
  {
   "cell_type": "code",
   "execution_count": 44,
   "metadata": {},
   "outputs": [
    {
     "name": "stderr",
     "output_type": "stream",
     "text": [
      "2021-09-27 00:16:29 Book Extractor INFO     \u001b[4m\u001b[33mRegex: (^.*(?=shot)(?:.*\\s(?:rang).*)$)\u001b[0m\n",
      "\n",
      "2021-09-27 00:16:29 Notebook     INFO     \u001b[4m\u001b[36mFirst mention: Chapter: 8, Sentence: 213\u001b[0m\n",
      "2021-09-27 00:16:29 Notebook     INFO     \u001b[1m\u001b[36mA single shot rang out\u001b[0m\n",
      "2021-09-27 00:16:29 Notebook     INFO     \u001b[4m\u001b[33mCrime Details Location: \u001b[0m\n",
      "2021-09-27 00:16:29 Notebook     INFO     \u001b[1m\u001b[36mFirst Instace: Chapter 8, Sentence 213\u001b[0m\n",
      "2021-09-27 00:16:29 Notebook     INFO     \u001b[1m\u001b[36mLast Instace: Chapter 8, Sentence 213\u001b[0m\n",
      "2021-09-27 00:16:29 Notebook     INFO     \u001b[4m\u001b[33mCrime Details: \u001b[0m\n",
      "2021-09-27 00:16:29 Notebook     INFO     \u001b[1m\u001b[36m\n",
      "Then suddenly a bright shaft of light split the darkness of the alcove stairs like a sword, a spot of brilliance centered on Fleming's face like the glare of a flashlight focused from above by an invisible hand. For an instant it revealed him--his features distorted with fury--about to rush down the stairs again and attack the trembling girl at their foot. A single shot rang out.  For a second, the fury on Fleming's face seemed to change to a strange look of bewilderment and surprise\u001b[0m\n"
     ]
    }
   ],
   "source": [
    "# Get Mentions\n",
    "crime_details_words = book.crime_details['or_words']\n",
    "p_lookaheads = book.crime_details['positive_lookeaheads']\n",
    "crime_mentions = extr.get_crime_mentions(book=book, \n",
    "                                         crime_words=crime_details_words,\n",
    "                                         p_lookaheads=p_lookaheads,\n",
    "                                         print_instances=False)\n",
    "logger.nl()\n",
    "first_crime_mention = crime_mentions[0]\n",
    "logger.info(f\"First mention: Chapter: {first_crime_mention[0]}, Sentence: {first_crime_mention[1]}\",\n",
    "            attrs=['underline'])\n",
    "logger.info(f\"{book.clean[first_crime_mention[0]][first_crime_mention[1]]}\")\n",
    "# Get Details\n",
    "crime_details_tup = extr.get_crime_details(book=book, \n",
    "                                           crime_mentions=crime_mentions,\n",
    "                                           max_dist=10,\n",
    "                                           left_margin=2,\n",
    "                                           right_margin=1,)\n",
    "(first_crime_details, close_mentions_idx) = crime_details_tup\n",
    "logger.info(\"Crime Details Location: \", attrs=['underline'], color='yellow')\n",
    "logger.info(f\"First Instace: Chapter {close_mentions_idx[0][0]}, \"\n",
    "            f\"Sentence {close_mentions_idx[0][1]}\")\n",
    "logger.info(f\"Last Instace: Chapter {close_mentions_idx[-1][0]}, \"\n",
    "            f\"Sentence {close_mentions_idx[-1][1]}\")\n",
    "logger.info(\"Crime Details: \", attrs=['underline'], color='yellow')\n",
    "logger.info(f\"\\n{first_crime_details}\")"
   ]
  },
  {
   "cell_type": "markdown",
   "metadata": {},
   "source": [
    "## Get Crime Type\n"
   ]
  },
  {
   "cell_type": "code",
   "execution_count": 45,
   "metadata": {},
   "outputs": [
    {
     "name": "stderr",
     "output_type": "stream",
     "text": [
      "2021-09-27 00:16:29 Book Extractor INFO     \u001b[4m\u001b[33mRegex: (^.*(?=fleming)(?:.*\\s(?:shot|stabbed).*)$)\u001b[0m\n",
      "\n",
      "2021-09-27 00:16:29 Notebook     INFO     \u001b[4m\u001b[36mFirst mention: Chapter: 8, Sentence: 244\u001b[0m\n",
      "2021-09-27 00:16:29 Notebook     INFO     \u001b[1m\u001b[36m\"Richard Fleming--somebody shot him\u001b[0m\n",
      "2021-09-27 00:16:29 Notebook     INFO     \u001b[4m\u001b[33mCrime Details Location: \u001b[0m\n",
      "2021-09-27 00:16:29 Notebook     INFO     \u001b[1m\u001b[36mFirst Instace: Chapter 8, Sentence 244\u001b[0m\n",
      "2021-09-27 00:16:29 Notebook     INFO     \u001b[1m\u001b[36mLast Instace: Chapter 8, Sentence 244\u001b[0m\n",
      "2021-09-27 00:16:29 Notebook     INFO     \u001b[4m\u001b[33mCrime Details: \u001b[0m\n",
      "2021-09-27 00:16:29 Notebook     INFO     \u001b[1m\u001b[36m\n",
      "\"Who is he. \" he said bluntly. Dale fought hysteria for some seconds before she could speak. \"Richard Fleming--somebody shot him. \" she managed to whisper at last. Anderson took a step toward her\u001b[0m\n"
     ]
    }
   ],
   "source": [
    "# Get Mentions\n",
    "crime_type_words = book.crime_type['or_words']\n",
    "p_lookaheads = book.crime_type['positive_lookeaheads']\n",
    "crime_mentions = extr.get_crime_mentions(book=book, \n",
    "                                         crime_words=crime_type_words,\n",
    "                                         p_lookaheads=p_lookaheads,\n",
    "                                         print_instances=False)\n",
    "logger.nl()\n",
    "first_crime_mention = crime_mentions[0]\n",
    "logger.info(f\"First mention: Chapter: {first_crime_mention[0]}, Sentence: {first_crime_mention[1]}\",\n",
    "            attrs=['underline'])\n",
    "logger.info(f\"{book.clean[first_crime_mention[0]][first_crime_mention[1]]}\")\n",
    "# Get Details\n",
    "crime_details_tup = extr.get_crime_details(book=book, \n",
    "                                           crime_mentions=crime_mentions,\n",
    "                                           max_dist=10,\n",
    "                                           left_margin=3,\n",
    "                                           right_margin=2,)\n",
    "(first_crime_details, close_mentions_idx) = crime_details_tup\n",
    "logger.info(\"Crime Details Location: \", attrs=['underline'], color='yellow')\n",
    "logger.info(f\"First Instace: Chapter {close_mentions_idx[0][0]}, \"\n",
    "            f\"Sentence {close_mentions_idx[0][1]}\")\n",
    "logger.info(f\"Last Instace: Chapter {close_mentions_idx[-1][0]}, \"\n",
    "            f\"Sentence {close_mentions_idx[-1][1]}\")\n",
    "logger.info(\"Crime Details: \", attrs=['underline'], color='yellow')\n",
    "logger.info(f\"\\n{first_crime_details}\")"
   ]
  },
  {
   "cell_type": "markdown",
   "metadata": {},
   "source": [
    "# Plotting"
   ]
  },
  {
   "cell_type": "code",
   "execution_count": 46,
   "metadata": {},
   "outputs": [],
   "source": [
    "locs, labels, colors = pl.create_locs_labels(book, suspects, perp, dets, co_ocs, crime)"
   ]
  },
  {
   "cell_type": "code",
   "execution_count": 47,
   "metadata": {},
   "outputs": [
    {
     "data": {
      "image/png": "[encoded data removed]",
      "text/plain": [
       "<Figure size 864x360 with 1 Axes>"
      ]
     },
     "metadata": {
      "needs_background": "light"
     },
     "output_type": "display_data"
    }
   ],
   "source": [
    "pl.make_timeline(book, locs, labels, colors, title)"
   ]
  },
  {
   "cell_type": "code",
   "execution_count": null,
   "metadata": {},
   "outputs": [],
   "source": []
  }
 ],
 "metadata": {
  "kernelspec": {
   "display_name": "Python 3 (ipykernel)",
   "language": "python",
   "name": "python3"
  },
  "language_info": {
   "codemirror_mode": {
    "name": "ipython",
    "version": 3
   },
   "file_extension": ".py",
   "mimetype": "text/x-python",
   "name": "python",
   "nbconvert_exporter": "python",
   "pygments_lexer": "ipython3",
   "version": "3.9.7"
  }
 },
 "nbformat": 4,
 "nbformat_minor": 1
}
