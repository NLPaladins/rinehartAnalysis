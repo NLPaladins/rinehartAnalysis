{
 "cells": [
  {
   "cell_type": "markdown",
   "metadata": {
    "collapsed": true
   },
   "source": [
    "# NLP - Project 1\n",
    "## Rinehart Analysis\n",
    "**Team**: *Jean Merlet, Konstantinos Georgiou, Matt Lane*"
   ]
  },
  {
   "cell_type": "markdown",
   "metadata": {
    "pycharm": {
     "name": "#%%\n"
    }
   },
   "source": [
    "## Load Libraries and setup"
   ]
  },
  {
   "cell_type": "code",
   "execution_count": 22,
   "metadata": {},
   "outputs": [],
   "source": [
    "import traceback\n",
    "import argparse\n",
    "from pprint import pprint\n",
    "\n",
    "# Custom libs\n",
    "from nlp_libs import Configuration, ColorizedLogger, ProcessedBook"
   ]
  },
  {
   "cell_type": "markdown",
   "metadata": {},
   "source": [
    "### Libraries Overview\n",
    "All the libraries are located under *\"\\<project root>/nlp_libs\"*\n",
    "- ***ProcessedBook***: Loc: **books/processed_book.py**, Desc: *Book Pre-processor*\n",
    "- ***Configuration***: Loc: **configuration/configuration.py**, Desc: *Configuration Loader*\n",
    "- ***ColorizedLogger***: Loc: **fancy_logger/colorized_logger.py**, Desc: *Logger with formatted text capabilities*"
   ]
  },
  {
   "cell_type": "code",
   "execution_count": 4,
   "metadata": {},
   "outputs": [],
   "source": [
    "# The path of configuration and log save path\n",
    "config_path = \"confs/proj_1.yml\"\n",
    "log_path = \"logs/logs_proj_1.log\""
   ]
  },
  {
   "cell_type": "code",
   "execution_count": 13,
   "metadata": {},
   "outputs": [
    {
     "name": "stderr",
     "output_type": "stream",
     "text": [
      "2021-09-19 22:33:19 FancyLogger  INFO     \u001b[1m\u001b[37mLogger is set. Log file path: /home/drkostas/GDrive/Projects/UTK/rinehartAnalysis/logs/logs_proj_1.log\u001b[0m\n"
     ]
    }
   ],
   "source": [
    "# The logger\n",
    "logger = ColorizedLogger(logger_name='Notebook', color='blue')\n",
    "ColorizedLogger.setup_logger(log_path=log_path, debug=False, clear_log=True)"
   ]
  },
  {
   "cell_type": "code",
   "execution_count": 14,
   "metadata": {},
   "outputs": [
    {
     "name": "stderr",
     "output_type": "stream",
     "text": [
      "2021-09-19 22:33:21 Config       INFO     \u001b[1m\u001b[37mConfiguration file loaded successfully from path: /home/drkostas/GDrive/Projects/UTK/rinehartAnalysis/confs/proj_1.yml\u001b[0m\n",
      "2021-09-19 22:33:21 Config       INFO     \u001b[1m\u001b[37mConfiguration Tag: proj1\u001b[0m\n"
     ]
    },
    {
     "name": "stdout",
     "output_type": "stream",
     "text": [
      "{'A_Poor_Wise_Man': 'https://www.gutenberg.org/files/1970/1970-0.txt',\n",
      " 'Affinities and Other Stories': 'https://www.gutenberg.org/cache/epub/41408/pg41408.txt',\n",
      " 'Bab:_A_Sub-Deb': 'https://www.gutenberg.org/cache/epub/366/pg366.txt',\n",
      " 'Dangerous_Days': 'https://www.gutenberg.org/files/1693/1693-0.txt',\n",
      " 'K': 'https://www.gutenberg.org/files/9931/9931-0.txt',\n",
      " 'Locked_Doors': 'https://www.gutenberg.org/files/54273/54273-0.txt',\n",
      " 'Long_Live_the_King': 'https://www.gutenberg.org/files/2714/2714-0.txt',\n",
      " 'More_Tish': 'https://www.gutenberg.org/cache/epub/19851/pg19851.txt',\n",
      " 'Oh,_Well,_You_Know_How_Women_Are!': 'https://www.gutenberg.org/cache/epub/24259/pg24259.txt',\n",
      " 'Sight_Unseen': 'https://www.gutenberg.org/files/1960/1960-0.txt',\n",
      " 'Tenting_To-night': 'https://www.gutenberg.org/cache/epub/19475/pg19475.txt',\n",
      " 'The_After_House': 'https://www.gutenberg.org/files/2358/2358-0.txt',\n",
      " 'The_Amazing_Interlude': 'https://www.gutenberg.org/cache/epub/1590/pg1590.txt',\n",
      " 'The_Bat': 'https://www.gutenberg.org/cache/epub/2019/pg2019.txt',\n",
      " 'The_Breaking_Point': 'https://www.gutenberg.org/files/1601/1601-0.txt',\n",
      " 'The_Case_of_Jennie_Brice': 'https://www.gutenberg.org/cache/epub/11127/pg11127.txt',\n",
      " 'The_Circular_Staircase': 'https://www.gutenberg.org/files/434/434-0.txt',\n",
      " 'The_Confession': 'https://www.gutenberg.org/cache/epub/1963/pg1963.txt',\n",
      " 'The_Man_in_Lower_Ten': 'https://www.gutenberg.org/files/1869/1869-0.txt',\n",
      " 'The_Street_of_Seven_Stars': 'https://www.gutenberg.org/files/1214/1214-0.txt',\n",
      " 'The_Truce_of_God': 'https://www.gutenberg.org/cache/epub/14573/pg14573.txt',\n",
      " 'The_Window_at_the_White_Cat': 'https://www.gutenberg.org/cache/epub/34020/pg34020.txt',\n",
      " 'Tish,_The_Chronicle_of_Her_Escapades_and_Excursions': 'https://www.gutenberg.org/cache/epub/3464/pg3464.txt',\n",
      " 'When_a_Man_Marries': 'https://www.gutenberg.org/files/1671/1671-0.txt',\n",
      " \"Where_There's_A_Will\": 'https://www.gutenberg.org/cache/epub/330/pg330.txt'}\n"
     ]
    }
   ],
   "source": [
    "# Load the configuration\n",
    "conf = Configuration(config_src=config_path)\n",
    "# Get the books dict\n",
    "books = conf.get_config('data_loader')[0]['config']['urls']\n",
    "pprint(books)  # Pretty print the books dict"
   ]
  },
  {
   "cell_type": "markdown",
   "metadata": {},
   "source": [
    "## Exploration"
   ]
  },
  {
   "cell_type": "code",
   "execution_count": 21,
   "metadata": {},
   "outputs": [
    {
     "name": "stderr",
     "output_type": "stream",
     "text": [
      "2021-09-19 22:34:50 Notebook     INFO     \u001b[4m\u001b[32mLength of staircase raw: 410135\u001b[0m\n",
      "2021-09-19 22:34:50 Notebook     INFO     \u001b[4m\u001b[32mLength of staircase clean: 6262\u001b[0m\n",
      "2021-09-19 22:34:50 Notebook     INFO     \u001b[1m\u001b[34mChapter 1:\n",
      "chapter i.\n",
      "i take a country house\n",
      "this is the (..)\u001b[0m\n",
      "2021-09-19 22:34:50 Notebook     INFO     \u001b[1m\u001b[34mChapter 2:\n",
      "chapter ii.\n",
      "a link cuff-button\n",
      "liddy’s knees  (..)\u001b[0m\n"
     ]
    }
   ],
   "source": [
    "# Create ProcessedBook Object\n",
    "staircase = ProcessedBook(title=books['The_Circular_Staircase'])\n",
    "# Get chapter 1\n",
    "chapt_1 = staircase.get_chapter(chapter=1)\n",
    "chapt_1_joined = '\\n'.join(chapt_1)\n",
    "# Get chapter 2\n",
    "chapt_2 = staircase.get_chapter(chapter=2)\n",
    "chapt_2_joined = '\\n'.join(chapt_2)\n",
    "# Print\n",
    "logger.info(f\"Length of staircase raw: {len(staircase.raw)}\", color='green', attrs=['underline'])\n",
    "logger.info(f\"Length of staircase clean: {len(staircase.clean)}\", color='green', attrs=['underline'])\n",
    "logger.info(f\"Chapter 1:\\n{chapt_1_joined[:45]} (..)\", )\n",
    "logger.info(f\"Chapter 2:\\n{chapt_2_joined[:45]} (..)\")"
   ]
  }
 ],
 "metadata": {
  "kernelspec": {
   "display_name": "Python 3 (ipykernel)",
   "language": "python",
   "name": "python3"
  },
  "language_info": {
   "codemirror_mode": {
    "name": "ipython",
    "version": 3
   },
   "file_extension": ".py",
   "mimetype": "text/x-python",
   "name": "python",
   "nbconvert_exporter": "python",
   "pygments_lexer": "ipython3",
   "version": "3.9.7"
  }
 },
 "nbformat": 4,
 "nbformat_minor": 1
}
