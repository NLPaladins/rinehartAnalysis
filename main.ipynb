{
 "cells": [
  {
   "cell_type": "markdown",
   "metadata": {
    "collapsed": true
   },
   "source": [
    "# NLP - Project 1\n",
    "## Rinehart Analysis\n",
    "**Team**: *Jean Merlet, Konstantinos Georgiou, Matt Lane*"
   ]
  },
  {
   "cell_type": "markdown",
   "metadata": {},
   "source": [
    "Check out the **[README](https://github.com/NLPaladins/rinehartAnalysis/blob/main/README.md)**\n",
    "\n",
    "\n",
    "Or the current **[TODO](https://github.com/NLPaladins/rinehartAnalysis/blob/main/TODO.md)** list."
   ]
  },
  {
   "cell_type": "code",
   "execution_count": 7,
   "metadata": {},
   "outputs": [],
   "source": [
    "# Import Jupyter Widgets\n",
    "import os\n",
    "import ipywidgets as widgets\n",
    "from ipywidgets import interact, interact_manual\n",
    "from IPython.display import display"
   ]
  },
  {
   "cell_type": "code",
   "execution_count": 8,
   "metadata": {},
   "outputs": [
    {
     "name": "stdout",
     "output_type": "stream",
     "text": [
      "Clone project?\n",
      "(If you do this you will ovewrite local changes on other files e.g. configs)\n",
      "Not needed if you're not on Google Collab\n"
     ]
    },
    {
     "data": {
      "application/vnd.jupyter.widget-view+json": {
       "model_id": "7cec4fa64d004837b76f93205892683e",
       "version_major": 2,
       "version_minor": 0
      },
      "text/plain": [
       "Button(description='Yes, clone', style=ButtonStyle())"
      ]
     },
     "metadata": {},
     "output_type": "display_data"
    }
   ],
   "source": [
    "# Clone the repository if you're in Google Collab\n",
    "def clone_project(is_collab: bool = False):\n",
    "    print(\"Cloning Project..\")\n",
    "    !git clone https://github.com/NLPaladins/rinehartAnalysis.git\n",
    "    print(\"Project cloned.\")\n",
    "       \n",
    "print(\"Clone project?\")\n",
    "print(\"(If you do this you will ovewrite local changes on other files e.g. configs)\")\n",
    "print(\"Not needed if you're not on Google Collab\")\n",
    "btn = widgets.Button(description=\"Yes, clone\")\n",
    "btn.on_click(clone_project)\n",
    "display(btn)"
   ]
  },
  {
   "cell_type": "code",
   "execution_count": 9,
   "metadata": {},
   "outputs": [
    {
     "name": "stdout",
     "output_type": "stream",
     "text": [
      "Are you on Google Collab?\n"
     ]
    },
    {
     "data": {
      "application/vnd.jupyter.widget-view+json": {
       "model_id": "421c728187cd40479f8848300003cdf5",
       "version_major": 2,
       "version_minor": 0
      },
      "text/plain": [
       "Button(description='Yes', style=ButtonStyle())"
      ]
     },
     "metadata": {},
     "output_type": "display_data"
    }
   ],
   "source": [
    "# Clone the repository if you're in Google Collab\n",
    "def change_dir(is_collab: bool = False):\n",
    "    try:\n",
    "        print(\"Changing dir..\")\n",
    "        os.chdir('/content/rinehartAnalysis')\n",
    "        print('done')\n",
    "        print(\"Current dir:\")\n",
    "        print(os.getcwd())\n",
    "        print(\"Dir Contents:\")\n",
    "        print(os.listdir())\n",
    "    except Exception:\n",
    "        print(\"Error: Project not cloned\")\n",
    "       \n",
    "print(\"Are you on Google Collab?\")\n",
    "btn = widgets.Button(description=\"Yes\")\n",
    "btn.on_click(change_dir)\n",
    "display(btn)"
   ]
  },
  {
   "cell_type": "markdown",
   "metadata": {},
   "source": [
    "### At any point, to save changes\n",
    "click **File > Save a copy on Gihtub**"
   ]
  },
  {
   "cell_type": "markdown",
   "metadata": {},
   "source": [
    "### Now go to files on the left, and open:\n",
    "- rinehartAnalysis/confs/proj_1.yml\n",
    "\n",
    "(Ctr+s) to save changes"
   ]
  },
  {
   "cell_type": "markdown",
   "metadata": {
    "pycharm": {
     "name": "#%%\n"
    }
   },
   "source": [
    "## Load Libraries and setup"
   ]
  },
  {
   "cell_type": "code",
   "execution_count": 10,
   "metadata": {},
   "outputs": [],
   "source": [
    "import traceback\n",
    "import argparse\n",
    "from importlib import reload as reload_lib\n",
    "from pprint import pprint\n",
    "import numpy as np\n",
    "\n",
    "# Custom libs\n",
    "from nlp_libs import Configuration, ColorizedLogger, ProcessedBook\n",
    "# Import this way the libs you want to dynamically change and reload \n",
    "# import nlp_libs.books.processed_book as books_lib # Comment out until Class is finalized"
   ]
  },
  {
   "cell_type": "markdown",
   "metadata": {},
   "source": [
    "### Libraries Overview\n",
    "All the libraries are located under *\"\\<project root>/nlp_libs\"*\n",
    "- ***ProcessedBook***: Loc: **books/processed_book.py**, Desc: *Book Pre-processor*\n",
    "- ***Configuration***: Loc: **configuration/configuration.py**, Desc: *Configuration Loader*\n",
    "- ***ColorizedLogger***: Loc: **fancy_logger/colorized_logger.py**, Desc: *Logger with formatted text capabilities*"
   ]
  },
  {
   "cell_type": "code",
   "execution_count": 11,
   "metadata": {},
   "outputs": [],
   "source": [
    "# The path of configuration and log save path\n",
    "config_path = \"confs/proj_1.yml\"  # Open files > confs > proj_1.yml to edit temporalily. Commit to save permanently\n",
    "# !cat \"$config_path\"\n",
    "log_path = \"logs/proj_1.log\"  # Open files > logs > proj_1.log to debug logs of previous runs"
   ]
  },
  {
   "cell_type": "code",
   "execution_count": 12,
   "metadata": {},
   "outputs": [
    {
     "name": "stderr",
     "output_type": "stream",
     "text": [
      "2021-09-26 19:52:08 FancyLogger  INFO     \u001b[1m\u001b[37mLogger is set. Log file path: /Users/6j9/classes/ece_692/project1/rinehartAnalysis/logs/proj_1.log\u001b[0m\n"
     ]
    }
   ],
   "source": [
    "# The logger\n",
    "logger = ColorizedLogger(logger_name='Notebook', color='cyan')\n",
    "ColorizedLogger.setup_logger(log_path=log_path, debug=False, clear_log=True)"
   ]
  },
  {
   "cell_type": "code",
   "execution_count": 89,
   "metadata": {},
   "outputs": [
    {
     "name": "stderr",
     "output_type": "stream",
     "text": [
      "2021-09-26 20:34:34 Config       INFO     \u001b[1m\u001b[37mConfiguration file loaded successfully from path: /Users/6j9/classes/ece_692/project1/rinehartAnalysis/confs/proj_1.yml\u001b[0m\n",
      "2021-09-26 20:34:34 Config       INFO     \u001b[1m\u001b[37mConfiguration Tag: proj1\u001b[0m\n"
     ]
    },
    {
     "name": "stdout",
     "output_type": "stream",
     "text": [
      "{'K': {'crime_type': 'example',\n",
      "       'detective': ['man1', 'man2'],\n",
      "       'suspects': [{'Sidney Page': ['Sidney Page',\n",
      "                                     'Miss Sidney',\n",
      "                                     'Miss Page',\n",
      "                                     'Sidney']},\n",
      "                    {'Moyne': ['Moyne']},\n",
      "                    {'Christine Lorenz': ['Christine Lorenz',\n",
      "                                          'Christine',\n",
      "                                          'Lorenz']},\n",
      "                    {'Christine Howe': ['Christine Howe']},\n",
      "                    {'Wilson Marriage': ['Wilson Marriage', 'Wilson']},\n",
      "                    {'Carlotta Harrison': ['Carlotta Harrison',\n",
      "                                           'Carlotta',\n",
      "                                           'Miss Harrison',\n",
      "                                           'Harrison']},\n",
      "                    {'Tillie': ['Tillie']},\n",
      "                    {'Palmer Howe': ['Palmer Howe', 'Palmer', 'Howe']},\n",
      "                    {'Harriet Kennedy': ['Harriet Kennedy',\n",
      "                                         'Aunt Kennedy',\n",
      "                                         'Harriet']},\n",
      "                    {'Schwitter': ['Schwitter']},\n",
      "                    {'Johnny Rosenfeld': ['Johnny Rosenfeld',\n",
      "                                          'Johnny',\n",
      "                                          'Rosenfeld']},\n",
      "                    {'McKee': ['McKee']},\n",
      "                    {'Katie': ['Katie']},\n",
      "                    {'Anna Page': ['Anna Page', 'Anna']},\n",
      "                    {'Drummond': ['Drummond']},\n",
      "                    {'Grace Irving': ['Grace Irving', 'Grace']},\n",
      "                    {'Reginald': ['Reginald']},\n",
      "                    {'Edwardes': ['Edwardes']},\n",
      "                    {'Bill Taft': ['Bill Taft', 'Bill']},\n",
      "                    {'Miss Gregg': ['Miss Gregg', 'Gregg']}],\n",
      "       'url': 'https://www.gutenberg.org/files/9931/9931-0.txt'},\n",
      " 'The_After_House': {'crime_type': 'examp',\n",
      "                     'detective': ['detective'],\n",
      "                     'suspects': [{'Marshall Benedict Turner': ['Marshall '\n",
      "                                                                'Benedict '\n",
      "                                                                'Turner',\n",
      "                                                                'Marshall '\n",
      "                                                                'Turner',\n",
      "                                                                'Marshall',\n",
      "                                                                'Benedict '\n",
      "                                                                'Turner',\n",
      "                                                                'Mistah Turner',\n",
      "                                                                'Turner']},\n",
      "                                  {'John Robert Burns': ['John Robert Burns',\n",
      "                                                         'John',\n",
      "                                                         'Burns']},\n",
      "                                  {'Mate Singleton': ['Mate Singleton',\n",
      "                                                      'Singleton']},\n",
      "                                  {'Wilmer Vail': ['Wilmer Vail',\n",
      "                                                   'Wilmer',\n",
      "                                                   'Vail']},\n",
      "                                  {'Charlie Jones': ['Charlie Jones',\n",
      "                                                     'Charlie',\n",
      "                                                     'Jones']},\n",
      "                                  {'Obadiah Williams': ['Obadiah Williams',\n",
      "                                                        'Williams']},\n",
      "                                  {'Karen Hansen': ['Karen Hansen', 'Karen']},\n",
      "                                  {'McWhirter': ['McWhirter']},\n",
      "                                  {'Miss Elsa': ['Miss Elsa', 'Elsa']},\n",
      "                                  {'Adams': ['Adams']},\n",
      "                                  {'William McNamara': ['William McNamara',\n",
      "                                                        'McNamara']},\n",
      "                                  {'Henrietta Sloane': ['Henrietta Sloane',\n",
      "                                                        'Sloane']},\n",
      "                                  {'John Oleson': ['John Oleson',\n",
      "                                                   'Swede Oleson',\n",
      "                                                   'Swede',\n",
      "                                                   'Oleson']},\n",
      "                                  {'Schwartz': ['Schwartz']},\n",
      "                                  {'Clarke': ['Clarke']}],\n",
      "                     'url': 'https://gutenberg.org/files/2358/2358-0.txt'},\n",
      " 'The_Case_of_Jennie_Brice': {'crime_type': 'example',\n",
      "                              'detective': ['man1'],\n",
      "                              'suspects': [{'Philip Ladley': ['Philip Ladley',\n",
      "                                                              'Philip',\n",
      "                                                              'Ladley']},\n",
      "                                           {'Jennie Ladley': ['Jennie Ladley',\n",
      "                                                              'Jennie']},\n",
      "                                           {'Jennie Brice': ['Jennie Brice',\n",
      "                                                             'Jennie']},\n",
      "                                           {'Elizabeth Marie Pitman': ['Elizabeth '\n",
      "                                                                       'Marie '\n",
      "                                                                       'Pitman',\n",
      "                                                                       'Pitman']},\n",
      "                                           {'Holcombe': ['Holcombe']},\n",
      "                                           {'Ellis Howell': ['Ellis Howell',\n",
      "                                                             'Howell']},\n",
      "                                           {'Reynolds': ['Reynolds']},\n",
      "                                           {'Peter': ['Peter']},\n",
      "                                           {'Lida Harvey': ['Lida Harvey',\n",
      "                                                            'Miss Harvey',\n",
      "                                                            'Miss Lida',\n",
      "                                                            'Lida']},\n",
      "                                           {'Graves': ['Graves']},\n",
      "                                           {'Horner': ['Horner']},\n",
      "                                           {'Alma': ['Alma']},\n",
      "                                           {'James Bronson': ['James Bronson',\n",
      "                                                              'Bronson']},\n",
      "                                           {'Eliza Shaeffer': ['Eliza Shaeffer',\n",
      "                                                               'Miss Eliza']},\n",
      "                                           {'Miss Hope': ['Miss Hope']},\n",
      "                                           {'Terry': ['Terry']}],\n",
      "                              'url': 'https://www.gutenberg.org/cache/epub/11127/pg11127.txt'},\n",
      " 'The_Circular_Staircase': {'crime': [{'example': ['example']}],\n",
      "                            'detectives': [{'Mr. Jamieson': ['mr. jamieson',\n",
      "                                                             'jamieson',\n",
      "                                                             'mr. winters',\n",
      "                                                             'detective',\n",
      "                                                             'winters']}],\n",
      "                            'perpetrator': [{'Anne Watson': ['anne watson',\n",
      "                                                             'mrs. watson',\n",
      "                                                             'mis’ watson']}],\n",
      "                            'suspects': [{'Gertrude Innes': ['gertrude innes',\n",
      "                                                             'miss gertrude '\n",
      "                                                             'innes',\n",
      "                                                             'miss gertrude',\n",
      "                                                             'gertrude',\n",
      "                                                             'miss innes',\n",
      "                                                             'mis’ innes']},\n",
      "                                         {'John Bailey': ['john bailey',\n",
      "                                                          'jack bailey',\n",
      "                                                          'mr. bailey',\n",
      "                                                          'bailey',\n",
      "                                                          'alex',\n",
      "                                                          'alexander graham']},\n",
      "                                         {'Halsey Innes': ['halsey innes',\n",
      "                                                           'mr. halsey',\n",
      "                                                           'halsey',\n",
      "                                                           'mr. innes']}],\n",
      "                            'url': 'https://www.gutenberg.org/files/434/434-0.txt'},\n",
      " 'The_Man_in_Lower_Ten': {'crime_type': 'murder',\n",
      "                          'detectives': [{'Richey McKnight': ['Richey McKnight',\n",
      "                                                              'McKnight',\n",
      "                                                              'Richey']}],\n",
      "                          'suspects': [{'Wilson Budd Hotchkiss': ['Wilson Budd '\n",
      "                                                                  'Hotchkiss',\n",
      "                                                                  'Hotchkiss']},\n",
      "                                       {'Henry Pinckney Sullivan': ['Henry '\n",
      "                                                                    'Pinckney '\n",
      "                                                                    'Sullivan',\n",
      "                                                                    'Henry '\n",
      "                                                                    'Sullivan',\n",
      "                                                                    'Sullivan']},\n",
      "                                       {'Alison West': ['Alison West',\n",
      "                                                        'Alison',\n",
      "                                                        'Miss West']},\n",
      "                                       {'Klopton': ['Klopton']},\n",
      "                                       {'Lawrence Blakeley': ['Lawrence '\n",
      "                                                              'Blakeley',\n",
      "                                                              'Lawrence',\n",
      "                                                              'Blakeley']},\n",
      "                                       {'Bronson': ['Bronson']},\n",
      "                                       {'Francis Johnson': ['Francis Johnson',\n",
      "                                                            'Johnson']},\n",
      "                                       {'Alice Curtis': ['Alice Curtis',\n",
      "                                                         'Alice',\n",
      "                                                         'Curtis']},\n",
      "                                       {'Carter': ['Carter']}],\n",
      "                          'url': 'https://www.gutenberg.org/files/1869/1869-0.txt'}}\n"
     ]
    }
   ],
   "source": [
    "# Load the configuration\n",
    "conf = Configuration(config_src=config_path)\n",
    "# Get the books dict\n",
    "books = conf.get_config('data_loader')['config']['books']\n",
    "pprint(books)  # Pretty print the books dict"
   ]
  },
  {
   "cell_type": "markdown",
   "metadata": {},
   "source": [
    "## Exploration"
   ]
  },
  {
   "cell_type": "code",
   "execution_count": 14,
   "metadata": {},
   "outputs": [],
   "source": [
    "import urllib.request\n",
    "import re\n",
    "from typing import *"
   ]
  },
  {
   "cell_type": "code",
   "execution_count": 78,
   "metadata": {},
   "outputs": [],
   "source": [
    "class ProcessedBook:\n",
    "    title: str\n",
    "    url: str\n",
    "    detectives: List[str]\n",
    "    suspects: List[str]\n",
    "    crime_type: str\n",
    "\n",
    "    def __init__(self, title: str, metadata: Dict, make_lower: bool = True):\n",
    "        \"\"\"\n",
    "        raw holds the books as a single string.\n",
    "        clean holds the books as a list of lowercase lines starting\n",
    "        from the first chapter and ending with the last sentence.\n",
    "        \"\"\"\n",
    "        self.title = title\n",
    "        self.url = metadata['url']\n",
    "        self.detectives = metadata['detectives']\n",
    "        self.suspects = metadata['suspects']\n",
    "        self.crime_type = metadata['crime']\n",
    "        self.raw = self.read_book_from_proj_gut(self.url)\n",
    "        if make_lower:\n",
    "            lines = self.raw.lower()\n",
    "        else:\n",
    "            lines = self.raw\n",
    "        loins = re.sub(r'\\r\\n', r'\\n',self.raw)\n",
    "        loins = re.findall(r'.*\\n', loins)\n",
    "        self.lines = self.clean_lines(lines=lines)\n",
    "        self.clean = self.get_clean_book(make_lower=make_lower)\n",
    "\n",
    "    @staticmethod\n",
    "    def read_book_from_proj_gut(book_url: str) -> str:\n",
    "        req = urllib.request.Request(book_url)\n",
    "        client = urllib.request.urlopen(req)\n",
    "        page = client.read()\n",
    "        return page.decode('utf-8')\n",
    "\n",
    "    def get_clean_book(self, make_lower: bool = True) -> List[str]:\n",
    "        if make_lower:\n",
    "            lines = self.raw.lower()\n",
    "        else:\n",
    "            lines = self.raw\n",
    "        lines = lines.replace('\\r\\n', '\\n').split('\\n')\n",
    "        lines = self.clean_lines(lines)\n",
    "        chapters = self.lines_to_chapters(lines)\n",
    "        return chapters\n",
    "\n",
    "    def clean_lines(self, lines: List[str]) -> List[str]:\n",
    "        clean_lines = []\n",
    "        start = False\n",
    "        for line in lines:\n",
    "            if re.match(r'^chapter i\\.', line):\n",
    "                clean_lines.append(line)\n",
    "                start = True\n",
    "                continue\n",
    "            if not start:\n",
    "                continue\n",
    "            if re.match(r'^\\*\\*\\* end of the project gutenberg ebook', line):\n",
    "                break\n",
    "            if self.pass_clean_filter(line):\n",
    "                clean_lines.append(line)\n",
    "        return clean_lines\n",
    "\n",
    "    @staticmethod\n",
    "    def lines_to_chapters(lines: List[str]) -> List[str]:\n",
    "        chapters = []\n",
    "        sentences = []\n",
    "        current_sent = ''\n",
    "        for i, line in enumerate(lines):\n",
    "            # add chapter as 1st sentence\n",
    "            if re.match(r'^chapter [ivxlcdm]+\\.$', line):\n",
    "                if sentences:\n",
    "                    chapters.append(sentences)\n",
    "                sentences = [line]\n",
    "                add_chapter_title = True\n",
    "                continue\n",
    "            # add chapter title as 2nd sentence\n",
    "            elif add_chapter_title:\n",
    "                sentences.append(line)\n",
    "                add_chapter_title = False\n",
    "                continue\n",
    "            sents = re.findall(r' *((?:mr\\.|mrs.|[^\\.\\?!])*)(?<!mr)(?<!mrs)[\\.\\?!]', line)\n",
    "            # if no sentence end is detected\n",
    "            if not sents:\n",
    "                if current_sent == '':\n",
    "                    current_sent = line\n",
    "                else:\n",
    "                    current_sent += ' ' + line\n",
    "            # if at least one sentence end is detected\n",
    "            else:\n",
    "                for group in sents:\n",
    "                    if current_sent != '':\n",
    "                        current_sent += ' ' + group\n",
    "                        sentences.append(current_sent)\n",
    "                    else:\n",
    "                        sentences.append(group)\n",
    "                    current_sent = ''\n",
    "                # set the next sentence to its start if there is one\n",
    "                sent_end = re.search(r'(?<!mr)(?<!mrs)[\\.\\?!] ((?:mr\\.|mrs\\.|[^\\.\\?!])*)$', line)\n",
    "                if sent_end is not None:\n",
    "                    current_sent = sent_end.groups()[0]\n",
    "        return chapters\n",
    "\n",
    "    @staticmethod\n",
    "    def pass_clean_filter(line: str) -> bool:\n",
    "        # removing the illustration lines and empty lines\n",
    "        # can add other filters here as needed\n",
    "        if line == '' or re.match(r'illustration:|\\[illustration\\]', line):\n",
    "            return False\n",
    "        else:\n",
    "            return True\n",
    "\n",
    "    @staticmethod\n",
    "    def get_characters_per_chapter(chapter): \n",
    "        found_character_list = []\n",
    "        search_string = re.compile(rf'[A-Z][a-z]+(?:\\s|,|.|\\.\\s)[A-Z][a-z]+(?:\\s[A-Z][a-z]+)?')\n",
    "        #get characters per sentence in chapter\n",
    "        for sentence in chapter:\n",
    "            res = re.findall(search_string, sentence)\n",
    "            found_character_list.append(res)\n",
    "\n",
    "        unique_characters = list(np.concatenate(found_character_list))\n",
    "        return found_character_list, unique_characters\n",
    "      \n",
    "        \n",
    "    ##\n",
    "    ## @Warning: Currently only works with all text as upper case.  \n",
    "    ##\n",
    "    def get_all_characters_per_novel(self):\n",
    "        preceding_words_to_ditch = ['After', 'Although', 'And', 'As', 'At',\n",
    "         'Before', 'Both', 'But', 'Did', 'For', \n",
    "         'Good', 'Had', 'Has', 'Home', 'If', 'Is',\n",
    "         'Leaving', 'Like', 'No', 'Nice', 'Old', 'On', 'Or',\n",
    "         'Poor', 'Send', 'So', 'That', 'Tell', 'The', 'Thank', \n",
    "         'To', 'Was', 'Whatever', 'When', 'Where', 'While', \n",
    "         'With','Your', \n",
    "          #Specific Places\n",
    "         'African', 'Zion', 'New','Country', 'Greenwood', 'Western', 'American', 'Bar', 'Chestnut', 'Queen'\n",
    "        ]\n",
    "        \n",
    "        book_by_chapter = self.lines_to_chapters(self.lines)\n",
    "        \n",
    "        totalUniqueList = []\n",
    "        for chapter in book_by_chapter: \n",
    "\n",
    "            characterProgression, uniqueCharacters = get_characters_per_chapter(chapter)\n",
    "            totalUniqueList = [*totalUniqueList, *uniqueCharacters]\n",
    "\n",
    "        totalUnique = set(totalUniqueList)\n",
    "        \n",
    "        joined_preceding_words_to_lose = '|'.join(preceding_words_to_ditch)\n",
    "        preceding_word_to_lose_regex = fr'^(?!{joined_preceding_words_to_lose}).*$'\n",
    "        regex = re.compile(preceding_word_to_lose_regex)\n",
    "        filtered_people = list(filter(regex.match, totalUnique))\n",
    "        \n",
    "        return filtered_people\n",
    "    \n",
    "    def get_total_sentences(self):\n",
    "        return sum([len(chapter) - 2 for chapter in self.clean])\n",
    "\n",
    "    def get_chapter(self, chapter: int) -> str:\n",
    "        return self.clean[chapter - 1]\n",
    "\n",
    "    def extract_character_names(self):\n",
    "        lines_by_chapter = self.lines_to_chapters(self.lines)\n",
    "        for chapter in lines_by_chapter: \n",
    "            print(chapter)    "
   ]
  },
  {
   "cell_type": "markdown",
   "metadata": {},
   "source": [
    "# Analysis Functions"
   ]
  },
  {
   "cell_type": "code",
   "execution_count": 69,
   "metadata": {},
   "outputs": [],
   "source": [
    "def get_earliest_chapter_sentence_from_name_lists(book, name_lists, n=0, first=True):\n",
    "    '''\n",
    "    Takes in a list of lists, where\n",
    "    each list in this list of lists is a\n",
    "    list of aliases for a single character.\n",
    "    \n",
    "    Returns a dictionary with character names\n",
    "    as keys and a list with chapter number as\n",
    "    the first element and sentence number as the\n",
    "    second element.\n",
    "    '''\n",
    "    first_mentioned = {}\n",
    "    for aliases in name_lists:\n",
    "        alias_matcher = '|'.join(aliases)\n",
    "        found_match = False\n",
    "        for chapter_num, chapter in enumerate(book.clean):\n",
    "            for sent_num, sentence in enumerate(chapter[2:]):\n",
    "                match = re.search(alias_matcher, sentence)\n",
    "                if match:\n",
    "                    if not found_match:\n",
    "                        first_mentioned[aliases[0]] = [chapter_num + 1, sent_num + 1, []]\n",
    "                    found_match = True\n",
    "                    if n > 0:\n",
    "                        words = get_n_words(book, alias_matcher, chapter_num, sent_num, n)\n",
    "                        first_mentioned[aliases[0]][-1].append(words)\n",
    "                    if first:\n",
    "                        break\n",
    "            if first and found_match:\n",
    "                break\n",
    "    return first_mentioned\n",
    "\n",
    "def get_n_words(book, alias_matcher, chapter_num, sent_num, n):\n",
    "    sents = '. '.join(book.clean[chapter_num][sent_num + 1: sent_num + 4])\n",
    "    words = re.search('((?:\\S+ ){0,' + str(n) + '}\\S?(?:' + alias_matcher + ')\\S?(?: \\S+){0,' + str(n) + '})', sents).group(0)\n",
    "    return words\n",
    "\n",
    "def get_co_occurence(book, name_lists, n_sents=2):\n",
    "    assert len(name_lists) == 2\n",
    "    mentions_a, mentions_b = {}, {}\n",
    "    dets, perp = name_lists[0], name_lists[1]\n",
    "    dets_matcher = '|'.join(dets)\n",
    "    perp_matcher = '|'.join(perp)\n",
    "    for chapter_num, chapter in enumerate(book.clean):\n",
    "        mentions_a[chapter_num] = []\n",
    "        mentions_b[chapter_num] = []\n",
    "        for sent_num, sentence in enumerate(chapter[2:]):\n",
    "            match_a = re.search(dets_matcher, sentence)\n",
    "            match_b = re.search(perp_matcher, sentence)\n",
    "            if match_a:\n",
    "                mentions_a[chapter_num].append(sent_num)\n",
    "            if match_b:\n",
    "                mentions_b[chapter_num].append(sent_num)\n",
    "    co_occurences = []\n",
    "    for chapter_a, sent_nums_a in mentions_a.items():\n",
    "        for chapter_b, sent_nums_b in mentions_b.items():\n",
    "            if chapter_a == chapter_b:\n",
    "                for sent_num_a in sent_nums_a:\n",
    "                    for sent_num_b in sent_nums_b:\n",
    "                        if sent_num_a > sent_num_b and sent_num_a - sent_num_b <= n_sents:\n",
    "                            sents = book.clean[chapter_a][2:][sent_num_b:sent_num_a+1]\n",
    "                            co_occurences.append([chapter_a, sent_num_b, sent_num_a, sents])\n",
    "                        if sent_num_b > sent_num_a and sent_num_b - sent_num_a <= n_sents:\n",
    "                            sents = book.clean[chapter_a][2:][sent_num_a:sent_num_b+1]\n",
    "                            co_occurences.append([chapter_a, sent_num_a, sent_num_b, sents])\n",
    "    return co_occurences"
   ]
  },
  {
   "cell_type": "code",
   "execution_count": 124,
   "metadata": {},
   "outputs": [],
   "source": [
    "def get_analysis_formats(metadata):\n",
    "    suspects, perp, dets, co_ocs, crime = [], [], [], [], []\n",
    "    \n",
    "    for aliases in metadata['suspects']:\n",
    "        for _, values in aliases.items():\n",
    "            suspects.append(values)\n",
    "            \n",
    "    for aliases in metadata['perpetrator']:\n",
    "        for _, values in aliases.items():\n",
    "            perp.append(values)\n",
    "            co_ocs.append(values)\n",
    "            \n",
    "    for aliases in metadata['detectives']:\n",
    "        for _, values in aliases.items():\n",
    "            dets.append(values)\n",
    "            co_ocs.append(values)\n",
    "            \n",
    "    dets = [[alias for alias in dets[0] if alias != 'detective']]\n",
    "            \n",
    "    return suspects, perp, dets, co_ocs, crime"
   ]
  },
  {
   "cell_type": "markdown",
   "metadata": {},
   "source": [
    "# Plotting Functions"
   ]
  },
  {
   "cell_type": "code",
   "execution_count": 72,
   "metadata": {},
   "outputs": [],
   "source": [
    "import matplotlib.pyplot as plt\n",
    "import matplotlib.colors as plt_colors\n",
    "import matplotlib.lines as mlines\n",
    "import numpy"
   ]
  },
  {
   "cell_type": "code",
   "execution_count": 73,
   "metadata": {},
   "outputs": [],
   "source": [
    "def create_locs_labels(book, suspects, perp, dets, co_ocs, crime):\n",
    "    # divide the book into n chunks based on sentences\n",
    "    total_sents = book.get_total_sentences()\n",
    "    chapter_locs = []\n",
    "    cum_sents = 0\n",
    "    for chapter in book.clean:\n",
    "        chapter_locs.append(cum_sents)\n",
    "        cum_sents += len(chapter) - 2\n",
    "\n",
    "    locs = []\n",
    "    labels = []\n",
    "    colors = []\n",
    "    # other suspects\n",
    "    for name, values in suspects.items():\n",
    "        ch, sent_num, _ = values\n",
    "        locs.append(chapter_locs[ch - 1] + sent_num)\n",
    "        labels.append(name)\n",
    "        colors.append('tab:blue')\n",
    "\n",
    "    # perpetrator\n",
    "    for name, values in perp.items():\n",
    "        ch, sent_num, _ = values\n",
    "        locs.append(chapter_locs[ch - 1] + sent_num)\n",
    "        labels.append(name)\n",
    "        colors.append('tab:red')\n",
    "\n",
    "    # detective\n",
    "    for name, values in dets.items():\n",
    "        ch, sent_num, _ = values\n",
    "        locs.append(chapter_locs[ch - 1] + sent_num)\n",
    "        labels.append(name)\n",
    "        colors.append('tab:green')\n",
    "\n",
    "    # perp + det co-occurence\n",
    "    for i, co_oc in enumerate(co_ocs):\n",
    "        ch, sent_num, _, _ = co_oc\n",
    "        locs.append(chapter_locs[ch - 1] + sent_num)\n",
    "        labels.append(str(i + 1))\n",
    "        colors.append('tab:orange')\n",
    "    # crime occurence\n",
    "\n",
    "    # add end of book\n",
    "    locs.append(total_sents)\n",
    "    labels.append('END')\n",
    "    colors.append('tab:cyan')\n",
    "\n",
    "    # sort\n",
    "    idx = np.argsort(locs)\n",
    "    locs = np.array(locs)[idx]\n",
    "    labels = np.array(labels)[idx]\n",
    "    colors = np.array(colors)[idx]\n",
    "\n",
    "    return locs, labels, colors"
   ]
  },
  {
   "cell_type": "code",
   "execution_count": 74,
   "metadata": {},
   "outputs": [],
   "source": [
    "def make_timeline(book, locs, labels, colors, num_x_labels=10, out_path=None):\n",
    "    fig, ax = plt.subplots(figsize=(12, 5), tight_layout=True)\n",
    "\n",
    "    total_sents = book.get_total_sentences()\n",
    "    x_ticks = np.arange(1, total_sents + 1, int(total_sents / num_x_labels))\n",
    "    x_labels = [str(int((pct) * 100 / num_x_labels)) + '%' for pct in range(num_x_labels + 1)]\n",
    "    ax.set_title('Timeline: The Circular Staircase', size=20)\n",
    "    ax.set_xticks(x_ticks)\n",
    "    ax.set_xticklabels(x_labels, size=14)\n",
    "    ax.get_yaxis().set_visible(False)\n",
    "\n",
    "    # tiling the event heights with some nice levels\n",
    "    levels = np.tile([-5, 5, -3, 3, -1, 1],\n",
    "                     int(np.ceil(len(labels)/6)))[:len(labels)]\n",
    "\n",
    "    # plot the event lines\n",
    "    markerline, stemline, baseline = ax.stem(locs, levels,\n",
    "                                             linefmt=\"C3-\", basefmt=\"k-\",\n",
    "                                             use_line_collection=True)\n",
    "\n",
    "    # make the marker circle look nicer\n",
    "    plt.setp(markerline, mec=\"k\", mfc=\"w\", zorder=3)\n",
    "    # shift the markers to the baseline by replacing the y-data by zeros.\n",
    "    markerline.set_ydata(np.zeros(len(labels)))\n",
    "\n",
    "    # annotate chapters\n",
    "    vert = np.array(['top', 'bottom'])[(levels > 0).astype(int)]\n",
    "    for sent_num, lv, label, va in zip(locs, levels, labels, vert):\n",
    "        ax.annotate(label, xy=(sent_num, lv), xytext=(6.5*len(label), np.sign(lv)*3),\n",
    "                    textcoords=\"offset points\", va=va, ha=\"right\", size=12)\n",
    "\n",
    "    # set colors\n",
    "    colors = [plt_colors.to_rgba(color) for color in colors]\n",
    "    stemline.set_colors(colors)\n",
    "\n",
    "    # legend\n",
    "    legend_colors = ['tab:blue', 'tab:red', 'tab:green', 'tab:orange']\n",
    "    legend_names = ['other suspects', 'perpetrator', 'detective', 'co-occurences']\n",
    "    proxies = [mlines.Line2D([], [], color=legend_colors[i], marker='_',\n",
    "               markersize=15, label=legend_names[i]) for i in range(4)]\n",
    "    fig.legend(handles=proxies, bbox_to_anchor=(1.0, 0.935), loc='upper left', fontsize=14)\n",
    "\n",
    "    ax.margins(y=0.1)\n",
    "    if out_path:\n",
    "        plt.save(out_path, dpi=300)\n",
    "    plt.show()"
   ]
  },
  {
   "cell_type": "markdown",
   "metadata": {},
   "source": [
    "# Circular Staircase - Analysis"
   ]
  },
  {
   "cell_type": "code",
   "execution_count": 132,
   "metadata": {},
   "outputs": [],
   "source": [
    "title, metadata = list(books.items())[0]\n",
    "book = ProcessedBook(title=title, metadata=metadata)"
   ]
  },
  {
   "cell_type": "code",
   "execution_count": 133,
   "metadata": {},
   "outputs": [],
   "source": [
    "suspects, perp, dets, co_ocs, crime = get_analysis_formats(metadata)"
   ]
  },
  {
   "cell_type": "code",
   "execution_count": 134,
   "metadata": {},
   "outputs": [],
   "source": [
    "suspects = get_earliest_chapter_sentence_from_name_lists(book, suspects, 3, first=True)\n",
    "perp = get_earliest_chapter_sentence_from_name_lists(book, perp, 3, first=True)\n",
    "dets = get_earliest_chapter_sentence_from_name_lists(book, dets, 3, first=True)\n",
    "co_ocs = get_co_occurence(book, dets_perp, n_sents=2)"
   ]
  },
  {
   "cell_type": "code",
   "execution_count": 135,
   "metadata": {},
   "outputs": [],
   "source": [
    "crime = ''"
   ]
  },
  {
   "cell_type": "markdown",
   "metadata": {},
   "source": [
    "# Circular Staircase - Plotting"
   ]
  },
  {
   "cell_type": "code",
   "execution_count": 136,
   "metadata": {},
   "outputs": [],
   "source": [
    "locs, labels, colors = create_locs_labels(book, suspects, perp, dets, co_ocs, crime)"
   ]
  },
  {
   "cell_type": "code",
   "execution_count": 137,
   "metadata": {},
   "outputs": [
    {
     "data": {
      "image/png": "[encoded data removed]",
      "text/plain": [
       "<Figure size 864x360 with 1 Axes>"
      ]
     },
     "metadata": {
      "needs_background": "light"
     },
     "output_type": "display_data"
    }
   ],
   "source": [
    "make_timeline(book, locs, labels, colors)"
   ]
  },
  {
   "cell_type": "markdown",
   "metadata": {},
   "source": [
    "# The Man in the Lower Ten - Analysis"
   ]
  },
  {
   "cell_type": "code",
   "execution_count": 132,
   "metadata": {},
   "outputs": [],
   "source": [
    "title, metadata = list(books.items())[1]\n",
    "book = ProcessedBook(title=title, metadata=metadata)"
   ]
  },
  {
   "cell_type": "code",
   "execution_count": 133,
   "metadata": {},
   "outputs": [],
   "source": [
    "suspects, perp, dets, co_ocs, crime = get_analysis_formats(metadata)"
   ]
  },
  {
   "cell_type": "code",
   "execution_count": 134,
   "metadata": {},
   "outputs": [],
   "source": [
    "suspects = get_earliest_chapter_sentence_from_name_lists(book, suspects, 3, first=True)\n",
    "perp = get_earliest_chapter_sentence_from_name_lists(book, perp, 3, first=True)\n",
    "dets = get_earliest_chapter_sentence_from_name_lists(book, dets, 3, first=True)\n",
    "co_ocs = get_co_occurence(book, dets_perp, n_sents=2)"
   ]
  },
  {
   "cell_type": "code",
   "execution_count": 135,
   "metadata": {},
   "outputs": [],
   "source": [
    "crime = ''"
   ]
  },
  {
   "cell_type": "markdown",
   "metadata": {},
   "source": [
    "# The Man in the Lower Ten - Plotting"
   ]
  },
  {
   "cell_type": "code",
   "execution_count": 136,
   "metadata": {},
   "outputs": [],
   "source": [
    "locs, labels, colors = create_locs_labels(book, suspects, perp, dets, co_ocs, crime)"
   ]
  },
  {
   "cell_type": "code",
   "execution_count": 137,
   "metadata": {},
   "outputs": [
    {
     "data": {
      "image/png": "[encoded data removed]",
      "text/plain": [
       "<Figure size 864x360 with 1 Axes>"
      ]
     },
     "metadata": {
      "needs_background": "light"
     },
     "output_type": "display_data"
    }
   ],
   "source": [
    "make_timeline(book, locs, labels, colors)"
   ]
  },
  {
   "cell_type": "markdown",
   "metadata": {},
   "source": [
    "# The After House - Analysis"
   ]
  },
  {
   "cell_type": "code",
   "execution_count": 22,
   "metadata": {},
   "outputs": [],
   "source": [
    "title, metadata = list(books.items())[2]\n",
    "book = ProcessedBook(title=title, metadata=metadata) \n",
    "\n",
    "other_suspects = []\n",
    "\n",
    "dets_perp = []"
   ]
  },
  {
   "cell_type": "code",
   "execution_count": 13,
   "metadata": {},
   "outputs": [
    {
     "data": {
      "text/plain": [
       "{'gertrude innes': [1, 15, ['eleven then, and gertrude was seven. all']],\n",
       " 'john bailey': [3, 48, ['let me present john bailey, only you must']],\n",
       " 'halsey innes': [1, 15, ['his two children. halsey was eleven then,']]}"
      ]
     },
     "execution_count": 13,
     "metadata": {},
     "output_type": "execute_result"
    }
   ],
   "source": [
    "suspects = get_earliest_chapter_sentence_from_name_lists(book, other_suspects, 3, first=True)\n",
    "suspects"
   ]
  },
  {
   "cell_type": "code",
   "execution_count": 14,
   "metadata": {},
   "outputs": [
    {
     "data": {
      "text/plain": [
       "{'anne watson': [2, 140, ['her name was anne watson, and i dined']]}"
      ]
     },
     "execution_count": 14,
     "metadata": {},
     "output_type": "execute_result"
    }
   ],
   "source": [
    "perp = get_earliest_chapter_sentence_from_name_lists(book, [dets_perp[1]], 3, first=True)\n",
    "perp"
   ]
  },
  {
   "cell_type": "code",
   "execution_count": 15,
   "metadata": {},
   "outputs": [
    {
     "data": {
      "text/plain": [
       "{'mr. jamieson': [1, 12, ['what i know. mr. jamieson, the detective, said']]}"
      ]
     },
     "execution_count": 15,
     "metadata": {},
     "output_type": "execute_result"
    }
   ],
   "source": [
    "dets_list = [[alias for alias in dets_perp[0] if alias != 'detective']]\n",
    "dets = get_earliest_chapter_sentence_from_name_lists(book, dets_list, 3, first=True)\n",
    "dets"
   ]
  },
  {
   "cell_type": "code",
   "execution_count": 16,
   "metadata": {},
   "outputs": [],
   "source": [
    "co_ocs = get_co_occurence(book, dets_perp, n_sents=2)"
   ]
  },
  {
   "cell_type": "markdown",
   "metadata": {},
   "source": [
    "# The After House - Plotting"
   ]
  },
  {
   "cell_type": "code",
   "execution_count": 22,
   "metadata": {},
   "outputs": [],
   "source": [
    "title, metadata = list(books.items())[2]\n",
    "book = ProcessedBook(title=title, metadata=metadata) \n",
    "\n",
    "other_suspects = []\n",
    "\n",
    "dets_perp = []"
   ]
  },
  {
   "cell_type": "markdown",
   "metadata": {},
   "source": [
    "# The Case of Jennifer Bryce - Analysis"
   ]
  },
  {
   "cell_type": "code",
   "execution_count": 22,
   "metadata": {},
   "outputs": [],
   "source": [
    "title, metadata = list(books.items())[2]\n",
    "book = ProcessedBook(title=title, metadata=metadata) \n",
    "\n",
    "other_suspects = []\n",
    "\n",
    "dets_perp = []"
   ]
  },
  {
   "cell_type": "code",
   "execution_count": 13,
   "metadata": {},
   "outputs": [
    {
     "data": {
      "text/plain": [
       "{'gertrude innes': [1, 15, ['eleven then, and gertrude was seven. all']],\n",
       " 'john bailey': [3, 48, ['let me present john bailey, only you must']],\n",
       " 'halsey innes': [1, 15, ['his two children. halsey was eleven then,']]}"
      ]
     },
     "execution_count": 13,
     "metadata": {},
     "output_type": "execute_result"
    }
   ],
   "source": [
    "suspects = get_earliest_chapter_sentence_from_name_lists(book, other_suspects, 3, first=True)\n",
    "suspects"
   ]
  },
  {
   "cell_type": "code",
   "execution_count": 14,
   "metadata": {},
   "outputs": [
    {
     "data": {
      "text/plain": [
       "{'anne watson': [2, 140, ['her name was anne watson, and i dined']]}"
      ]
     },
     "execution_count": 14,
     "metadata": {},
     "output_type": "execute_result"
    }
   ],
   "source": [
    "perp = get_earliest_chapter_sentence_from_name_lists(book, [dets_perp[1]], 3, first=True)\n",
    "perp"
   ]
  },
  {
   "cell_type": "code",
   "execution_count": 15,
   "metadata": {},
   "outputs": [
    {
     "data": {
      "text/plain": [
       "{'mr. jamieson': [1, 12, ['what i know. mr. jamieson, the detective, said']]}"
      ]
     },
     "execution_count": 15,
     "metadata": {},
     "output_type": "execute_result"
    }
   ],
   "source": [
    "dets_list = [[alias for alias in dets_perp[0] if alias != 'detective']]\n",
    "dets = get_earliest_chapter_sentence_from_name_lists(book, dets_list, 3, first=True)\n",
    "dets"
   ]
  },
  {
   "cell_type": "code",
   "execution_count": 16,
   "metadata": {},
   "outputs": [],
   "source": [
    "co_ocs = get_co_occurence(book, dets_perp, n_sents=2)"
   ]
  },
  {
   "cell_type": "markdown",
   "metadata": {},
   "source": [
    "# The Case of Jennifer Bryce - Plotting"
   ]
  },
  {
   "cell_type": "code",
   "execution_count": null,
   "metadata": {},
   "outputs": [],
   "source": []
  },
  {
   "cell_type": "markdown",
   "metadata": {},
   "source": [
    "# K - Analysis"
   ]
  },
  {
   "cell_type": "code",
   "execution_count": 12,
   "metadata": {},
   "outputs": [],
   "source": [
    "# Load Circlular Staircase example\n",
    "title, metadata = list(books.items())[0]\n",
    "book = ProcessedBook(title=title, metadata=metadata) \n",
    "\n",
    "other_suspects = [['gertrude innes', 'miss gertrude innes', 'miss gertrude', 'gertrude', 'miss innes', 'mis’ innes'],\n",
    "                  ['john bailey', 'jack bailey', 'mr. bailey', 'bailey', 'alex', 'alexander graham'],\n",
    "                  ['halsey innes', 'mr. halsey', 'halsey', 'mr. innes']]\n",
    "\n",
    "dets_perp = [['mr. jamieson', 'mr. winters', 'detective', 'jamieson', 'winters'],\n",
    "             ['anne watson', 'mrs. watson', 'mis’ watson']]"
   ]
  },
  {
   "cell_type": "code",
   "execution_count": 13,
   "metadata": {},
   "outputs": [
    {
     "data": {
      "text/plain": [
       "{'gertrude innes': [1, 15, ['eleven then, and gertrude was seven. all']],\n",
       " 'john bailey': [3, 48, ['let me present john bailey, only you must']],\n",
       " 'halsey innes': [1, 15, ['his two children. halsey was eleven then,']]}"
      ]
     },
     "execution_count": 13,
     "metadata": {},
     "output_type": "execute_result"
    }
   ],
   "source": [
    "suspects = get_earliest_chapter_sentence_from_name_lists(book, other_suspects, 3, first=True)\n",
    "suspects"
   ]
  },
  {
   "cell_type": "code",
   "execution_count": 14,
   "metadata": {},
   "outputs": [
    {
     "data": {
      "text/plain": [
       "{'anne watson': [2, 140, ['her name was anne watson, and i dined']]}"
      ]
     },
     "execution_count": 14,
     "metadata": {},
     "output_type": "execute_result"
    }
   ],
   "source": [
    "perp = get_earliest_chapter_sentence_from_name_lists(book, [dets_perp[1]], 3, first=True)\n",
    "perp"
   ]
  },
  {
   "cell_type": "code",
   "execution_count": 15,
   "metadata": {},
   "outputs": [
    {
     "data": {
      "text/plain": [
       "{'mr. jamieson': [1, 12, ['what i know. mr. jamieson, the detective, said']]}"
      ]
     },
     "execution_count": 15,
     "metadata": {},
     "output_type": "execute_result"
    }
   ],
   "source": [
    "dets_list = [[alias for alias in dets_perp[0] if alias != 'detective']]\n",
    "dets = get_earliest_chapter_sentence_from_name_lists(book, dets_list, 3, first=True)\n",
    "dets"
   ]
  },
  {
   "cell_type": "code",
   "execution_count": 16,
   "metadata": {},
   "outputs": [],
   "source": [
    "co_ocs = get_co_occurence(book, dets_perp, n_sents=2)"
   ]
  },
  {
   "cell_type": "markdown",
   "metadata": {},
   "source": [
    "# K - Plotting"
   ]
  },
  {
   "cell_type": "code",
   "execution_count": null,
   "metadata": {},
   "outputs": [],
   "source": []
  }
 ],
 "metadata": {
  "kernelspec": {
   "display_name": "Python 3 (ipykernel)",
   "language": "python",
   "name": "python3"
  },
  "language_info": {
   "codemirror_mode": {
    "name": "ipython",
    "version": 3
   },
   "file_extension": ".py",
   "mimetype": "text/x-python",
   "name": "python",
   "nbconvert_exporter": "python",
   "pygments_lexer": "ipython3",
   "version": "3.9.7"
  }
 },
 "nbformat": 4,
 "nbformat_minor": 1
}
