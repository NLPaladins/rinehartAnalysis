{
 "cells": [
  {
   "cell_type": "markdown",
   "metadata": {
    "collapsed": true
   },
   "source": [
    "# NLP - Project 1\n",
    "## Rinehart Analysis\n",
    "**Team**: *Jean Merlet, Konstantinos Georgiou, Matt Lane*"
   ]
  },
  {
   "cell_type": "markdown",
   "metadata": {},
   "source": [
    "Check out the **[README](https://github.com/NLPaladins/rinehartAnalysis/blob/main/README.md)**\n",
    "\n",
    "\n",
    "Or the current **[TODO](https://github.com/NLPaladins/rinehartAnalysis/blob/main/TODO.md)** list."
   ]
  },
  {
   "cell_type": "code",
   "execution_count": 1,
   "metadata": {},
   "outputs": [],
   "source": [
    "# Import Jupyter Widgets\n",
    "import os\n",
    "import ipywidgets as widgets\n",
    "from ipywidgets import interact, interact_manual\n",
    "from IPython.display import display"
   ]
  },
  {
   "cell_type": "code",
   "execution_count": 2,
   "metadata": {},
   "outputs": [
    {
     "name": "stdout",
     "output_type": "stream",
     "text": [
      "Clone project?\n",
      "(If you do this you will ovewrite local changes on other files e.g. configs)\n",
      "Not needed if you're not on Google Collab\n"
     ]
    },
    {
     "data": {
      "application/vnd.jupyter.widget-view+json": {
       "model_id": "408182e4e8e5498695496eaa72cdbbc8",
       "version_major": 2,
       "version_minor": 0
      },
      "text/plain": [
       "Button(description='Yes, clone', style=ButtonStyle())"
      ]
     },
     "metadata": {},
     "output_type": "display_data"
    }
   ],
   "source": [
    "# Clone the repository if you're in Google Collab\n",
    "def clone_project(is_collab: bool = False):\n",
    "    print(\"Cloning Project..\")\n",
    "    !git clone https://github.com/NLPaladins/rinehartAnalysis.git\n",
    "    print(\"Project cloned.\")\n",
    "       \n",
    "print(\"Clone project?\")\n",
    "print(\"(If you do this you will ovewrite local changes on other files e.g. configs)\")\n",
    "print(\"Not needed if you're not on Google Collab\")\n",
    "btn = widgets.Button(description=\"Yes, clone\")\n",
    "btn.on_click(clone_project)\n",
    "display(btn)"
   ]
  },
  {
   "cell_type": "code",
   "execution_count": 3,
   "metadata": {},
   "outputs": [
    {
     "name": "stdout",
     "output_type": "stream",
     "text": [
      "Are you on Google Collab?\n"
     ]
    },
    {
     "data": {
      "application/vnd.jupyter.widget-view+json": {
       "model_id": "9542a38ebcf544cdb37e17cfa34672c6",
       "version_major": 2,
       "version_minor": 0
      },
      "text/plain": [
       "Button(description='Yes', style=ButtonStyle())"
      ]
     },
     "metadata": {},
     "output_type": "display_data"
    }
   ],
   "source": [
    "# Clone the repository if you're in Google Collab\n",
    "def change_dir(is_collab: bool = False):\n",
    "    try:\n",
    "        print(\"Changing dir..\")\n",
    "        os.chdir('/content/rinehartAnalysis')\n",
    "        print('done')\n",
    "        print(\"Current dir:\")\n",
    "        print(os.getcwd())\n",
    "        print(\"Dir Contents:\")\n",
    "        print(os.listdir())\n",
    "    except Exception:\n",
    "        print(\"Error: Project not cloned\")\n",
    "       \n",
    "print(\"Are you on Google Collab?\")\n",
    "btn = widgets.Button(description=\"Yes\")\n",
    "btn.on_click(change_dir)\n",
    "display(btn)"
   ]
  },
  {
   "cell_type": "markdown",
   "metadata": {},
   "source": [
    "### At any point, to save changes\n",
    "click **File > Save a copy on Gihtub**"
   ]
  },
  {
   "cell_type": "markdown",
   "metadata": {},
   "source": [
    "### Now go to files on the left, and open:\n",
    "- rinehartAnalysis/confs/proj_1.yml\n",
    "\n",
    "(Ctr+s) to save changes"
   ]
  },
  {
   "cell_type": "markdown",
   "metadata": {
    "pycharm": {
     "name": "#%%\n"
    }
   },
   "source": [
    "## Load Libraries and setup"
   ]
  },
  {
   "cell_type": "markdown",
   "metadata": {},
   "source": [
    "### Libraries Overview\n",
    "All the libraries are located under *\"\\<project root>/nlp_libs\"*\n",
    "- ***ProcessedBook***: Loc: **books/processed_book.py**, Desc: *Book Pre-processor*\n",
    "- ***Configuration***: Loc: **configuration/configuration.py**, Desc: *Configuration Loader*\n",
    "- ***ColorizedLogger***: Loc: **fancy_logger/colorized_logger.py**, Desc: *Logger with formatted text capabilities*"
   ]
  },
  {
   "cell_type": "code",
   "execution_count": 4,
   "metadata": {},
   "outputs": [],
   "source": [
    "# Imports\n",
    "%load_ext autoreload\n",
    "%autoreload 2\n",
    "import traceback\n",
    "import argparse\n",
    "import re\n",
    "from importlib import reload as reload_lib\n",
    "from pprint import pprint\n",
    "import numpy as np\n",
    "\n",
    "# Custom libs\n",
    "from nlp_libs import Configuration, ColorizedLogger"
   ]
  },
  {
   "cell_type": "code",
   "execution_count": 5,
   "metadata": {},
   "outputs": [
    {
     "name": "stderr",
     "output_type": "stream",
     "text": [
      "2021-09-26 21:46:20 FancyLogger  INFO     \u001b[1m\u001b[37mLogger is set. Log file path: /home/drkostas/GDrive/Projects/UTK/rinehartAnalysis/logs/proj_1.log\u001b[0m\n",
      "2021-09-26 21:46:20 Config       INFO     \u001b[1m\u001b[37mConfiguration file loaded successfully from path: /home/drkostas/GDrive/Projects/UTK/rinehartAnalysis/confs/proj_1.yml\u001b[0m\n",
      "2021-09-26 21:46:20 Config       INFO     \u001b[1m\u001b[37mConfiguration Tag: proj1\u001b[0m\n"
     ]
    }
   ],
   "source": [
    "# The path of configuration and log save path\n",
    "config_path = \"confs/proj_1.yml\"  # Open files > confs > proj_1.yml to edit temporalily. Commit to save permanently\n",
    "# !cat \"$config_path\"\n",
    "log_path = \"logs/proj_1.log\"  # Open files > logs > proj_1.log to debug logs of previous runs\n",
    "# The logger\n",
    "logger = ColorizedLogger(logger_name='Notebook', color='cyan')\n",
    "ColorizedLogger.setup_logger(log_path=log_path, debug=False, clear_log=True)\n",
    "# Load the configuration\n",
    "conf = Configuration(config_src=config_path)\n",
    "# Get the books dict\n",
    "books = conf.get_config('data_loader')['config']['books']\n",
    "# pprint(books)  # Pretty print the books dict"
   ]
  },
  {
   "cell_type": "markdown",
   "metadata": {},
   "source": [
    "# Analysis Functions"
   ]
  },
  {
   "cell_type": "code",
   "execution_count": 6,
   "metadata": {},
   "outputs": [],
   "source": [
    "import nlp_libs.books.processed_book as proc\n",
    "import nlp_libs.books.book_extractor as extr"
   ]
  },
  {
   "cell_type": "markdown",
   "metadata": {},
   "source": [
    "# Plotting Functions"
   ]
  },
  {
   "cell_type": "code",
   "execution_count": 7,
   "metadata": {},
   "outputs": [],
   "source": [
    "import nlp_libs.books.plotter as pl"
   ]
  },
  {
   "cell_type": "markdown",
   "metadata": {},
   "source": [
    "# Circular Staircase - Analysis"
   ]
  },
  {
   "cell_type": "code",
   "execution_count": 8,
   "metadata": {},
   "outputs": [],
   "source": [
    "title, metadata = list(books.items())[0]\n",
    "book = proc.ProcessedBook(title=title, metadata=metadata)"
   ]
  },
  {
   "cell_type": "code",
   "execution_count": 9,
   "metadata": {},
   "outputs": [],
   "source": [
    "suspects_, perp, dets, co_ocs, crime = extr.get_analysis_formats(metadata)"
   ]
  },
  {
   "cell_type": "code",
   "execution_count": 10,
   "metadata": {},
   "outputs": [],
   "source": [
    "suspects = extr.get_earliest_chapter_sentence_from_name_lists(book, suspects_, 3, first=True)\n",
    "perp = extr.get_earliest_chapter_sentence_from_name_lists(book, perp, 3, first=True)\n",
    "dets = extr.get_earliest_chapter_sentence_from_name_lists(book, dets, 3, first=True)\n",
    "co_ocs = extr.get_co_occurence(book, co_ocs, n_sents=2)"
   ]
  },
  {
   "cell_type": "markdown",
   "metadata": {},
   "source": [
    "## Get Crime Mentions, Details\n",
    "Link the first mention with the next close mentions"
   ]
  },
  {
   "cell_type": "code",
   "execution_count": 11,
   "metadata": {},
   "outputs": [
    {
     "name": "stderr",
     "output_type": "stream",
     "text": [
      "2021-09-26 21:46:21 Book Extractor INFO     \u001b[4m\u001b[33mRegex: (^.*(?:.*\\s(?:killed|shot).*)$)\u001b[0m\n",
      "\n",
      "2021-09-26 21:46:22 Notebook     INFO     \u001b[4m\u001b[36mFirst mention: Chapter: 2, Sentence: 68\u001b[0m\n",
      "2021-09-26 21:46:22 Notebook     INFO     \u001b[1m\u001b[36mAt three oclock in the morning I was roused by a revolver shot\u001b[0m\n",
      "2021-09-26 21:46:22 Notebook     INFO     \u001b[4m\u001b[33mCrime Details Location: \u001b[0m\n",
      "2021-09-26 21:46:22 Notebook     INFO     \u001b[1m\u001b[36mFirst Instace: Chapter 2, Sentence 68\u001b[0m\n",
      "2021-09-26 21:46:22 Notebook     INFO     \u001b[1m\u001b[36mLast Instace: Paragraph 2, Sentence 73\u001b[0m\n",
      "2021-09-26 21:46:22 Notebook     INFO     \u001b[4m\u001b[33mCrime Details: \u001b[0m\n",
      "2021-09-26 21:46:22 Notebook     INFO     \u001b[1m\u001b[36m\n",
      "At three oclock in the morning I was roused by a revolver shot. The sound seemed to come from just outside my door. For a moment I could not move. Then—I heard Gertrude stirring in her room, and the next moment she had thrown open the connecting door. “O Aunt Ray! Aunt Ray!” she cried hysterically. “Some one has been killed, killed. “Thieves,” I said shortly. “Thank goodness, there are some men in the house to-night\u001b[0m\n"
     ]
    }
   ],
   "source": [
    "# Get mentions\n",
    "crime_words = book.crime_details['or_words']\n",
    "p_lookaheads = book.crime_details['positive_lookeaheads']\n",
    "crime_mentions = extr.get_crime_mentions(book=book, \n",
    "                                         crime_words=crime_words,\n",
    "                                         p_lookaheads=p_lookaheads,\n",
    "                                         print_instances=False)\n",
    "logger.nl()\n",
    "first_crime_mention = crime_mentions[0]\n",
    "logger.info(f\"First mention: Chapter: {first_crime_mention[0]}, Sentence: {first_crime_mention[1]}\",\n",
    "            attrs=['underline'])\n",
    "logger.info(f\"{book.clean[first_crime_mention[0]][first_crime_mention[1]]}\")\n",
    "# Get Details\n",
    "crime_details_tup = extr.get_crime_details(book=book, \n",
    "                                           crime_mentions=crime_mentions,\n",
    "                                           max_dist=10,\n",
    "                                           left_margin=0,\n",
    "                                           right_margin=2,)\n",
    "(first_crime_details, close_mentions_idx) = crime_details_tup\n",
    "logger.info(\"Crime Details Location: \", attrs=['underline'], color='yellow')\n",
    "logger.info(f\"First Instace: Chapter {close_mentions_idx[0][0]}, \"\n",
    "            f\"Sentence {close_mentions_idx[0][1]}\")\n",
    "logger.info(f\"Last Instace: Paragraph {close_mentions_idx[-1][0]}, \"\n",
    "            f\"Sentence {close_mentions_idx[-1][1]}\")\n",
    "logger.info(\"Crime Details: \", attrs=['underline'], color='yellow')\n",
    "logger.info(f\"\\n{first_crime_details}\")"
   ]
  },
  {
   "cell_type": "markdown",
   "metadata": {},
   "source": [
    "### Get Crime Type"
   ]
  },
  {
   "cell_type": "code",
   "execution_count": 12,
   "metadata": {},
   "outputs": [
    {
     "name": "stderr",
     "output_type": "stream",
     "text": [
      "2021-09-26 21:46:22 Book Extractor INFO     \u001b[4m\u001b[33mRegex: (^.*(?=bullet)(?:.*\\s(?:fired).*)$)\u001b[0m\n",
      "\n",
      "2021-09-26 21:46:22 Notebook     INFO     \u001b[4m\u001b[36mFirst mention: Chapter: 4, Sentence: 49\u001b[0m\n",
      "2021-09-26 21:46:22 Notebook     INFO     \u001b[1m\u001b[36mThe bullet was fired at close range, entered below the shoulder and came out, after passing through the heart, well down the back\u001b[0m\n",
      "2021-09-26 21:46:22 Notebook     INFO     \u001b[4m\u001b[33mCrime Details Location: \u001b[0m\n",
      "2021-09-26 21:46:22 Notebook     INFO     \u001b[1m\u001b[36mFirst Instace: Paragraph 4, Sentence 49\u001b[0m\n",
      "2021-09-26 21:46:22 Notebook     INFO     \u001b[1m\u001b[36mLast Instace: Paragraph 4, Sentence 49\u001b[0m\n",
      "2021-09-26 21:46:22 Notebook     INFO     \u001b[4m\u001b[33mCrime Details: \u001b[0m\n",
      "2021-09-26 21:46:22 Notebook     INFO     \u001b[1m\u001b[36m\n",
      "In the first place, Mr. Armstrong was shot from above. The bullet was fired at close range, entered below the shoulder and came out, after passing through the heart, well down the back. In other words, I believe the murderer stood on the stairs and fired down. In the second place, I found on the edge of the billiard-table a charred cigar which had burned itself partly out, and a cigarette which had consumed itself to the cork tip\u001b[0m\n"
     ]
    }
   ],
   "source": [
    "# Get mentions\n",
    "crime_type_words = book.crime_type['or_words']\n",
    "p_lookaheads = book.crime_type['positive_lookeaheads']\n",
    "crime_mentions = extr.get_crime_mentions(book=book, \n",
    "                                         crime_words=crime_type_words,\n",
    "                                         p_lookaheads=p_lookaheads,\n",
    "                                         print_instances=False)\n",
    "logger.nl()\n",
    "first_crime_mention = crime_mentions[0]\n",
    "logger.info(f\"First mention: Chapter: {first_crime_mention[0]}, Sentence: {first_crime_mention[1]}\",\n",
    "            attrs=['underline'])\n",
    "logger.info(f\"{book.clean[first_crime_mention[0]][first_crime_mention[1]]}\")\n",
    "# Get Details\n",
    "crime_details_tup = extr.get_crime_details(book=book, \n",
    "                                           crime_mentions=crime_mentions,\n",
    "                                           max_dist=10,\n",
    "                                           left_margin=1,\n",
    "                                           right_margin=2,)\n",
    "(first_crime_details, close_mentions_idx) = crime_details_tup\n",
    "logger.info(\"Crime Details Location: \", attrs=['underline'], color='yellow')\n",
    "logger.info(f\"First Instace: Paragraph {close_mentions_idx[0][0]}, \"\n",
    "            f\"Sentence {close_mentions_idx[0][1]}\")\n",
    "logger.info(f\"Last Instace: Paragraph {close_mentions_idx[-1][0]}, \"\n",
    "            f\"Sentence {close_mentions_idx[-1][1]}\")\n",
    "logger.info(\"Crime Details: \", attrs=['underline'], color='yellow')\n",
    "logger.info(f\"\\n{first_crime_details}\")"
   ]
  },
  {
   "cell_type": "markdown",
   "metadata": {},
   "source": [
    "# Circular Staircase - Plotting"
   ]
  },
  {
   "cell_type": "code",
   "execution_count": 13,
   "metadata": {},
   "outputs": [],
   "source": [
    "locs, labels, colors = pl.create_locs_labels(book, suspects, perp, dets, co_ocs, crime)"
   ]
  },
  {
   "cell_type": "code",
   "execution_count": 14,
   "metadata": {},
   "outputs": [
    {
     "data": {
      "image/png": "[encoded data removed]",
      "text/plain": [
       "<Figure size 864x360 with 1 Axes>"
      ]
     },
     "metadata": {
      "needs_background": "light"
     },
     "output_type": "display_data"
    }
   ],
   "source": [
    "pl.make_timeline(book, locs, labels, colors)"
   ]
  },
  {
   "cell_type": "markdown",
   "metadata": {},
   "source": [
    "# The Man in the Lower Ten - Analysis"
   ]
  },
  {
   "cell_type": "code",
   "execution_count": 15,
   "metadata": {},
   "outputs": [],
   "source": [
    "title, metadata = list(books.items())[1]\n",
    "book = proc.ProcessedBook(title=title, metadata=metadata)"
   ]
  },
  {
   "cell_type": "code",
   "execution_count": 16,
   "metadata": {},
   "outputs": [],
   "source": [
    "suspects, perp, dets, co_ocs, crime = extr.get_analysis_formats(metadata)"
   ]
  },
  {
   "cell_type": "code",
   "execution_count": 17,
   "metadata": {},
   "outputs": [],
   "source": [
    "suspects = extr.get_earliest_chapter_sentence_from_name_lists(book, suspects, 3, first=True)\n",
    "perp = extr.get_earliest_chapter_sentence_from_name_lists(book, perp, 3, first=True)\n",
    "dets = extr.get_earliest_chapter_sentence_from_name_lists(book, dets, 3, first=True)\n",
    "co_ocs = extr.get_co_occurence(book, co_ocs, n_sents=2)"
   ]
  },
  {
   "cell_type": "markdown",
   "metadata": {},
   "source": [
    "## Get Crime Mentions, Details\n",
    "Link the first mention with the next close mentions"
   ]
  },
  {
   "cell_type": "code",
   "execution_count": 18,
   "metadata": {},
   "outputs": [
    {
     "name": "stderr",
     "output_type": "stream",
     "text": [
      "2021-09-26 21:46:24 Book Extractor INFO     \u001b[4m\u001b[33mRegex: (^.*(?:.*\\s(?:body).*)$)\u001b[0m\n",
      "\n",
      "2021-09-26 21:46:24 Notebook     INFO     \u001b[4m\u001b[36mFirst mention: Chapter: 1, Sentence: 116\u001b[0m\n",
      "2021-09-26 21:46:24 Notebook     INFO     \u001b[1m\u001b[36mThen, without the slightest warning, as the train rounded a curve, a heavy body was thrown into my berth\u001b[0m\n",
      "2021-09-26 21:46:24 Notebook     INFO     \u001b[4m\u001b[33mCrime Details Location: \u001b[0m\n",
      "2021-09-26 21:46:24 Notebook     INFO     \u001b[1m\u001b[36mFirst Instace: Paragraph 1, Sentence 116\u001b[0m\n",
      "2021-09-26 21:46:24 Notebook     INFO     \u001b[1m\u001b[36mLast Instace: Paragraph 1, Sentence 116\u001b[0m\n",
      "2021-09-26 21:46:24 Notebook     INFO     \u001b[4m\u001b[33mCrime Details: \u001b[0m\n",
      "2021-09-26 21:46:24 Notebook     INFO     \u001b[1m\u001b[36m\n",
      "Every nerve was tense: time passed, perhaps ten minutes, possibly half an hour. Then, without the slightest warning, as the train rounded a curve, a heavy body was thrown into my berth. The incident, trivial as it seemed, was startling in its suddenness, for although my ears were painfully strained and awake, I had heard no step outside. The next instant the curtain hung limp again; still without a sound, my disturber had slipped away into the gloom and darkness\u001b[0m\n"
     ]
    }
   ],
   "source": [
    "# Get Mentions\n",
    "crime_details_words = book.crime_details['or_words']\n",
    "p_lookaheads = book.crime_details['positive_lookeaheads']\n",
    "crime_mentions = extr.get_crime_mentions(book=book, \n",
    "                                         crime_words=crime_details_words,\n",
    "                                         p_lookaheads=p_lookaheads,\n",
    "                                         print_instances=False)\n",
    "logger.nl()\n",
    "first_crime_mention = crime_mentions[0]\n",
    "logger.info(f\"First mention: Chapter: {first_crime_mention[0]}, Sentence: {first_crime_mention[1]}\",\n",
    "            attrs=['underline'])\n",
    "logger.info(f\"{book.clean[first_crime_mention[0]][first_crime_mention[1]]}\")\n",
    "# Get Details\n",
    "crime_details_tup = extr.get_crime_details(book=book, \n",
    "                                           crime_mentions=crime_mentions,\n",
    "                                           max_dist=10,\n",
    "                                           left_margin=1,\n",
    "                                           right_margin=2,)\n",
    "(first_crime_details, close_mentions_idx) = crime_details_tup\n",
    "logger.info(\"Crime Details Location: \", attrs=['underline'], color='yellow')\n",
    "logger.info(f\"First Instace: Paragraph {close_mentions_idx[0][0]}, \"\n",
    "            f\"Sentence {close_mentions_idx[0][1]}\")\n",
    "logger.info(f\"Last Instace: Paragraph {close_mentions_idx[-1][0]}, \"\n",
    "            f\"Sentence {close_mentions_idx[-1][1]}\")\n",
    "logger.info(\"Crime Details: \", attrs=['underline'], color='yellow')\n",
    "logger.info(f\"\\n{first_crime_details}\")"
   ]
  },
  {
   "cell_type": "markdown",
   "metadata": {},
   "source": [
    "## Get Crime Type"
   ]
  },
  {
   "cell_type": "code",
   "execution_count": 19,
   "metadata": {},
   "outputs": [
    {
     "name": "stderr",
     "output_type": "stream",
     "text": [
      "2021-09-26 21:46:24 Book Extractor INFO     \u001b[4m\u001b[33mRegex: (^.*(?=body)(?:.*\\s(?:stabbed).*)$)\u001b[0m\n",
      "\n",
      "2021-09-26 21:46:24 Notebook     INFO     \u001b[4m\u001b[36mFirst mention: Chapter: 12, Sentence: 113\u001b[0m\n",
      "2021-09-26 21:46:24 Notebook     INFO     \u001b[1m\u001b[36mShortly before the collision, John Flanders, the conductor of the Flier, sent this telegram to the chief of police: “Body of Simon Harrington found stabbed in his berth, lower ten, Ontario, at six-thirty this morning\u001b[0m\n",
      "2021-09-26 21:46:24 Notebook     INFO     \u001b[4m\u001b[33mCrime Details Location: \u001b[0m\n",
      "2021-09-26 21:46:24 Notebook     INFO     \u001b[1m\u001b[36mFirst Instace: Paragraph 12, Sentence 113\u001b[0m\n",
      "2021-09-26 21:46:24 Notebook     INFO     \u001b[1m\u001b[36mLast Instace: Paragraph 12, Sentence 113\u001b[0m\n",
      "2021-09-26 21:46:24 Notebook     INFO     \u001b[4m\u001b[33mCrime Details: \u001b[0m\n",
      "2021-09-26 21:46:24 Notebook     INFO     \u001b[1m\u001b[36m\n",
      "It has transpired that Simon Harrington, the Wood Street merchant of that city, was not killed in the wreck, but was murdered in his berth the night preceding the accident. Shortly before the collision, John Flanders, the conductor of the Flier, sent this telegram to the chief of police: “Body of Simon Harrington found stabbed in his berth, lower ten, Ontario, at six-thirty this morning. JOHN FLANDERS, Conductor. “It is hoped that the survivors of the wrecked car Ontario will be found, to tell what they know of the discovery of the crime\u001b[0m\n"
     ]
    }
   ],
   "source": [
    "# Get Mentions\n",
    "crime_type_words = book.crime_type['or_words']\n",
    "p_lookaheads = book.crime_type['positive_lookeaheads']\n",
    "crime_mentions = extr.get_crime_mentions(book=book, \n",
    "                                         crime_words=crime_type_words,\n",
    "                                         p_lookaheads=p_lookaheads,\n",
    "                                         print_instances=False)\n",
    "logger.nl()\n",
    "first_crime_mention = crime_mentions[0]\n",
    "logger.info(f\"First mention: Chapter: {first_crime_mention[0]}, Sentence: {first_crime_mention[1]}\",\n",
    "            attrs=['underline'])\n",
    "logger.info(f\"{book.clean[first_crime_mention[0]][first_crime_mention[1]]}\")\n",
    "# Get Details\n",
    "crime_details_tup = extr.get_crime_details(book=book, \n",
    "                                           crime_mentions=crime_mentions,\n",
    "                                           max_dist=10,\n",
    "                                           left_margin=1,\n",
    "                                           right_margin=2,)\n",
    "(first_crime_details, close_mentions_idx) = crime_details_tup\n",
    "logger.info(\"Crime Details Location: \", attrs=['underline'], color='yellow')\n",
    "logger.info(f\"First Instace: Paragraph {close_mentions_idx[0][0]}, \"\n",
    "            f\"Sentence {close_mentions_idx[0][1]}\")\n",
    "logger.info(f\"Last Instace: Paragraph {close_mentions_idx[-1][0]}, \"\n",
    "            f\"Sentence {close_mentions_idx[-1][1]}\")\n",
    "logger.info(\"Crime Details: \", attrs=['underline'], color='yellow')\n",
    "logger.info(f\"\\n{first_crime_details}\")"
   ]
  },
  {
   "cell_type": "markdown",
   "metadata": {},
   "source": [
    "# The Man in the Lower Ten - Plotting"
   ]
  },
  {
   "cell_type": "code",
   "execution_count": 20,
   "metadata": {},
   "outputs": [],
   "source": [
    "locs, labels, colors = pl.create_locs_labels(book, suspects, perp, dets, co_ocs, crime)"
   ]
  },
  {
   "cell_type": "code",
   "execution_count": 21,
   "metadata": {},
   "outputs": [
    {
     "data": {
      "image/png": "[encoded data removed]",
      "text/plain": [
       "<Figure size 864x360 with 1 Axes>"
      ]
     },
     "metadata": {
      "needs_background": "light"
     },
     "output_type": "display_data"
    }
   ],
   "source": [
    "pl.make_timeline(book, locs, labels, colors)"
   ]
  },
  {
   "cell_type": "markdown",
   "metadata": {},
   "source": [
    "# The After House - Analysis"
   ]
  },
  {
   "cell_type": "code",
   "execution_count": 22,
   "metadata": {},
   "outputs": [
    {
     "ename": "KeyError",
     "evalue": "'detectives'",
     "output_type": "error",
     "traceback": [
      "\u001b[0;31m---------------------------------------------------------------------------\u001b[0m",
      "\u001b[0;31mKeyError\u001b[0m                                  Traceback (most recent call last)",
      "\u001b[0;32m/tmp/ipykernel_27994/1199979867.py\u001b[0m in \u001b[0;36m<module>\u001b[0;34m\u001b[0m\n\u001b[1;32m      1\u001b[0m \u001b[0mtitle\u001b[0m\u001b[0;34m,\u001b[0m \u001b[0mmetadata\u001b[0m \u001b[0;34m=\u001b[0m \u001b[0mlist\u001b[0m\u001b[0;34m(\u001b[0m\u001b[0mbooks\u001b[0m\u001b[0;34m.\u001b[0m\u001b[0mitems\u001b[0m\u001b[0;34m(\u001b[0m\u001b[0;34m)\u001b[0m\u001b[0;34m)\u001b[0m\u001b[0;34m[\u001b[0m\u001b[0;36m2\u001b[0m\u001b[0;34m]\u001b[0m\u001b[0;34m\u001b[0m\u001b[0;34m\u001b[0m\u001b[0m\n\u001b[0;32m----> 2\u001b[0;31m \u001b[0mbook\u001b[0m \u001b[0;34m=\u001b[0m \u001b[0mproc\u001b[0m\u001b[0;34m.\u001b[0m\u001b[0mProcessedBook\u001b[0m\u001b[0;34m(\u001b[0m\u001b[0mtitle\u001b[0m\u001b[0;34m=\u001b[0m\u001b[0mtitle\u001b[0m\u001b[0;34m,\u001b[0m \u001b[0mmetadata\u001b[0m\u001b[0;34m=\u001b[0m\u001b[0mmetadata\u001b[0m\u001b[0;34m)\u001b[0m\u001b[0;34m\u001b[0m\u001b[0;34m\u001b[0m\u001b[0m\n\u001b[0m\u001b[1;32m      3\u001b[0m \u001b[0;34m\u001b[0m\u001b[0m\n\u001b[1;32m      4\u001b[0m \u001b[0mother_suspects\u001b[0m \u001b[0;34m=\u001b[0m \u001b[0;34m[\u001b[0m\u001b[0;34m]\u001b[0m\u001b[0;34m\u001b[0m\u001b[0;34m\u001b[0m\u001b[0m\n\u001b[1;32m      5\u001b[0m \u001b[0;34m\u001b[0m\u001b[0m\n",
      "\u001b[0;32m~/GDrive/Projects/UTK/rinehartAnalysis/nlp_libs/books/processed_book.py\u001b[0m in \u001b[0;36m__init__\u001b[0;34m(self, title, metadata)\u001b[0m\n\u001b[1;32m     28\u001b[0m         \u001b[0mself\u001b[0m\u001b[0;34m.\u001b[0m\u001b[0mtitle\u001b[0m \u001b[0;34m=\u001b[0m \u001b[0mtitle\u001b[0m\u001b[0;34m\u001b[0m\u001b[0;34m\u001b[0m\u001b[0m\n\u001b[1;32m     29\u001b[0m         \u001b[0mself\u001b[0m\u001b[0;34m.\u001b[0m\u001b[0murl\u001b[0m \u001b[0;34m=\u001b[0m \u001b[0mmetadata\u001b[0m\u001b[0;34m[\u001b[0m\u001b[0;34m'url'\u001b[0m\u001b[0;34m]\u001b[0m\u001b[0;34m\u001b[0m\u001b[0;34m\u001b[0m\u001b[0m\n\u001b[0;32m---> 30\u001b[0;31m         \u001b[0mself\u001b[0m\u001b[0;34m.\u001b[0m\u001b[0mdetectives\u001b[0m \u001b[0;34m=\u001b[0m \u001b[0mmetadata\u001b[0m\u001b[0;34m[\u001b[0m\u001b[0;34m'detectives'\u001b[0m\u001b[0;34m]\u001b[0m\u001b[0;34m\u001b[0m\u001b[0;34m\u001b[0m\u001b[0m\n\u001b[0m\u001b[1;32m     31\u001b[0m         \u001b[0mself\u001b[0m\u001b[0;34m.\u001b[0m\u001b[0msuspects\u001b[0m \u001b[0;34m=\u001b[0m \u001b[0mmetadata\u001b[0m\u001b[0;34m[\u001b[0m\u001b[0;34m'suspects'\u001b[0m\u001b[0;34m]\u001b[0m\u001b[0;34m\u001b[0m\u001b[0;34m\u001b[0m\u001b[0m\n\u001b[1;32m     32\u001b[0m         \u001b[0mself\u001b[0m\u001b[0;34m.\u001b[0m\u001b[0mperpetrator\u001b[0m \u001b[0;34m=\u001b[0m \u001b[0mmetadata\u001b[0m\u001b[0;34m[\u001b[0m\u001b[0;34m'perpetrator'\u001b[0m\u001b[0;34m]\u001b[0m\u001b[0;34m\u001b[0m\u001b[0;34m\u001b[0m\u001b[0m\n",
      "\u001b[0;31mKeyError\u001b[0m: 'detectives'"
     ]
    }
   ],
   "source": [
    "title, metadata = list(books.items())[2]\n",
    "book = proc.ProcessedBook(title=title, metadata=metadata) \n",
    "\n",
    "other_suspects = []\n",
    "\n",
    "dets_perp = []"
   ]
  },
  {
   "cell_type": "code",
   "execution_count": null,
   "metadata": {},
   "outputs": [],
   "source": [
    "suspects = extr.get_earliest_chapter_sentence_from_name_lists(book, other_suspects, 3, first=True)\n",
    "suspects"
   ]
  },
  {
   "cell_type": "code",
   "execution_count": null,
   "metadata": {},
   "outputs": [],
   "source": [
    "perp = extr.get_earliest_chapter_sentence_from_name_lists(book, [dets_perp[1]], 3, first=True)\n",
    "perp"
   ]
  },
  {
   "cell_type": "code",
   "execution_count": null,
   "metadata": {},
   "outputs": [],
   "source": [
    "dets_list = [[alias for alias in dets_perp[0] if alias != 'detective']]\n",
    "dets = extr.get_earliest_chapter_sentence_from_name_lists(book, dets_list, 3, first=True)\n",
    "dets"
   ]
  },
  {
   "cell_type": "code",
   "execution_count": null,
   "metadata": {},
   "outputs": [],
   "source": [
    "co_ocs = get_co_occurence(book, dets_perp, n_sents=2)"
   ]
  },
  {
   "cell_type": "markdown",
   "metadata": {},
   "source": [
    "## Get Crime Mentions, Details\n",
    "Link the first mention with the next close mentions"
   ]
  },
  {
   "cell_type": "code",
   "execution_count": null,
   "metadata": {},
   "outputs": [],
   "source": [
    "# Get Mentions\n",
    "crime_words = ['body']\n",
    "p_lookaheads = None#['“']\n",
    "crime_mentions = extr.get_crime_mentions(book=book, \n",
    "                                         crime_words=crime_words,\n",
    "                                         p_lookaheads=p_lookaheads,\n",
    "                                         print_instances=False)\n",
    "logger.nl()\n",
    "first_crime_mention = crime_mentions[0]\n",
    "logger.info(f\"First mention: Chapter: {first_crime_mention[0]}, Sentence: {first_crime_mention[1]}\",\n",
    "            attrs=['underline'])\n",
    "logger.info(f\"{book.clean[first_crime_mention[0]][first_crime_mention[1]]}\")\n",
    "# Get Details\n",
    "crime_details_tup = extr.get_crime_details(book=book, \n",
    "                                           crime_mentions=crime_mentions,\n",
    "                                           max_dist=10,\n",
    "                                           left_margin=1,\n",
    "                                           right_margin=2,)\n",
    "(first_crime_details, close_mentions_idx) = crime_details_tup\n",
    "logger.info(\"Crime Details Location: \", attrs=['underline'], color='yellow')\n",
    "logger.info(f\"First Instace: Paragraph {close_mentions_idx[0][0]}, \"\n",
    "            f\"Sentence {close_mentions_idx[0][1]}\")\n",
    "logger.info(f\"Last Instace: Paragraph {close_mentions_idx[-1][0]}, \"\n",
    "            f\"Sentence {close_mentions_idx[-1][1]}\")\n",
    "logger.info(\"Crime Details: \", attrs=['underline'], color='yellow')\n",
    "logger.info(f\"\\n{first_crime_details}\")"
   ]
  },
  {
   "cell_type": "markdown",
   "metadata": {},
   "source": [
    "## Get Crime Type\n"
   ]
  },
  {
   "cell_type": "code",
   "execution_count": null,
   "metadata": {},
   "outputs": [],
   "source": [
    "# Get Mentions\n",
    "crime_words = ['stabbed']\n",
    "p_lookaheads = ['body']\n",
    "crime_mentions = extr.get_crime_mentions(book=book, \n",
    "                                         crime_words=crime_words,\n",
    "                                         p_lookaheads=p_lookaheads,\n",
    "                                         print_instances=False)\n",
    "logger.nl()\n",
    "first_crime_mention = crime_mentions[0]\n",
    "logger.info(f\"First mention: Chapter: {first_crime_mention[0]}, Sentence: {first_crime_mention[1]}\",\n",
    "            attrs=['underline'])\n",
    "logger.info(f\"{book.clean[first_crime_mention[0]][first_crime_mention[1]]}\")\n",
    "# Get Details\n",
    "crime_details_tup = extr.get_crime_details(book=book, \n",
    "                                           crime_mentions=crime_mentions,\n",
    "                                           max_dist=10,\n",
    "                                           left_margin=1,\n",
    "                                           right_margin=2,)\n",
    "(first_crime_details, close_mentions_idx) = crime_details_tup\n",
    "logger.info(\"Crime Details Location: \", attrs=['underline'], color='yellow')\n",
    "logger.info(f\"First Instace: Paragraph {close_mentions_idx[0][0]}, \"\n",
    "            f\"Sentence {close_mentions_idx[0][1]}\")\n",
    "logger.info(f\"Last Instace: Paragraph {close_mentions_idx[-1][0]}, \"\n",
    "            f\"Sentence {close_mentions_idx[-1][1]}\")\n",
    "logger.info(\"Crime Details: \", attrs=['underline'], color='yellow')\n",
    "logger.info(f\"\\n{first_crime_details}\")"
   ]
  },
  {
   "cell_type": "markdown",
   "metadata": {},
   "source": [
    "# The After House - Plotting"
   ]
  },
  {
   "cell_type": "code",
   "execution_count": null,
   "metadata": {},
   "outputs": [],
   "source": [
    "title, metadata = list(books.items())[2]\n",
    "book = proc.ProcessedBook(title=title, metadata=metadata) \n",
    "\n",
    "other_suspects = []\n",
    "\n",
    "dets_perp = []"
   ]
  },
  {
   "cell_type": "markdown",
   "metadata": {},
   "source": [
    "# The Case of Jennifer Bryce - Analysis"
   ]
  },
  {
   "cell_type": "code",
   "execution_count": null,
   "metadata": {},
   "outputs": [],
   "source": [
    "title, metadata = list(books.items())[2]\n",
    "book = proc.ProcessedBook(title=title, metadata=metadata) \n",
    "\n",
    "other_suspects = []\n",
    "\n",
    "dets_perp = []"
   ]
  },
  {
   "cell_type": "code",
   "execution_count": null,
   "metadata": {},
   "outputs": [],
   "source": [
    "suspects = extr.get_earliest_chapter_sentence_from_name_lists(book, other_suspects, 3, first=True)\n",
    "suspects"
   ]
  },
  {
   "cell_type": "code",
   "execution_count": null,
   "metadata": {},
   "outputs": [],
   "source": [
    "perp = extr.get_earliest_chapter_sentence_from_name_lists(book, [dets_perp[1]], 3, first=True)\n",
    "perp"
   ]
  },
  {
   "cell_type": "code",
   "execution_count": null,
   "metadata": {},
   "outputs": [],
   "source": [
    "dets_list = [[alias for alias in dets_perp[0] if alias != 'detective']]\n",
    "dets = extr.get_earliest_chapter_sentence_from_name_lists(book, dets_list, 3, first=True)\n",
    "dets"
   ]
  },
  {
   "cell_type": "code",
   "execution_count": null,
   "metadata": {},
   "outputs": [],
   "source": [
    "co_ocs = extr.get_co_occurence(book, dets_perp, n_sents=2)"
   ]
  },
  {
   "cell_type": "markdown",
   "metadata": {},
   "source": [
    "## Get Crime Mentions, Details\n",
    "Link the first mention with the next close mentions"
   ]
  },
  {
   "cell_type": "code",
   "execution_count": null,
   "metadata": {},
   "outputs": [],
   "source": []
  },
  {
   "cell_type": "markdown",
   "metadata": {},
   "source": [
    "## Get Crime Type"
   ]
  },
  {
   "cell_type": "code",
   "execution_count": null,
   "metadata": {},
   "outputs": [],
   "source": []
  },
  {
   "cell_type": "markdown",
   "metadata": {},
   "source": [
    "# The Case of Jennifer Bryce - Plotting"
   ]
  },
  {
   "cell_type": "code",
   "execution_count": null,
   "metadata": {},
   "outputs": [],
   "source": []
  },
  {
   "cell_type": "markdown",
   "metadata": {},
   "source": [
    "# K - Analysis"
   ]
  },
  {
   "cell_type": "code",
   "execution_count": null,
   "metadata": {},
   "outputs": [],
   "source": [
    "# Load Circlular Staircase example\n",
    "title, metadata = list(books.items())[0]\n",
    "book = proc.ProcessedBook(title=title, metadata=metadata) \n",
    "\n",
    "other_suspects = [['gertrude innes', 'miss gertrude innes', 'miss gertrude', 'gertrude', 'miss innes', 'mis’ innes'],\n",
    "                  ['john bailey', 'jack bailey', 'mr. bailey', 'bailey', 'alex', 'alexander graham'],\n",
    "                  ['halsey innes', 'mr. halsey', 'halsey', 'mr. innes']]\n",
    "\n",
    "dets_perp = [['mr. jamieson', 'mr. winters', 'detective', 'jamieson', 'winters'],\n",
    "             ['anne watson', 'mrs. watson', 'mis’ watson']]"
   ]
  },
  {
   "cell_type": "code",
   "execution_count": null,
   "metadata": {},
   "outputs": [],
   "source": [
    "suspects = extr.get_earliest_chapter_sentence_from_name_lists(book, other_suspects, 3, first=True)\n",
    "suspects"
   ]
  },
  {
   "cell_type": "code",
   "execution_count": null,
   "metadata": {},
   "outputs": [],
   "source": [
    "perp = extr.get_earliest_chapter_sentence_from_name_lists(book, [dets_perp[1]], 3, first=True)\n",
    "perp"
   ]
  },
  {
   "cell_type": "code",
   "execution_count": null,
   "metadata": {},
   "outputs": [],
   "source": [
    "dets_list = [[alias for alias in dets_perp[0] if alias != 'detective']]\n",
    "dets = extr.get_earliest_chapter_sentence_from_name_lists(book, dets_list, 3, first=True)\n",
    "dets"
   ]
  },
  {
   "cell_type": "code",
   "execution_count": null,
   "metadata": {},
   "outputs": [],
   "source": [
    "co_ocs = extr.get_co_occurence(book, dets_perp, n_sents=2)"
   ]
  },
  {
   "cell_type": "markdown",
   "metadata": {},
   "source": [
    "## Get Crime Mentions, Details\n",
    "Link the first mention with the next close mentions"
   ]
  },
  {
   "cell_type": "code",
   "execution_count": null,
   "metadata": {},
   "outputs": [],
   "source": []
  },
  {
   "cell_type": "markdown",
   "metadata": {},
   "source": [
    "## Get Crime Type\n"
   ]
  },
  {
   "cell_type": "code",
   "execution_count": null,
   "metadata": {},
   "outputs": [],
   "source": []
  },
  {
   "cell_type": "markdown",
   "metadata": {},
   "source": [
    "# K - Plotting"
   ]
  },
  {
   "cell_type": "code",
   "execution_count": null,
   "metadata": {},
   "outputs": [],
   "source": []
  }
 ],
 "metadata": {
  "kernelspec": {
   "display_name": "Python 3 (ipykernel)",
   "language": "python",
   "name": "python3"
  },
  "language_info": {
   "codemirror_mode": {
    "name": "ipython",
    "version": 3
   },
   "file_extension": ".py",
   "mimetype": "text/x-python",
   "name": "python",
   "nbconvert_exporter": "python",
   "pygments_lexer": "ipython3",
   "version": "3.9.7"
  }
 },
 "nbformat": 4,
 "nbformat_minor": 1
}
